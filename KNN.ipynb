{
  "cells": [
    {
      "cell_type": "code",
      "execution_count": null,
      "metadata": {
        "id": "DGbh8to4MqC9"
      },
      "outputs": [],
      "source": [
        "import pandas as pd\n",
        "import numpy as np\n",
        "from scipy.interpolate import interp1d\n",
        "import glob\n",
        "from sklearn.preprocessing import StandardScaler\n",
        "from sklearn.neighbors import KNeighborsClassifier\n",
        "from sklearn.metrics import accuracy_score, confusion_matrix\n",
        "import matplotlib.pyplot as plt"
      ]
    },
    {
      "cell_type": "code",
      "execution_count": null,
      "metadata": {
        "id": "nLKIYpHMNwJF"
      },
      "outputs": [],
      "source": [
        "csv=glob.glob(\"/content/*.csv\")"
      ]
    },
    {
      "cell_type": "code",
      "execution_count": null,
      "metadata": {
        "colab": {
          "base_uri": "https://localhost:8080/",
          "height": 424
        },
        "id": "OwsPa5cOM3PC",
        "outputId": "2cd5a11b-2da9-4438-fe84-18bb3a135fbd"
      },
      "outputs": [
        {
          "output_type": "execute_result",
          "data": {
            "text/plain": [
              "                   1             2             3             4             5  \\\n",
              "0             106777         28469        197308        159105             0   \n",
              "1             106868         28584        197413        159166             0   \n",
              "2             107371         28840        197733        159248             0   \n",
              "3             107598         28883        197849        159265             0   \n",
              "4             107234         28641        197609        159191             0   \n",
              "...              ...           ...           ...           ...           ...   \n",
              "415605        302227        124706         87162         64304             0   \n",
              "415606        302202        124768         87113         64328             0   \n",
              "415607        302163        124814         87067         64352             0   \n",
              "415608        302166        124784         87081         64352             0   \n",
              "415609  end nine.jpg  end nine.jpg  end nine.jpg  end nine.jpg  end nine.jpg   \n",
              "\n",
              "                   6             7             8  \n",
              "0                  0             0             0  \n",
              "1                  0             0             0  \n",
              "2                  0             0             0  \n",
              "3                  0             0             0  \n",
              "4                  0             0             0  \n",
              "...              ...           ...           ...  \n",
              "415605             0             0             0  \n",
              "415606             0             0             0  \n",
              "415607             0             0             0  \n",
              "415608             0             0             0  \n",
              "415609  end nine.jpg  end nine.jpg  end nine.jpg  \n",
              "\n",
              "[415610 rows x 8 columns]"
            ],
            "text/html": [
              "\n",
              "  <div id=\"df-2c822a09-5a92-4889-b141-7434cfbc6539\" class=\"colab-df-container\">\n",
              "    <div>\n",
              "<style scoped>\n",
              "    .dataframe tbody tr th:only-of-type {\n",
              "        vertical-align: middle;\n",
              "    }\n",
              "\n",
              "    .dataframe tbody tr th {\n",
              "        vertical-align: top;\n",
              "    }\n",
              "\n",
              "    .dataframe thead th {\n",
              "        text-align: right;\n",
              "    }\n",
              "</style>\n",
              "<table border=\"1\" class=\"dataframe\">\n",
              "  <thead>\n",
              "    <tr style=\"text-align: right;\">\n",
              "      <th></th>\n",
              "      <th>1</th>\n",
              "      <th>2</th>\n",
              "      <th>3</th>\n",
              "      <th>4</th>\n",
              "      <th>5</th>\n",
              "      <th>6</th>\n",
              "      <th>7</th>\n",
              "      <th>8</th>\n",
              "    </tr>\n",
              "  </thead>\n",
              "  <tbody>\n",
              "    <tr>\n",
              "      <th>0</th>\n",
              "      <td>106777</td>\n",
              "      <td>28469</td>\n",
              "      <td>197308</td>\n",
              "      <td>159105</td>\n",
              "      <td>0</td>\n",
              "      <td>0</td>\n",
              "      <td>0</td>\n",
              "      <td>0</td>\n",
              "    </tr>\n",
              "    <tr>\n",
              "      <th>1</th>\n",
              "      <td>106868</td>\n",
              "      <td>28584</td>\n",
              "      <td>197413</td>\n",
              "      <td>159166</td>\n",
              "      <td>0</td>\n",
              "      <td>0</td>\n",
              "      <td>0</td>\n",
              "      <td>0</td>\n",
              "    </tr>\n",
              "    <tr>\n",
              "      <th>2</th>\n",
              "      <td>107371</td>\n",
              "      <td>28840</td>\n",
              "      <td>197733</td>\n",
              "      <td>159248</td>\n",
              "      <td>0</td>\n",
              "      <td>0</td>\n",
              "      <td>0</td>\n",
              "      <td>0</td>\n",
              "    </tr>\n",
              "    <tr>\n",
              "      <th>3</th>\n",
              "      <td>107598</td>\n",
              "      <td>28883</td>\n",
              "      <td>197849</td>\n",
              "      <td>159265</td>\n",
              "      <td>0</td>\n",
              "      <td>0</td>\n",
              "      <td>0</td>\n",
              "      <td>0</td>\n",
              "    </tr>\n",
              "    <tr>\n",
              "      <th>4</th>\n",
              "      <td>107234</td>\n",
              "      <td>28641</td>\n",
              "      <td>197609</td>\n",
              "      <td>159191</td>\n",
              "      <td>0</td>\n",
              "      <td>0</td>\n",
              "      <td>0</td>\n",
              "      <td>0</td>\n",
              "    </tr>\n",
              "    <tr>\n",
              "      <th>...</th>\n",
              "      <td>...</td>\n",
              "      <td>...</td>\n",
              "      <td>...</td>\n",
              "      <td>...</td>\n",
              "      <td>...</td>\n",
              "      <td>...</td>\n",
              "      <td>...</td>\n",
              "      <td>...</td>\n",
              "    </tr>\n",
              "    <tr>\n",
              "      <th>415605</th>\n",
              "      <td>302227</td>\n",
              "      <td>124706</td>\n",
              "      <td>87162</td>\n",
              "      <td>64304</td>\n",
              "      <td>0</td>\n",
              "      <td>0</td>\n",
              "      <td>0</td>\n",
              "      <td>0</td>\n",
              "    </tr>\n",
              "    <tr>\n",
              "      <th>415606</th>\n",
              "      <td>302202</td>\n",
              "      <td>124768</td>\n",
              "      <td>87113</td>\n",
              "      <td>64328</td>\n",
              "      <td>0</td>\n",
              "      <td>0</td>\n",
              "      <td>0</td>\n",
              "      <td>0</td>\n",
              "    </tr>\n",
              "    <tr>\n",
              "      <th>415607</th>\n",
              "      <td>302163</td>\n",
              "      <td>124814</td>\n",
              "      <td>87067</td>\n",
              "      <td>64352</td>\n",
              "      <td>0</td>\n",
              "      <td>0</td>\n",
              "      <td>0</td>\n",
              "      <td>0</td>\n",
              "    </tr>\n",
              "    <tr>\n",
              "      <th>415608</th>\n",
              "      <td>302166</td>\n",
              "      <td>124784</td>\n",
              "      <td>87081</td>\n",
              "      <td>64352</td>\n",
              "      <td>0</td>\n",
              "      <td>0</td>\n",
              "      <td>0</td>\n",
              "      <td>0</td>\n",
              "    </tr>\n",
              "    <tr>\n",
              "      <th>415609</th>\n",
              "      <td>end nine.jpg</td>\n",
              "      <td>end nine.jpg</td>\n",
              "      <td>end nine.jpg</td>\n",
              "      <td>end nine.jpg</td>\n",
              "      <td>end nine.jpg</td>\n",
              "      <td>end nine.jpg</td>\n",
              "      <td>end nine.jpg</td>\n",
              "      <td>end nine.jpg</td>\n",
              "    </tr>\n",
              "  </tbody>\n",
              "</table>\n",
              "<p>415610 rows × 8 columns</p>\n",
              "</div>\n",
              "    <div class=\"colab-df-buttons\">\n",
              "\n",
              "  <div class=\"colab-df-container\">\n",
              "    <button class=\"colab-df-convert\" onclick=\"convertToInteractive('df-2c822a09-5a92-4889-b141-7434cfbc6539')\"\n",
              "            title=\"Convert this dataframe to an interactive table.\"\n",
              "            style=\"display:none;\">\n",
              "\n",
              "  <svg xmlns=\"http://www.w3.org/2000/svg\" height=\"24px\" viewBox=\"0 -960 960 960\">\n",
              "    <path d=\"M120-120v-720h720v720H120Zm60-500h600v-160H180v160Zm220 220h160v-160H400v160Zm0 220h160v-160H400v160ZM180-400h160v-160H180v160Zm440 0h160v-160H620v160ZM180-180h160v-160H180v160Zm440 0h160v-160H620v160Z\"/>\n",
              "  </svg>\n",
              "    </button>\n",
              "\n",
              "  <style>\n",
              "    .colab-df-container {\n",
              "      display:flex;\n",
              "      gap: 12px;\n",
              "    }\n",
              "\n",
              "    .colab-df-convert {\n",
              "      background-color: #E8F0FE;\n",
              "      border: none;\n",
              "      border-radius: 50%;\n",
              "      cursor: pointer;\n",
              "      display: none;\n",
              "      fill: #1967D2;\n",
              "      height: 32px;\n",
              "      padding: 0 0 0 0;\n",
              "      width: 32px;\n",
              "    }\n",
              "\n",
              "    .colab-df-convert:hover {\n",
              "      background-color: #E2EBFA;\n",
              "      box-shadow: 0px 1px 2px rgba(60, 64, 67, 0.3), 0px 1px 3px 1px rgba(60, 64, 67, 0.15);\n",
              "      fill: #174EA6;\n",
              "    }\n",
              "\n",
              "    .colab-df-buttons div {\n",
              "      margin-bottom: 4px;\n",
              "    }\n",
              "\n",
              "    [theme=dark] .colab-df-convert {\n",
              "      background-color: #3B4455;\n",
              "      fill: #D2E3FC;\n",
              "    }\n",
              "\n",
              "    [theme=dark] .colab-df-convert:hover {\n",
              "      background-color: #434B5C;\n",
              "      box-shadow: 0px 1px 3px 1px rgba(0, 0, 0, 0.15);\n",
              "      filter: drop-shadow(0px 1px 2px rgba(0, 0, 0, 0.3));\n",
              "      fill: #FFFFFF;\n",
              "    }\n",
              "  </style>\n",
              "\n",
              "    <script>\n",
              "      const buttonEl =\n",
              "        document.querySelector('#df-2c822a09-5a92-4889-b141-7434cfbc6539 button.colab-df-convert');\n",
              "      buttonEl.style.display =\n",
              "        google.colab.kernel.accessAllowed ? 'block' : 'none';\n",
              "\n",
              "      async function convertToInteractive(key) {\n",
              "        const element = document.querySelector('#df-2c822a09-5a92-4889-b141-7434cfbc6539');\n",
              "        const dataTable =\n",
              "          await google.colab.kernel.invokeFunction('convertToInteractive',\n",
              "                                                    [key], {});\n",
              "        if (!dataTable) return;\n",
              "\n",
              "        const docLinkHtml = 'Like what you see? Visit the ' +\n",
              "          '<a target=\"_blank\" href=https://colab.research.google.com/notebooks/data_table.ipynb>data table notebook</a>'\n",
              "          + ' to learn more about interactive tables.';\n",
              "        element.innerHTML = '';\n",
              "        dataTable['output_type'] = 'display_data';\n",
              "        await google.colab.output.renderOutput(dataTable, element);\n",
              "        const docLink = document.createElement('div');\n",
              "        docLink.innerHTML = docLinkHtml;\n",
              "        element.appendChild(docLink);\n",
              "      }\n",
              "    </script>\n",
              "  </div>\n",
              "\n",
              "\n",
              "<div id=\"df-2264b5b0-6446-46e9-9b74-9e2f46b2c1ad\">\n",
              "  <button class=\"colab-df-quickchart\" onclick=\"quickchart('df-2264b5b0-6446-46e9-9b74-9e2f46b2c1ad')\"\n",
              "            title=\"Suggest charts\"\n",
              "            style=\"display:none;\">\n",
              "\n",
              "<svg xmlns=\"http://www.w3.org/2000/svg\" height=\"24px\"viewBox=\"0 0 24 24\"\n",
              "     width=\"24px\">\n",
              "    <g>\n",
              "        <path d=\"M19 3H5c-1.1 0-2 .9-2 2v14c0 1.1.9 2 2 2h14c1.1 0 2-.9 2-2V5c0-1.1-.9-2-2-2zM9 17H7v-7h2v7zm4 0h-2V7h2v10zm4 0h-2v-4h2v4z\"/>\n",
              "    </g>\n",
              "</svg>\n",
              "  </button>\n",
              "\n",
              "<style>\n",
              "  .colab-df-quickchart {\n",
              "      --bg-color: #E8F0FE;\n",
              "      --fill-color: #1967D2;\n",
              "      --hover-bg-color: #E2EBFA;\n",
              "      --hover-fill-color: #174EA6;\n",
              "      --disabled-fill-color: #AAA;\n",
              "      --disabled-bg-color: #DDD;\n",
              "  }\n",
              "\n",
              "  [theme=dark] .colab-df-quickchart {\n",
              "      --bg-color: #3B4455;\n",
              "      --fill-color: #D2E3FC;\n",
              "      --hover-bg-color: #434B5C;\n",
              "      --hover-fill-color: #FFFFFF;\n",
              "      --disabled-bg-color: #3B4455;\n",
              "      --disabled-fill-color: #666;\n",
              "  }\n",
              "\n",
              "  .colab-df-quickchart {\n",
              "    background-color: var(--bg-color);\n",
              "    border: none;\n",
              "    border-radius: 50%;\n",
              "    cursor: pointer;\n",
              "    display: none;\n",
              "    fill: var(--fill-color);\n",
              "    height: 32px;\n",
              "    padding: 0;\n",
              "    width: 32px;\n",
              "  }\n",
              "\n",
              "  .colab-df-quickchart:hover {\n",
              "    background-color: var(--hover-bg-color);\n",
              "    box-shadow: 0 1px 2px rgba(60, 64, 67, 0.3), 0 1px 3px 1px rgba(60, 64, 67, 0.15);\n",
              "    fill: var(--button-hover-fill-color);\n",
              "  }\n",
              "\n",
              "  .colab-df-quickchart-complete:disabled,\n",
              "  .colab-df-quickchart-complete:disabled:hover {\n",
              "    background-color: var(--disabled-bg-color);\n",
              "    fill: var(--disabled-fill-color);\n",
              "    box-shadow: none;\n",
              "  }\n",
              "\n",
              "  .colab-df-spinner {\n",
              "    border: 2px solid var(--fill-color);\n",
              "    border-color: transparent;\n",
              "    border-bottom-color: var(--fill-color);\n",
              "    animation:\n",
              "      spin 1s steps(1) infinite;\n",
              "  }\n",
              "\n",
              "  @keyframes spin {\n",
              "    0% {\n",
              "      border-color: transparent;\n",
              "      border-bottom-color: var(--fill-color);\n",
              "      border-left-color: var(--fill-color);\n",
              "    }\n",
              "    20% {\n",
              "      border-color: transparent;\n",
              "      border-left-color: var(--fill-color);\n",
              "      border-top-color: var(--fill-color);\n",
              "    }\n",
              "    30% {\n",
              "      border-color: transparent;\n",
              "      border-left-color: var(--fill-color);\n",
              "      border-top-color: var(--fill-color);\n",
              "      border-right-color: var(--fill-color);\n",
              "    }\n",
              "    40% {\n",
              "      border-color: transparent;\n",
              "      border-right-color: var(--fill-color);\n",
              "      border-top-color: var(--fill-color);\n",
              "    }\n",
              "    60% {\n",
              "      border-color: transparent;\n",
              "      border-right-color: var(--fill-color);\n",
              "    }\n",
              "    80% {\n",
              "      border-color: transparent;\n",
              "      border-right-color: var(--fill-color);\n",
              "      border-bottom-color: var(--fill-color);\n",
              "    }\n",
              "    90% {\n",
              "      border-color: transparent;\n",
              "      border-bottom-color: var(--fill-color);\n",
              "    }\n",
              "  }\n",
              "</style>\n",
              "\n",
              "  <script>\n",
              "    async function quickchart(key) {\n",
              "      const quickchartButtonEl =\n",
              "        document.querySelector('#' + key + ' button');\n",
              "      quickchartButtonEl.disabled = true;  // To prevent multiple clicks.\n",
              "      quickchartButtonEl.classList.add('colab-df-spinner');\n",
              "      try {\n",
              "        const charts = await google.colab.kernel.invokeFunction(\n",
              "            'suggestCharts', [key], {});\n",
              "      } catch (error) {\n",
              "        console.error('Error during call to suggestCharts:', error);\n",
              "      }\n",
              "      quickchartButtonEl.classList.remove('colab-df-spinner');\n",
              "      quickchartButtonEl.classList.add('colab-df-quickchart-complete');\n",
              "    }\n",
              "    (() => {\n",
              "      let quickchartButtonEl =\n",
              "        document.querySelector('#df-2264b5b0-6446-46e9-9b74-9e2f46b2c1ad button');\n",
              "      quickchartButtonEl.style.display =\n",
              "        google.colab.kernel.accessAllowed ? 'block' : 'none';\n",
              "    })();\n",
              "  </script>\n",
              "</div>\n",
              "\n",
              "  <div id=\"id_a517eed3-bb67-4471-9b1a-c0a9629a00ab\">\n",
              "    <style>\n",
              "      .colab-df-generate {\n",
              "        background-color: #E8F0FE;\n",
              "        border: none;\n",
              "        border-radius: 50%;\n",
              "        cursor: pointer;\n",
              "        display: none;\n",
              "        fill: #1967D2;\n",
              "        height: 32px;\n",
              "        padding: 0 0 0 0;\n",
              "        width: 32px;\n",
              "      }\n",
              "\n",
              "      .colab-df-generate:hover {\n",
              "        background-color: #E2EBFA;\n",
              "        box-shadow: 0px 1px 2px rgba(60, 64, 67, 0.3), 0px 1px 3px 1px rgba(60, 64, 67, 0.15);\n",
              "        fill: #174EA6;\n",
              "      }\n",
              "\n",
              "      [theme=dark] .colab-df-generate {\n",
              "        background-color: #3B4455;\n",
              "        fill: #D2E3FC;\n",
              "      }\n",
              "\n",
              "      [theme=dark] .colab-df-generate:hover {\n",
              "        background-color: #434B5C;\n",
              "        box-shadow: 0px 1px 3px 1px rgba(0, 0, 0, 0.15);\n",
              "        filter: drop-shadow(0px 1px 2px rgba(0, 0, 0, 0.3));\n",
              "        fill: #FFFFFF;\n",
              "      }\n",
              "    </style>\n",
              "    <button class=\"colab-df-generate\" onclick=\"generateWithVariable('comb_df')\"\n",
              "            title=\"Generate code using this dataframe.\"\n",
              "            style=\"display:none;\">\n",
              "\n",
              "  <svg xmlns=\"http://www.w3.org/2000/svg\" height=\"24px\"viewBox=\"0 0 24 24\"\n",
              "       width=\"24px\">\n",
              "    <path d=\"M7,19H8.4L18.45,9,17,7.55,7,17.6ZM5,21V16.75L18.45,3.32a2,2,0,0,1,2.83,0l1.4,1.43a1.91,1.91,0,0,1,.58,1.4,1.91,1.91,0,0,1-.58,1.4L9.25,21ZM18.45,9,17,7.55Zm-12,3A5.31,5.31,0,0,0,4.9,8.1,5.31,5.31,0,0,0,1,6.5,5.31,5.31,0,0,0,4.9,4.9,5.31,5.31,0,0,0,6.5,1,5.31,5.31,0,0,0,8.1,4.9,5.31,5.31,0,0,0,12,6.5,5.46,5.46,0,0,0,6.5,12Z\"/>\n",
              "  </svg>\n",
              "    </button>\n",
              "    <script>\n",
              "      (() => {\n",
              "      const buttonEl =\n",
              "        document.querySelector('#id_a517eed3-bb67-4471-9b1a-c0a9629a00ab button.colab-df-generate');\n",
              "      buttonEl.style.display =\n",
              "        google.colab.kernel.accessAllowed ? 'block' : 'none';\n",
              "\n",
              "      buttonEl.onclick = () => {\n",
              "        google.colab.notebook.generateWithVariable('comb_df');\n",
              "      }\n",
              "      })();\n",
              "    </script>\n",
              "  </div>\n",
              "\n",
              "    </div>\n",
              "  </div>\n"
            ],
            "application/vnd.google.colaboratory.intrinsic+json": {
              "type": "dataframe",
              "variable_name": "comb_df"
            }
          },
          "metadata": {},
          "execution_count": 3
        }
      ],
      "source": [
        "df=[]\n",
        "for files in csv:\n",
        "  tempdf=pd.read_csv(files)\n",
        "  tempdf.columns=['1','2','3','4','5','6','7','8']\n",
        "  df.append(tempdf)\n",
        "comb_df=pd.concat(df)\n",
        "comb_df.reset_index(drop=True, inplace=True)\n",
        "comb_df"
      ]
    },
    {
      "cell_type": "code",
      "execution_count": null,
      "metadata": {
        "id": "04_AQ6BsO2Of"
      },
      "outputs": [],
      "source": [
        "s=np.zeros((18,11),dtype=int)\n",
        "e=np.zeros((18,11),dtype=int)"
      ]
    },
    {
      "cell_type": "code",
      "execution_count": null,
      "metadata": {
        "id": "YESarTeWiZ4l"
      },
      "outputs": [],
      "source": [
        "start_markers=[\"start zero.png\",\"start one.png\",\"start two.jpg\",\"start three.jpg\",\"start four.jpg\",\"start five.jpg\",\"start six.jpg\",\"start seven.jpg\",\"start eight.jpg\",\"start nine.jpg\",\"start animal.jpg\"]\n",
        "end_markers=[\"end zero.png\",\"end one.png\",\"end two.jpg\",\"end three.jpg\",\"end four.jpg\",\"end five.jpg\",\"end six.jpg\",\"end seven.jpg\",\"end eight.jpg\",\"end nine.jpg\",\"end animal.jpg\"]"
      ]
    },
    {
      "cell_type": "code",
      "execution_count": null,
      "metadata": {
        "id": "HbVXvjU6iF5D"
      },
      "outputs": [],
      "source": [
        "for j in range(11):\n",
        "  fil=0\n",
        "  for i in range(len(comb_df)):\n",
        "      if(comb_df['1'].iloc[i]==start_markers[j]):\n",
        "        s[fil][j]=i\n",
        "        continue\n",
        "      if(comb_df['1'].iloc[i]==end_markers[j]):\n",
        "        e[fil][j]=i\n",
        "        fil+=1\n",
        "      if(fil==18):\n",
        "        break"
      ]
    },
    {
      "cell_type": "code",
      "execution_count": null,
      "metadata": {
        "colab": {
          "base_uri": "https://localhost:8080/"
        },
        "id": "xq5YGGhww89F",
        "outputId": "5b5320b3-4902-4104-ab94-e0ce6d1e5f9e"
      },
      "outputs": [
        {
          "output_type": "execute_result",
          "data": {
            "text/plain": [
              "array([[  8453,  16896,  12681,  21265,   2303,  10503,   4353,  23315,\n",
              "         14603,   6342,  18959],\n",
              "       [ 31896,  39516,  27994,  33818,  37583,  43300,  29846,  35740,\n",
              "         45094,  47016,  41359],\n",
              "       [ 50857,  63799,  65593,  56367,  54445,  67515,  58161,  52651,\n",
              "         60048,  69413,  61877],\n",
              "       [ 89679,  87886,  75072,  91559,  73150,  84298,  86092,  78788,\n",
              "         82504,  80582,  76866],\n",
              "       [102491,  94768, 114151, 110435, 106207,  96725, 100697, 112229,\n",
              "        108240,  98647, 104413],\n",
              "       [134264, 132342, 121194, 118888, 124910, 126785, 138099, 122988,\n",
              "        130474, 128626, 136170],\n",
              "       [149253, 145217, 153458, 143359, 141693, 157581, 153995, 160657,\n",
              "        151815, 159503, 147331],\n",
              "       [181852, 183718, 164872, 172570, 174364, 175774, 168854, 178080,\n",
              "        170776, 166872, 180002],\n",
              "       [197297, 193009, 207212, 199219, 187175, 205241, 203063, 201141,\n",
              "        195119, 189097, 191019],\n",
              "       [212030, 210236, 216002, 223413, 217796, 221640, 228816, 225100,\n",
              "        226894, 219718, 213952],\n",
              "       [243407, 245597, 236885, 247519, 249569, 254139, 251747, 234835,\n",
              "        241234, 239063, 232529],\n",
              "       [264046, 269428, 262124, 265840, 258408, 271436, 275450, 256614,\n",
              "        267762, 273400, 260294],\n",
              "       [295053, 287621, 282111, 278523, 285941, 289415, 291337, 280317,\n",
              "        284033, 293259, 296847],\n",
              "       [306452, 304779, 313884, 311962, 315806, 310168, 321572, 302635,\n",
              "        317697, 308374, 319650],\n",
              "       [325029, 337201, 343095, 345145, 330923, 333101, 326951, 329001,\n",
              "        335151, 341301, 339251],\n",
              "       [368078, 360646, 352267, 348474, 366284, 356930, 362568, 354880,\n",
              "        358809, 350524, 364490],\n",
              "       [381529, 390883, 371639, 373585, 377685, 387167, 379607, 385245,\n",
              "        383451, 388961, 375763],\n",
              "       [408050, 402028, 412225, 398312, 394596, 410100, 406000, 400231,\n",
              "        396518, 414328, 403950]])"
            ]
          },
          "metadata": {},
          "execution_count": 7
        }
      ],
      "source": [
        "s"
      ]
    },
    {
      "cell_type": "code",
      "execution_count": null,
      "metadata": {
        "colab": {
          "base_uri": "https://localhost:8080/"
        },
        "id": "axVo8XanyKn_",
        "outputId": "85f1d58f-8d57-48a9-8cad-6d302ce364ca"
      },
      "outputs": [
        {
          "output_type": "execute_result",
          "data": {
            "text/plain": [
              "array([[  9734,  18062,  13962,  22546,   3584,  11784,   5634,  24596,\n",
              "         15884,   7556,  20240],\n",
              "       [ 33177,  40737,  29205,  35099,  38815,  44581,  31127,  37021,\n",
              "         46375,  48297,  42659],\n",
              "       [ 52138,  65080,  66874,  57648,  55726,  68796,  59442,  53932,\n",
              "         61236,  70718,  63158],\n",
              "       [ 90961,  89167,  76353,  92755,  74303,  85579,  87373,  80069,\n",
              "         83785,  81863,  78147],\n",
              "       [103772,  95956, 115432, 111716, 107488,  98006, 101850, 113510,\n",
              "        109410,  99928, 105694],\n",
              "       [135545, 133623, 122347, 120425, 126191, 127985, 139389, 124269,\n",
              "        131701, 129907, 137339],\n",
              "       [150534, 145922, 153738, 145024, 142718, 158862, 157068, 162834,\n",
              "        152712, 160400, 148740],\n",
              "       [183077, 184999, 166035, 173851, 175645, 177567, 170135, 179361,\n",
              "        172057, 168085, 181283],\n",
              "       [198578, 194222, 208444, 200500, 188456, 206522, 204344, 202422,\n",
              "        196400, 190378, 192300],\n",
              "       [213311, 211517, 217283, 224587, 219077, 222921, 229969, 226381,\n",
              "        228175, 220999, 215233],\n",
              "       [244572, 246878, 238166, 248800, 250850, 255334, 253028, 236116,\n",
              "        242394, 240344, 233810],\n",
              "       [265327, 270709, 263405, 267121, 259689, 272631, 276731, 257767,\n",
              "        268915, 274553, 261483],\n",
              "       [296334, 288774, 283392, 279804, 287108, 290696, 292618, 281598,\n",
              "        285314, 294540, 298128],\n",
              "       [307733, 305939, 315165, 313243, 317087, 311449, 322853, 304017,\n",
              "        318881, 309655, 320931],\n",
              "       [326310, 338482, 344376, 346426, 332204, 334382, 328232, 330282,\n",
              "        336432, 342454, 340532],\n",
              "       [369359, 361927, 353471, 349755, 367565, 358211, 363849, 356161,\n",
              "        360005, 351805, 365771],\n",
              "       [382810, 392164, 372944, 374866, 378966, 388448, 380760, 386526,\n",
              "        384604, 390242, 376788],\n",
              "       [409331, 403309, 413431, 399593, 395877, 411509, 407281, 401387,\n",
              "        397799, 415609, 405231]])"
            ]
          },
          "metadata": {},
          "execution_count": 8
        }
      ],
      "source": [
        "e"
      ]
    },
    {
      "cell_type": "code",
      "execution_count": null,
      "metadata": {
        "id": "oWS8NnKIyL0D"
      },
      "outputs": [],
      "source": [
        "from pywt import wavedec\n",
        "from sklearn.preprocessing import StandardScaler\n",
        "from scipy.signal import butter, lfilter\n",
        "from scipy.stats import skew, kurtosis\n",
        "def feature_array(array, target_length):\n",
        "    input_indices = np.linspace(0, len(array)-1, len(array))\n",
        "    resampled_indices =np.linspace(0,len(array)-1,target_length)\n",
        "    interpolator =interp1d(input_indices,array,'linear')\n",
        "    resampled_array =interpolator(resampled_indices)\n",
        "    nyquist = 0.5 * 256\n",
        "    normal_cutoff = (0.4999/nyquist) / nyquist\n",
        "    b, a = butter(4, normal_cutoff, btype='low', analog=False)\n",
        "    filtered_signal =np.array(lfilter(b, a, resampled_array))\n",
        "    scaler = StandardScaler()\n",
        "    resampled_array=scaler.fit_transform(filtered_signal.reshape(-1, 1)).reshape(-1)\n",
        "    coeff=np.hstack(wavedec(resampled_array, 'dmey', level=4))\n",
        "    scaler = StandardScaler()\n",
        "    coeff=scaler.fit_transform(coeff.reshape(-1, 1)).reshape(-1)\n",
        "    return np.array(coeff)"
      ]
    },
    {
      "cell_type": "code",
      "execution_count": null,
      "metadata": {
        "id": "C5WBtTs5iqd1"
      },
      "outputs": [],
      "source": [
        "x=[]\n",
        "y=[]\n",
        "for i in range(10):\n",
        "    for j in range(18):\n",
        "        x.append(\n",
        "            np.column_stack((feature_array(comb_df['1'].loc[(s[j][i]+1):(e[j][i]-1)].to_numpy().astype(int), 1280).flatten(),\n",
        "            feature_array(comb_df['2'].loc[(s[j][i]+1):(e[j][i]-1)].to_numpy().astype(int), 1280).flatten(),\n",
        "            feature_array(comb_df['3'].loc[(s[j][i]+1):(e[j][i]-1)].to_numpy().astype(int), 1280).flatten(),\n",
        "            feature_array(comb_df['4'].loc[(s[j][i]+1):(e[j][i]-1)].to_numpy().astype(int), 1280).flatten()))\n",
        "        )\n",
        "        y.append(np.full(1522,i))\n",
        "\n",
        "\n",
        "x = np.array(x)\n",
        "y = np.array(y)"
      ]
    },
    {
      "cell_type": "code",
      "source": [
        "x.shape"
      ],
      "metadata": {
        "colab": {
          "base_uri": "https://localhost:8080/"
        },
        "id": "rjTUqyxR_i_0",
        "outputId": "e5d7996c-b235-4851-da02-22975726b558"
      },
      "execution_count": null,
      "outputs": [
        {
          "output_type": "execute_result",
          "data": {
            "text/plain": [
              "(180, 1522, 4)"
            ]
          },
          "metadata": {},
          "execution_count": 188
        }
      ]
    },
    {
      "cell_type": "code",
      "source": [
        "y.shape"
      ],
      "metadata": {
        "colab": {
          "base_uri": "https://localhost:8080/"
        },
        "id": "IE8M16Rzua-P",
        "outputId": "98ad36de-5b44-4776-edf1-77c1b8b8b1a8"
      },
      "execution_count": null,
      "outputs": [
        {
          "output_type": "execute_result",
          "data": {
            "text/plain": [
              "(180, 1522)"
            ]
          },
          "metadata": {},
          "execution_count": 189
        }
      ]
    },
    {
      "cell_type": "code",
      "source": [
        "x=x.flatten()\n",
        "x=x.reshape(-1,4)\n",
        "x.shape"
      ],
      "metadata": {
        "colab": {
          "base_uri": "https://localhost:8080/"
        },
        "id": "mtfGjEZ-s1G8",
        "outputId": "42810645-060e-46f0-eab5-454be7abc3a4"
      },
      "execution_count": null,
      "outputs": [
        {
          "output_type": "execute_result",
          "data": {
            "text/plain": [
              "(273960, 4)"
            ]
          },
          "metadata": {},
          "execution_count": 190
        }
      ]
    },
    {
      "cell_type": "code",
      "source": [
        "y=y.flatten()\n",
        "y.shape"
      ],
      "metadata": {
        "colab": {
          "base_uri": "https://localhost:8080/"
        },
        "id": "ohkleJ21t8g8",
        "outputId": "c77d0e74-7268-432e-f42e-a5c1da0fa2c2"
      },
      "execution_count": null,
      "outputs": [
        {
          "output_type": "execute_result",
          "data": {
            "text/plain": [
              "(273960,)"
            ]
          },
          "metadata": {},
          "execution_count": 191
        }
      ]
    },
    {
      "cell_type": "code",
      "execution_count": null,
      "metadata": {
        "id": "FOQNwthIGqXE"
      },
      "outputs": [],
      "source": [
        "from sklearn.model_selection import train_test_split\n",
        "x_train, x_test, y_train, y_test = train_test_split(x, y, test_size=0.2, random_state=42, stratify=y)"
      ]
    },
    {
      "cell_type": "code",
      "source": [
        "x_test,x_val,y_test,y_val=train_test_split(x_test,y_test,test_size=0.5,random_state=42, stratify=y_test)"
      ],
      "metadata": {
        "id": "nMpVnYCcy3Uh"
      },
      "execution_count": null,
      "outputs": []
    },
    {
      "cell_type": "markdown",
      "metadata": {
        "id": "Reg9cuZL2hiS"
      },
      "source": [
        "KNN"
      ]
    },
    {
      "cell_type": "code",
      "source": [
        "x_train_val = np.concatenate((x_train, x_val), axis=0)\n",
        "y_train_val = np.concatenate((y_train, y_val), axis=0)"
      ],
      "metadata": {
        "id": "KedO5bvhRP5S"
      },
      "execution_count": null,
      "outputs": []
    },
    {
      "cell_type": "code",
      "source": [
        "from sklearn.model_selection import GridSearchCV\n",
        "knn = KNeighborsClassifier()\n",
        "param_grid = {\n",
        "    'n_neighbors': [5,10,15,20],\n",
        "    'metric': ['euclidean', 'manhattan'],\n",
        "    'weights': ['uniform', 'distance'],\n",
        "    }\n",
        "\n",
        "grid_search = GridSearchCV(knn, param_grid, cv=10, scoring='accuracy',verbose=2)\n",
        "grid_search.fit(x_train_val, y_train_val)"
      ],
      "metadata": {
        "colab": {
          "base_uri": "https://localhost:8080/",
          "height": 1000
        },
        "id": "xP52Q5QKHPES",
        "outputId": "b4197926-2e55-4433-937c-ed1ce877cf70"
      },
      "execution_count": null,
      "outputs": [
        {
          "output_type": "stream",
          "name": "stdout",
          "text": [
            "Fitting 10 folds for each of 16 candidates, totalling 160 fits\n",
            "[CV] END ...metric=euclidean, n_neighbors=5, weights=uniform; total time=   2.0s\n",
            "[CV] END ...metric=euclidean, n_neighbors=5, weights=uniform; total time=   2.0s\n",
            "[CV] END ...metric=euclidean, n_neighbors=5, weights=uniform; total time=   2.8s\n",
            "[CV] END ...metric=euclidean, n_neighbors=5, weights=uniform; total time=   1.8s\n",
            "[CV] END ...metric=euclidean, n_neighbors=5, weights=uniform; total time=   1.7s\n",
            "[CV] END ...metric=euclidean, n_neighbors=5, weights=uniform; total time=   1.8s\n",
            "[CV] END ...metric=euclidean, n_neighbors=5, weights=uniform; total time=   1.8s\n",
            "[CV] END ...metric=euclidean, n_neighbors=5, weights=uniform; total time=   1.7s\n",
            "[CV] END ...metric=euclidean, n_neighbors=5, weights=uniform; total time=   1.8s\n",
            "[CV] END ...metric=euclidean, n_neighbors=5, weights=uniform; total time=   2.6s\n",
            "[CV] END ..metric=euclidean, n_neighbors=5, weights=distance; total time=   0.6s\n",
            "[CV] END ..metric=euclidean, n_neighbors=5, weights=distance; total time=   0.5s\n",
            "[CV] END ..metric=euclidean, n_neighbors=5, weights=distance; total time=   0.5s\n",
            "[CV] END ..metric=euclidean, n_neighbors=5, weights=distance; total time=   0.5s\n",
            "[CV] END ..metric=euclidean, n_neighbors=5, weights=distance; total time=   0.6s\n",
            "[CV] END ..metric=euclidean, n_neighbors=5, weights=distance; total time=   0.6s\n",
            "[CV] END ..metric=euclidean, n_neighbors=5, weights=distance; total time=   0.5s\n",
            "[CV] END ..metric=euclidean, n_neighbors=5, weights=distance; total time=   0.5s\n",
            "[CV] END ..metric=euclidean, n_neighbors=5, weights=distance; total time=   0.5s\n",
            "[CV] END ..metric=euclidean, n_neighbors=5, weights=distance; total time=   0.5s\n",
            "[CV] END ..metric=euclidean, n_neighbors=10, weights=uniform; total time=   1.9s\n",
            "[CV] END ..metric=euclidean, n_neighbors=10, weights=uniform; total time=   1.8s\n",
            "[CV] END ..metric=euclidean, n_neighbors=10, weights=uniform; total time=   2.3s\n",
            "[CV] END ..metric=euclidean, n_neighbors=10, weights=uniform; total time=   2.7s\n",
            "[CV] END ..metric=euclidean, n_neighbors=10, weights=uniform; total time=   1.8s\n",
            "[CV] END ..metric=euclidean, n_neighbors=10, weights=uniform; total time=   1.9s\n",
            "[CV] END ..metric=euclidean, n_neighbors=10, weights=uniform; total time=   1.8s\n",
            "[CV] END ..metric=euclidean, n_neighbors=10, weights=uniform; total time=   2.1s\n",
            "[CV] END ..metric=euclidean, n_neighbors=10, weights=uniform; total time=   1.9s\n",
            "[CV] END ..metric=euclidean, n_neighbors=10, weights=uniform; total time=   2.8s\n",
            "[CV] END .metric=euclidean, n_neighbors=10, weights=distance; total time=   0.8s\n",
            "[CV] END .metric=euclidean, n_neighbors=10, weights=distance; total time=   0.7s\n",
            "[CV] END .metric=euclidean, n_neighbors=10, weights=distance; total time=   0.8s\n",
            "[CV] END .metric=euclidean, n_neighbors=10, weights=distance; total time=   0.7s\n",
            "[CV] END .metric=euclidean, n_neighbors=10, weights=distance; total time=   0.6s\n",
            "[CV] END .metric=euclidean, n_neighbors=10, weights=distance; total time=   0.6s\n",
            "[CV] END .metric=euclidean, n_neighbors=10, weights=distance; total time=   0.8s\n",
            "[CV] END .metric=euclidean, n_neighbors=10, weights=distance; total time=   0.8s\n",
            "[CV] END .metric=euclidean, n_neighbors=10, weights=distance; total time=   0.7s\n",
            "[CV] END .metric=euclidean, n_neighbors=10, weights=distance; total time=   0.6s\n",
            "[CV] END ..metric=euclidean, n_neighbors=15, weights=uniform; total time=   1.8s\n",
            "[CV] END ..metric=euclidean, n_neighbors=15, weights=uniform; total time=   2.4s\n",
            "[CV] END ..metric=euclidean, n_neighbors=15, weights=uniform; total time=   2.7s\n",
            "[CV] END ..metric=euclidean, n_neighbors=15, weights=uniform; total time=   1.8s\n",
            "[CV] END ..metric=euclidean, n_neighbors=15, weights=uniform; total time=   2.1s\n",
            "[CV] END ..metric=euclidean, n_neighbors=15, weights=uniform; total time=   2.0s\n",
            "[CV] END ..metric=euclidean, n_neighbors=15, weights=uniform; total time=   1.9s\n",
            "[CV] END ..metric=euclidean, n_neighbors=15, weights=uniform; total time=   1.9s\n",
            "[CV] END ..metric=euclidean, n_neighbors=15, weights=uniform; total time=   2.8s\n",
            "[CV] END ..metric=euclidean, n_neighbors=15, weights=uniform; total time=   2.2s\n",
            "[CV] END .metric=euclidean, n_neighbors=15, weights=distance; total time=   0.7s\n",
            "[CV] END .metric=euclidean, n_neighbors=15, weights=distance; total time=   0.8s\n",
            "[CV] END .metric=euclidean, n_neighbors=15, weights=distance; total time=   0.8s\n",
            "[CV] END .metric=euclidean, n_neighbors=15, weights=distance; total time=   0.7s\n",
            "[CV] END .metric=euclidean, n_neighbors=15, weights=distance; total time=   0.7s\n",
            "[CV] END .metric=euclidean, n_neighbors=15, weights=distance; total time=   0.8s\n",
            "[CV] END .metric=euclidean, n_neighbors=15, weights=distance; total time=   0.8s\n",
            "[CV] END .metric=euclidean, n_neighbors=15, weights=distance; total time=   0.7s\n",
            "[CV] END .metric=euclidean, n_neighbors=15, weights=distance; total time=   0.9s\n",
            "[CV] END .metric=euclidean, n_neighbors=15, weights=distance; total time=   0.8s\n",
            "[CV] END ..metric=euclidean, n_neighbors=20, weights=uniform; total time=   2.4s\n",
            "[CV] END ..metric=euclidean, n_neighbors=20, weights=uniform; total time=   2.6s\n",
            "[CV] END ..metric=euclidean, n_neighbors=20, weights=uniform; total time=   2.0s\n",
            "[CV] END ..metric=euclidean, n_neighbors=20, weights=uniform; total time=   2.0s\n",
            "[CV] END ..metric=euclidean, n_neighbors=20, weights=uniform; total time=   1.9s\n",
            "[CV] END ..metric=euclidean, n_neighbors=20, weights=uniform; total time=   2.0s\n",
            "[CV] END ..metric=euclidean, n_neighbors=20, weights=uniform; total time=   2.1s\n",
            "[CV] END ..metric=euclidean, n_neighbors=20, weights=uniform; total time=   2.9s\n",
            "[CV] END ..metric=euclidean, n_neighbors=20, weights=uniform; total time=   2.1s\n",
            "[CV] END ..metric=euclidean, n_neighbors=20, weights=uniform; total time=   2.0s\n",
            "[CV] END .metric=euclidean, n_neighbors=20, weights=distance; total time=   0.8s\n",
            "[CV] END .metric=euclidean, n_neighbors=20, weights=distance; total time=   0.8s\n",
            "[CV] END .metric=euclidean, n_neighbors=20, weights=distance; total time=   0.9s\n",
            "[CV] END .metric=euclidean, n_neighbors=20, weights=distance; total time=   1.0s\n",
            "[CV] END .metric=euclidean, n_neighbors=20, weights=distance; total time=   0.9s\n",
            "[CV] END .metric=euclidean, n_neighbors=20, weights=distance; total time=   1.0s\n",
            "[CV] END .metric=euclidean, n_neighbors=20, weights=distance; total time=   1.1s\n",
            "[CV] END .metric=euclidean, n_neighbors=20, weights=distance; total time=   1.3s\n",
            "[CV] END .metric=euclidean, n_neighbors=20, weights=distance; total time=   1.2s\n",
            "[CV] END .metric=euclidean, n_neighbors=20, weights=distance; total time=   0.8s\n",
            "[CV] END ...metric=manhattan, n_neighbors=5, weights=uniform; total time=   2.2s\n",
            "[CV] END ...metric=manhattan, n_neighbors=5, weights=uniform; total time=   2.1s\n",
            "[CV] END ...metric=manhattan, n_neighbors=5, weights=uniform; total time=   1.9s\n",
            "[CV] END ...metric=manhattan, n_neighbors=5, weights=uniform; total time=   1.9s\n",
            "[CV] END ...metric=manhattan, n_neighbors=5, weights=uniform; total time=   2.3s\n",
            "[CV] END ...metric=manhattan, n_neighbors=5, weights=uniform; total time=   2.7s\n",
            "[CV] END ...metric=manhattan, n_neighbors=5, weights=uniform; total time=   2.0s\n",
            "[CV] END ...metric=manhattan, n_neighbors=5, weights=uniform; total time=   2.0s\n",
            "[CV] END ...metric=manhattan, n_neighbors=5, weights=uniform; total time=   1.9s\n",
            "[CV] END ...metric=manhattan, n_neighbors=5, weights=uniform; total time=   2.1s\n",
            "[CV] END ..metric=manhattan, n_neighbors=5, weights=distance; total time=   0.7s\n",
            "[CV] END ..metric=manhattan, n_neighbors=5, weights=distance; total time=   1.3s\n",
            "[CV] END ..metric=manhattan, n_neighbors=5, weights=distance; total time=   1.3s\n",
            "[CV] END ..metric=manhattan, n_neighbors=5, weights=distance; total time=   1.2s\n",
            "[CV] END ..metric=manhattan, n_neighbors=5, weights=distance; total time=   0.8s\n",
            "[CV] END ..metric=manhattan, n_neighbors=5, weights=distance; total time=   0.9s\n",
            "[CV] END ..metric=manhattan, n_neighbors=5, weights=distance; total time=   0.8s\n",
            "[CV] END ..metric=manhattan, n_neighbors=5, weights=distance; total time=   0.8s\n",
            "[CV] END ..metric=manhattan, n_neighbors=5, weights=distance; total time=   0.7s\n",
            "[CV] END ..metric=manhattan, n_neighbors=5, weights=distance; total time=   0.7s\n",
            "[CV] END ..metric=manhattan, n_neighbors=10, weights=uniform; total time=   2.1s\n",
            "[CV] END ..metric=manhattan, n_neighbors=10, weights=uniform; total time=   2.1s\n",
            "[CV] END ..metric=manhattan, n_neighbors=10, weights=uniform; total time=   2.9s\n",
            "[CV] END ..metric=manhattan, n_neighbors=10, weights=uniform; total time=   2.8s\n",
            "[CV] END ..metric=manhattan, n_neighbors=10, weights=uniform; total time=   2.2s\n",
            "[CV] END ..metric=manhattan, n_neighbors=10, weights=uniform; total time=   2.1s\n",
            "[CV] END ..metric=manhattan, n_neighbors=10, weights=uniform; total time=   2.4s\n",
            "[CV] END ..metric=manhattan, n_neighbors=10, weights=uniform; total time=   2.2s\n",
            "[CV] END ..metric=manhattan, n_neighbors=10, weights=uniform; total time=   3.3s\n",
            "[CV] END ..metric=manhattan, n_neighbors=10, weights=uniform; total time=   2.0s\n",
            "[CV] END .metric=manhattan, n_neighbors=10, weights=distance; total time=   1.2s\n",
            "[CV] END .metric=manhattan, n_neighbors=10, weights=distance; total time=   0.9s\n",
            "[CV] END .metric=manhattan, n_neighbors=10, weights=distance; total time=   0.9s\n",
            "[CV] END .metric=manhattan, n_neighbors=10, weights=distance; total time=   1.2s\n",
            "[CV] END .metric=manhattan, n_neighbors=10, weights=distance; total time=   1.2s\n",
            "[CV] END .metric=manhattan, n_neighbors=10, weights=distance; total time=   1.0s\n",
            "[CV] END .metric=manhattan, n_neighbors=10, weights=distance; total time=   1.2s\n",
            "[CV] END .metric=manhattan, n_neighbors=10, weights=distance; total time=   1.9s\n",
            "[CV] END .metric=manhattan, n_neighbors=10, weights=distance; total time=   1.5s\n",
            "[CV] END .metric=manhattan, n_neighbors=10, weights=distance; total time=   0.9s\n",
            "[CV] END ..metric=manhattan, n_neighbors=15, weights=uniform; total time=   2.2s\n",
            "[CV] END ..metric=manhattan, n_neighbors=15, weights=uniform; total time=   2.3s\n",
            "[CV] END ..metric=manhattan, n_neighbors=15, weights=uniform; total time=   2.2s\n",
            "[CV] END ..metric=manhattan, n_neighbors=15, weights=uniform; total time=   2.2s\n",
            "[CV] END ..metric=manhattan, n_neighbors=15, weights=uniform; total time=   3.6s\n",
            "[CV] END ..metric=manhattan, n_neighbors=15, weights=uniform; total time=   2.5s\n",
            "[CV] END ..metric=manhattan, n_neighbors=15, weights=uniform; total time=   2.3s\n",
            "[CV] END ..metric=manhattan, n_neighbors=15, weights=uniform; total time=   2.7s\n",
            "[CV] END ..metric=manhattan, n_neighbors=15, weights=uniform; total time=   2.2s\n",
            "[CV] END ..metric=manhattan, n_neighbors=15, weights=uniform; total time=   3.5s\n",
            "[CV] END .metric=manhattan, n_neighbors=15, weights=distance; total time=   1.0s\n",
            "[CV] END .metric=manhattan, n_neighbors=15, weights=distance; total time=   1.0s\n",
            "[CV] END .metric=manhattan, n_neighbors=15, weights=distance; total time=   1.1s\n",
            "[CV] END .metric=manhattan, n_neighbors=15, weights=distance; total time=   1.1s\n",
            "[CV] END .metric=manhattan, n_neighbors=15, weights=distance; total time=   1.0s\n",
            "[CV] END .metric=manhattan, n_neighbors=15, weights=distance; total time=   1.0s\n",
            "[CV] END .metric=manhattan, n_neighbors=15, weights=distance; total time=   1.0s\n",
            "[CV] END .metric=manhattan, n_neighbors=15, weights=distance; total time=   1.0s\n",
            "[CV] END .metric=manhattan, n_neighbors=15, weights=distance; total time=   1.1s\n",
            "[CV] END .metric=manhattan, n_neighbors=15, weights=distance; total time=   1.7s\n",
            "[CV] END ..metric=manhattan, n_neighbors=20, weights=uniform; total time=   3.0s\n",
            "[CV] END ..metric=manhattan, n_neighbors=20, weights=uniform; total time=   2.3s\n",
            "[CV] END ..metric=manhattan, n_neighbors=20, weights=uniform; total time=   2.5s\n",
            "[CV] END ..metric=manhattan, n_neighbors=20, weights=uniform; total time=   2.3s\n",
            "[CV] END ..metric=manhattan, n_neighbors=20, weights=uniform; total time=   2.8s\n",
            "[CV] END ..metric=manhattan, n_neighbors=20, weights=uniform; total time=   3.2s\n",
            "[CV] END ..metric=manhattan, n_neighbors=20, weights=uniform; total time=   2.3s\n",
            "[CV] END ..metric=manhattan, n_neighbors=20, weights=uniform; total time=   2.2s\n",
            "[CV] END ..metric=manhattan, n_neighbors=20, weights=uniform; total time=   2.4s\n",
            "[CV] END ..metric=manhattan, n_neighbors=20, weights=uniform; total time=   2.9s\n",
            "[CV] END .metric=manhattan, n_neighbors=20, weights=distance; total time=   2.0s\n",
            "[CV] END .metric=manhattan, n_neighbors=20, weights=distance; total time=   1.3s\n",
            "[CV] END .metric=manhattan, n_neighbors=20, weights=distance; total time=   1.5s\n",
            "[CV] END .metric=manhattan, n_neighbors=20, weights=distance; total time=   1.2s\n",
            "[CV] END .metric=manhattan, n_neighbors=20, weights=distance; total time=   1.2s\n",
            "[CV] END .metric=manhattan, n_neighbors=20, weights=distance; total time=   1.2s\n",
            "[CV] END .metric=manhattan, n_neighbors=20, weights=distance; total time=   1.2s\n",
            "[CV] END .metric=manhattan, n_neighbors=20, weights=distance; total time=   1.2s\n",
            "[CV] END .metric=manhattan, n_neighbors=20, weights=distance; total time=   1.2s\n",
            "[CV] END .metric=manhattan, n_neighbors=20, weights=distance; total time=   1.7s\n"
          ]
        },
        {
          "output_type": "execute_result",
          "data": {
            "text/plain": [
              "GridSearchCV(cv=10, estimator=KNeighborsClassifier(),\n",
              "             param_grid={'metric': ['euclidean', 'manhattan'],\n",
              "                         'n_neighbors': [5, 10, 15, 20],\n",
              "                         'weights': ['uniform', 'distance']},\n",
              "             scoring='accuracy', verbose=2)"
            ],
            "text/html": [
              "<style>#sk-container-id-35 {color: black;background-color: white;}#sk-container-id-35 pre{padding: 0;}#sk-container-id-35 div.sk-toggleable {background-color: white;}#sk-container-id-35 label.sk-toggleable__label {cursor: pointer;display: block;width: 100%;margin-bottom: 0;padding: 0.3em;box-sizing: border-box;text-align: center;}#sk-container-id-35 label.sk-toggleable__label-arrow:before {content: \"▸\";float: left;margin-right: 0.25em;color: #696969;}#sk-container-id-35 label.sk-toggleable__label-arrow:hover:before {color: black;}#sk-container-id-35 div.sk-estimator:hover label.sk-toggleable__label-arrow:before {color: black;}#sk-container-id-35 div.sk-toggleable__content {max-height: 0;max-width: 0;overflow: hidden;text-align: left;background-color: #f0f8ff;}#sk-container-id-35 div.sk-toggleable__content pre {margin: 0.2em;color: black;border-radius: 0.25em;background-color: #f0f8ff;}#sk-container-id-35 input.sk-toggleable__control:checked~div.sk-toggleable__content {max-height: 200px;max-width: 100%;overflow: auto;}#sk-container-id-35 input.sk-toggleable__control:checked~label.sk-toggleable__label-arrow:before {content: \"▾\";}#sk-container-id-35 div.sk-estimator input.sk-toggleable__control:checked~label.sk-toggleable__label {background-color: #d4ebff;}#sk-container-id-35 div.sk-label input.sk-toggleable__control:checked~label.sk-toggleable__label {background-color: #d4ebff;}#sk-container-id-35 input.sk-hidden--visually {border: 0;clip: rect(1px 1px 1px 1px);clip: rect(1px, 1px, 1px, 1px);height: 1px;margin: -1px;overflow: hidden;padding: 0;position: absolute;width: 1px;}#sk-container-id-35 div.sk-estimator {font-family: monospace;background-color: #f0f8ff;border: 1px dotted black;border-radius: 0.25em;box-sizing: border-box;margin-bottom: 0.5em;}#sk-container-id-35 div.sk-estimator:hover {background-color: #d4ebff;}#sk-container-id-35 div.sk-parallel-item::after {content: \"\";width: 100%;border-bottom: 1px solid gray;flex-grow: 1;}#sk-container-id-35 div.sk-label:hover label.sk-toggleable__label {background-color: #d4ebff;}#sk-container-id-35 div.sk-serial::before {content: \"\";position: absolute;border-left: 1px solid gray;box-sizing: border-box;top: 0;bottom: 0;left: 50%;z-index: 0;}#sk-container-id-35 div.sk-serial {display: flex;flex-direction: column;align-items: center;background-color: white;padding-right: 0.2em;padding-left: 0.2em;position: relative;}#sk-container-id-35 div.sk-item {position: relative;z-index: 1;}#sk-container-id-35 div.sk-parallel {display: flex;align-items: stretch;justify-content: center;background-color: white;position: relative;}#sk-container-id-35 div.sk-item::before, #sk-container-id-35 div.sk-parallel-item::before {content: \"\";position: absolute;border-left: 1px solid gray;box-sizing: border-box;top: 0;bottom: 0;left: 50%;z-index: -1;}#sk-container-id-35 div.sk-parallel-item {display: flex;flex-direction: column;z-index: 1;position: relative;background-color: white;}#sk-container-id-35 div.sk-parallel-item:first-child::after {align-self: flex-end;width: 50%;}#sk-container-id-35 div.sk-parallel-item:last-child::after {align-self: flex-start;width: 50%;}#sk-container-id-35 div.sk-parallel-item:only-child::after {width: 0;}#sk-container-id-35 div.sk-dashed-wrapped {border: 1px dashed gray;margin: 0 0.4em 0.5em 0.4em;box-sizing: border-box;padding-bottom: 0.4em;background-color: white;}#sk-container-id-35 div.sk-label label {font-family: monospace;font-weight: bold;display: inline-block;line-height: 1.2em;}#sk-container-id-35 div.sk-label-container {text-align: center;}#sk-container-id-35 div.sk-container {/* jupyter's `normalize.less` sets `[hidden] { display: none; }` but bootstrap.min.css set `[hidden] { display: none !important; }` so we also need the `!important` here to be able to override the default hidden behavior on the sphinx rendered scikit-learn.org. See: https://github.com/scikit-learn/scikit-learn/issues/21755 */display: inline-block !important;position: relative;}#sk-container-id-35 div.sk-text-repr-fallback {display: none;}</style><div id=\"sk-container-id-35\" class=\"sk-top-container\"><div class=\"sk-text-repr-fallback\"><pre>GridSearchCV(cv=10, estimator=KNeighborsClassifier(),\n",
              "             param_grid={&#x27;metric&#x27;: [&#x27;euclidean&#x27;, &#x27;manhattan&#x27;],\n",
              "                         &#x27;n_neighbors&#x27;: [5, 10, 15, 20],\n",
              "                         &#x27;weights&#x27;: [&#x27;uniform&#x27;, &#x27;distance&#x27;]},\n",
              "             scoring=&#x27;accuracy&#x27;, verbose=2)</pre><b>In a Jupyter environment, please rerun this cell to show the HTML representation or trust the notebook. <br />On GitHub, the HTML representation is unable to render, please try loading this page with nbviewer.org.</b></div><div class=\"sk-container\" hidden><div class=\"sk-item sk-dashed-wrapped\"><div class=\"sk-label-container\"><div class=\"sk-label sk-toggleable\"><input class=\"sk-toggleable__control sk-hidden--visually\" id=\"sk-estimator-id-53\" type=\"checkbox\" ><label for=\"sk-estimator-id-53\" class=\"sk-toggleable__label sk-toggleable__label-arrow\">GridSearchCV</label><div class=\"sk-toggleable__content\"><pre>GridSearchCV(cv=10, estimator=KNeighborsClassifier(),\n",
              "             param_grid={&#x27;metric&#x27;: [&#x27;euclidean&#x27;, &#x27;manhattan&#x27;],\n",
              "                         &#x27;n_neighbors&#x27;: [5, 10, 15, 20],\n",
              "                         &#x27;weights&#x27;: [&#x27;uniform&#x27;, &#x27;distance&#x27;]},\n",
              "             scoring=&#x27;accuracy&#x27;, verbose=2)</pre></div></div></div><div class=\"sk-parallel\"><div class=\"sk-parallel-item\"><div class=\"sk-item\"><div class=\"sk-label-container\"><div class=\"sk-label sk-toggleable\"><input class=\"sk-toggleable__control sk-hidden--visually\" id=\"sk-estimator-id-54\" type=\"checkbox\" ><label for=\"sk-estimator-id-54\" class=\"sk-toggleable__label sk-toggleable__label-arrow\">estimator: KNeighborsClassifier</label><div class=\"sk-toggleable__content\"><pre>KNeighborsClassifier()</pre></div></div></div><div class=\"sk-serial\"><div class=\"sk-item\"><div class=\"sk-estimator sk-toggleable\"><input class=\"sk-toggleable__control sk-hidden--visually\" id=\"sk-estimator-id-55\" type=\"checkbox\" ><label for=\"sk-estimator-id-55\" class=\"sk-toggleable__label sk-toggleable__label-arrow\">KNeighborsClassifier</label><div class=\"sk-toggleable__content\"><pre>KNeighborsClassifier()</pre></div></div></div></div></div></div></div></div></div></div>"
            ]
          },
          "metadata": {},
          "execution_count": 198
        }
      ]
    },
    {
      "cell_type": "code",
      "source": [
        "best_params = grid_search.best_params_\n",
        "best_params"
      ],
      "metadata": {
        "colab": {
          "base_uri": "https://localhost:8080/"
        },
        "id": "3Q0ULHdQc8U5",
        "outputId": "9bf07c70-e8f2-455b-eea1-955616413b45"
      },
      "execution_count": null,
      "outputs": [
        {
          "output_type": "execute_result",
          "data": {
            "text/plain": [
              "{'metric': 'euclidean', 'n_neighbors': 5, 'weights': 'distance'}"
            ]
          },
          "metadata": {},
          "execution_count": 199
        }
      ]
    },
    {
      "cell_type": "code",
      "execution_count": null,
      "metadata": {
        "colab": {
          "base_uri": "https://localhost:8080/",
          "height": 75
        },
        "id": "rH9pVckFtl2H",
        "outputId": "4588aa31-3cbc-4f4f-e0f4-6b62f5aa221b"
      },
      "outputs": [
        {
          "output_type": "execute_result",
          "data": {
            "text/plain": [
              "KNeighborsClassifier(metric='euclidean', weights='distance')"
            ],
            "text/html": [
              "<style>#sk-container-id-36 {color: black;background-color: white;}#sk-container-id-36 pre{padding: 0;}#sk-container-id-36 div.sk-toggleable {background-color: white;}#sk-container-id-36 label.sk-toggleable__label {cursor: pointer;display: block;width: 100%;margin-bottom: 0;padding: 0.3em;box-sizing: border-box;text-align: center;}#sk-container-id-36 label.sk-toggleable__label-arrow:before {content: \"▸\";float: left;margin-right: 0.25em;color: #696969;}#sk-container-id-36 label.sk-toggleable__label-arrow:hover:before {color: black;}#sk-container-id-36 div.sk-estimator:hover label.sk-toggleable__label-arrow:before {color: black;}#sk-container-id-36 div.sk-toggleable__content {max-height: 0;max-width: 0;overflow: hidden;text-align: left;background-color: #f0f8ff;}#sk-container-id-36 div.sk-toggleable__content pre {margin: 0.2em;color: black;border-radius: 0.25em;background-color: #f0f8ff;}#sk-container-id-36 input.sk-toggleable__control:checked~div.sk-toggleable__content {max-height: 200px;max-width: 100%;overflow: auto;}#sk-container-id-36 input.sk-toggleable__control:checked~label.sk-toggleable__label-arrow:before {content: \"▾\";}#sk-container-id-36 div.sk-estimator input.sk-toggleable__control:checked~label.sk-toggleable__label {background-color: #d4ebff;}#sk-container-id-36 div.sk-label input.sk-toggleable__control:checked~label.sk-toggleable__label {background-color: #d4ebff;}#sk-container-id-36 input.sk-hidden--visually {border: 0;clip: rect(1px 1px 1px 1px);clip: rect(1px, 1px, 1px, 1px);height: 1px;margin: -1px;overflow: hidden;padding: 0;position: absolute;width: 1px;}#sk-container-id-36 div.sk-estimator {font-family: monospace;background-color: #f0f8ff;border: 1px dotted black;border-radius: 0.25em;box-sizing: border-box;margin-bottom: 0.5em;}#sk-container-id-36 div.sk-estimator:hover {background-color: #d4ebff;}#sk-container-id-36 div.sk-parallel-item::after {content: \"\";width: 100%;border-bottom: 1px solid gray;flex-grow: 1;}#sk-container-id-36 div.sk-label:hover label.sk-toggleable__label {background-color: #d4ebff;}#sk-container-id-36 div.sk-serial::before {content: \"\";position: absolute;border-left: 1px solid gray;box-sizing: border-box;top: 0;bottom: 0;left: 50%;z-index: 0;}#sk-container-id-36 div.sk-serial {display: flex;flex-direction: column;align-items: center;background-color: white;padding-right: 0.2em;padding-left: 0.2em;position: relative;}#sk-container-id-36 div.sk-item {position: relative;z-index: 1;}#sk-container-id-36 div.sk-parallel {display: flex;align-items: stretch;justify-content: center;background-color: white;position: relative;}#sk-container-id-36 div.sk-item::before, #sk-container-id-36 div.sk-parallel-item::before {content: \"\";position: absolute;border-left: 1px solid gray;box-sizing: border-box;top: 0;bottom: 0;left: 50%;z-index: -1;}#sk-container-id-36 div.sk-parallel-item {display: flex;flex-direction: column;z-index: 1;position: relative;background-color: white;}#sk-container-id-36 div.sk-parallel-item:first-child::after {align-self: flex-end;width: 50%;}#sk-container-id-36 div.sk-parallel-item:last-child::after {align-self: flex-start;width: 50%;}#sk-container-id-36 div.sk-parallel-item:only-child::after {width: 0;}#sk-container-id-36 div.sk-dashed-wrapped {border: 1px dashed gray;margin: 0 0.4em 0.5em 0.4em;box-sizing: border-box;padding-bottom: 0.4em;background-color: white;}#sk-container-id-36 div.sk-label label {font-family: monospace;font-weight: bold;display: inline-block;line-height: 1.2em;}#sk-container-id-36 div.sk-label-container {text-align: center;}#sk-container-id-36 div.sk-container {/* jupyter's `normalize.less` sets `[hidden] { display: none; }` but bootstrap.min.css set `[hidden] { display: none !important; }` so we also need the `!important` here to be able to override the default hidden behavior on the sphinx rendered scikit-learn.org. See: https://github.com/scikit-learn/scikit-learn/issues/21755 */display: inline-block !important;position: relative;}#sk-container-id-36 div.sk-text-repr-fallback {display: none;}</style><div id=\"sk-container-id-36\" class=\"sk-top-container\"><div class=\"sk-text-repr-fallback\"><pre>KNeighborsClassifier(metric=&#x27;euclidean&#x27;, weights=&#x27;distance&#x27;)</pre><b>In a Jupyter environment, please rerun this cell to show the HTML representation or trust the notebook. <br />On GitHub, the HTML representation is unable to render, please try loading this page with nbviewer.org.</b></div><div class=\"sk-container\" hidden><div class=\"sk-item\"><div class=\"sk-estimator sk-toggleable\"><input class=\"sk-toggleable__control sk-hidden--visually\" id=\"sk-estimator-id-56\" type=\"checkbox\" checked><label for=\"sk-estimator-id-56\" class=\"sk-toggleable__label sk-toggleable__label-arrow\">KNeighborsClassifier</label><div class=\"sk-toggleable__content\"><pre>KNeighborsClassifier(metric=&#x27;euclidean&#x27;, weights=&#x27;distance&#x27;)</pre></div></div></div></div></div>"
            ]
          },
          "metadata": {},
          "execution_count": 200
        }
      ],
      "source": [
        "knn = KNeighborsClassifier(**best_params)\n",
        "knn.fit(x_train, y_train)"
      ]
    },
    {
      "cell_type": "code",
      "execution_count": null,
      "metadata": {
        "id": "p3-XQ8T96Ewj",
        "colab": {
          "base_uri": "https://localhost:8080/"
        },
        "outputId": "23ced542-38e5-424b-c628-2a8ff0c0b45b"
      },
      "outputs": [
        {
          "output_type": "execute_result",
          "data": {
            "text/plain": [
              "0.668090232150679"
            ]
          },
          "metadata": {},
          "execution_count": 201
        }
      ],
      "source": [
        "y_predicted = knn.predict(x_test)\n",
        "accuracy = accuracy_score(y_test, y_predicted)\n",
        "accuracy"
      ]
    }
  ],
  "metadata": {
    "colab": {
      "provenance": []
    },
    "kernelspec": {
      "display_name": "Python 3",
      "name": "python3"
    },
    "language_info": {
      "name": "python"
    }
  },
  "nbformat": 4,
  "nbformat_minor": 0
}
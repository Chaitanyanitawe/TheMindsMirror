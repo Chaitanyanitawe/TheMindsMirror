{
  "nbformat": 4,
  "nbformat_minor": 0,
  "metadata": {
    "colab": {
      "provenance": []
    },
    "kernelspec": {
      "name": "python3",
      "display_name": "Python 3"
    },
    "language_info": {
      "name": "python"
    }
  },
  "cells": [
    {
      "cell_type": "code",
      "execution_count": 3,
      "metadata": {
        "id": "iAOzZgfUlcEl"
      },
      "outputs": [],
      "source": [
        "import numpy as np\n",
        "import pandas as pd\n",
        "from sklearn.model_selection import train_test_split\n",
        "from sklearn.preprocessing import StandardScaler\n",
        "from sklearn.metrics import confusion_matrix, ConfusionMatrixDisplay\n",
        "from tensorflow.keras.preprocessing.sequence import pad_sequences\n",
        "from tensorflow.keras.models import Sequential\n",
        "from tensorflow.keras.layers import Conv1D, MaxPooling1D, Flatten, Dense, Dropout\n",
        "import matplotlib.pyplot as plt\n",
        "\n",
        "# Load the data\n",
        "df1 = pd.read_csv(\"/content/sparsh1.csv\")\n",
        "df2 = pd.read_csv(\"/content/sparsh2.csv\")\n",
        "df3 = pd.read_csv(\"/content/sparsh3.csv\")\n",
        "\n",
        "# Define start and end markers\n",
        "start_markers = [\"start zero.png\", \"start one.png\", \"start two.jpg\", \"start three.jpg\", \"start four.jpg\", \"start five.jpg\", \"start six.jpg\", \"start seven.jpg\", \"start eight.jpg\", \"start nine.jpg\", \"start six.jpg\"]\n",
        "end_markers = [\"end zero.png\", \"end one.png\", \"end two.jpg\", \"end three.jpg\", \"end four.jpg\", \"end five.jpg\", \"end six.jpg\", \"end seven.jpg\", \"end eight.jpg\", \"end nine.jpg\"]\n",
        "\n",
        "s = np.zeros((3, 10))\n",
        "e = np.zeros((3, 10))\n",
        "\n",
        "for j in range(len(end_markers)):\n",
        "    for i in range(21525):\n",
        "        if df1[\"435764\"].iloc[i] == start_markers[j]:\n",
        "            s[0][j] = i\n",
        "            continue\n",
        "        if df1[\"435764\"].iloc[i] == end_markers[j]:\n",
        "            e[0][j] = i\n",
        "            break\n",
        "    for i in range(21397):\n",
        "        if df2[\"101749\"].iloc[i] == start_markers[j]:\n",
        "            s[1][j] = i\n",
        "            continue\n",
        "        if df2[\"101749\"].iloc[i] == end_markers[j]:\n",
        "            e[1][j] = i\n",
        "            break\n",
        "    for i in range(22165):\n",
        "        if df3[\"252989\"].iloc[i] == start_markers[j]:\n",
        "            s[2][j] = i\n",
        "            continue\n",
        "        if df3[\"252989\"].iloc[i] == end_markers[j]:\n",
        "            e[2][j] = i\n",
        "            break\n",
        "\n",
        "signals = []\n",
        "for i in range(10):\n",
        "    signal0 = df1[\"435764\"].iloc[int(s[0][i]+1):int(e[0][i])].to_numpy().astype(int)\n",
        "    signal1 = df2[\"101749\"].iloc[int(s[1][i]+1):int(e[1][i])].to_numpy().astype(int)\n",
        "    signal2 = df3[\"252989\"].iloc[int(s[2][i]+1):int(e[2][i])].to_numpy().astype(int)\n",
        "    signals.append(signal0)\n",
        "    signals.append(signal1)\n",
        "    signals.append(signal2)\n",
        "\n",
        "\n"
      ]
    },
    {
      "cell_type": "code",
      "source": [
        "# Apply time slicing data augmentation\n",
        "def augment_signal(signal, slice_range=5):\n",
        "    augmented_signals = []\n",
        "    for i in range(-slice_range, slice_range+1):\n",
        "        augmented_signals.append(signal[max(0, i):min(len(signal), len(signal)+i)])\n",
        "    return augmented_signals\n",
        "\n",
        "augmented_signals = []\n",
        "for signal in signals:\n",
        "    augmented_signals.extend(augment_signal(signal))\n",
        "\n",
        "max_len = 100\n",
        "X = pad_sequences(augmented_signals, maxlen=max_len, padding='post')\n",
        "\n",
        "# Update labels\n",
        "y = np.array([1 if i % 2 == 0 else 0 for i in range(len(X))])\n"
      ],
      "metadata": {
        "id": "EncS_m2dl3Sl"
      },
      "execution_count": 4,
      "outputs": []
    },
    {
      "cell_type": "code",
      "source": [
        "scaler = StandardScaler()\n",
        "X = scaler.fit_transform(X)\n",
        "\n",
        "X = X.reshape(X.shape[0], X.shape[1], 1)\n",
        "\n",
        "X_train, X_temp, y_train, y_temp = train_test_split(X, y, test_size=0.3, random_state=42)\n",
        "X_val, X_test, y_val, y_test = train_test_split(X_temp, y_temp, test_size=0.5, random_state=42)\n",
        "\n",
        "model = Sequential([\n",
        "    Conv1D(32, kernel_size=3, activation='relu', input_shape=(100, 1)),\n",
        "    MaxPooling1D(pool_size=2),\n",
        "    Flatten(),\n",
        "    Dense(64, activation='relu'),\n",
        "    Dropout(0.5),\n",
        "    Dense(1, activation='sigmoid')\n",
        "])\n",
        "\n",
        "model.compile(optimizer='adam', loss='binary_crossentropy', metrics=['accuracy'])\n",
        "\n",
        "model.summary()"
      ],
      "metadata": {
        "colab": {
          "base_uri": "https://localhost:8080/"
        },
        "id": "B78ZuQobEo3W",
        "outputId": "7cfce2f7-d627-4813-fd49-99993602a0e2"
      },
      "execution_count": 5,
      "outputs": [
        {
          "output_type": "stream",
          "name": "stdout",
          "text": [
            "Model: \"sequential_1\"\n",
            "_________________________________________________________________\n",
            " Layer (type)                Output Shape              Param #   \n",
            "=================================================================\n",
            " conv1d_1 (Conv1D)           (None, 98, 32)            128       \n",
            "                                                                 \n",
            " max_pooling1d_1 (MaxPoolin  (None, 49, 32)            0         \n",
            " g1D)                                                            \n",
            "                                                                 \n",
            " flatten_1 (Flatten)         (None, 1568)              0         \n",
            "                                                                 \n",
            " dense_2 (Dense)             (None, 64)                100416    \n",
            "                                                                 \n",
            " dropout_1 (Dropout)         (None, 64)                0         \n",
            "                                                                 \n",
            " dense_3 (Dense)             (None, 1)                 65        \n",
            "                                                                 \n",
            "=================================================================\n",
            "Total params: 100609 (393.00 KB)\n",
            "Trainable params: 100609 (393.00 KB)\n",
            "Non-trainable params: 0 (0.00 Byte)\n",
            "_________________________________________________________________\n"
          ]
        }
      ]
    },
    {
      "cell_type": "code",
      "source": [
        "history = model.fit(\n",
        "    X_train, y_train,\n",
        "    epochs=10,\n",
        "    batch_size=32,\n",
        "    validation_data=(X_val, y_val)\n",
        ")\n",
        "\n",
        "loss, accuracy = model.evaluate(X_test, y_test)\n",
        "print(f\"Test Accuracy: {accuracy * 100:.2f}%\")"
      ],
      "metadata": {
        "colab": {
          "base_uri": "https://localhost:8080/"
        },
        "id": "KEMkG0cbEspx",
        "outputId": "404c5c40-0a0a-49a7-9e92-785e7c480e7a"
      },
      "execution_count": 6,
      "outputs": [
        {
          "output_type": "stream",
          "name": "stdout",
          "text": [
            "Epoch 1/10\n",
            "8/8 [==============================] - 1s 41ms/step - loss: 0.7209 - accuracy: 0.5022 - val_loss: 0.7015 - val_accuracy: 0.3469\n",
            "Epoch 2/10\n",
            "8/8 [==============================] - 0s 11ms/step - loss: 0.7045 - accuracy: 0.4892 - val_loss: 0.6981 - val_accuracy: 0.3469\n",
            "Epoch 3/10\n",
            "8/8 [==============================] - 0s 12ms/step - loss: 0.7072 - accuracy: 0.5498 - val_loss: 0.7026 - val_accuracy: 0.5102\n",
            "Epoch 4/10\n",
            "8/8 [==============================] - 0s 22ms/step - loss: 0.7024 - accuracy: 0.4978 - val_loss: 0.7155 - val_accuracy: 0.4286\n",
            "Epoch 5/10\n",
            "8/8 [==============================] - 0s 22ms/step - loss: 0.7334 - accuracy: 0.4978 - val_loss: 0.7339 - val_accuracy: 0.3469\n",
            "Epoch 6/10\n",
            "8/8 [==============================] - 0s 20ms/step - loss: 0.7051 - accuracy: 0.5541 - val_loss: 0.7037 - val_accuracy: 0.4286\n",
            "Epoch 7/10\n",
            "8/8 [==============================] - 0s 21ms/step - loss: 0.6925 - accuracy: 0.5152 - val_loss: 0.7060 - val_accuracy: 0.4286\n",
            "Epoch 8/10\n",
            "8/8 [==============================] - 0s 21ms/step - loss: 0.7049 - accuracy: 0.4762 - val_loss: 0.7132 - val_accuracy: 0.3469\n",
            "Epoch 9/10\n",
            "8/8 [==============================] - 0s 23ms/step - loss: 0.6970 - accuracy: 0.4935 - val_loss: 0.7033 - val_accuracy: 0.3469\n",
            "Epoch 10/10\n",
            "8/8 [==============================] - 0s 26ms/step - loss: 0.7015 - accuracy: 0.5195 - val_loss: 0.7147 - val_accuracy: 0.3469\n",
            "2/2 [==============================] - 0s 17ms/step - loss: 0.7098 - accuracy: 0.5000\n",
            "Test Accuracy: 50.00%\n"
          ]
        }
      ]
    },
    {
      "cell_type": "code",
      "source": [
        "plt.plot(history.history['accuracy'], label='accuracy')\n",
        "plt.plot(history.history['val_accuracy'], label='val_accuracy')\n",
        "plt.xlabel('Epoch')\n",
        "plt.ylabel('Accuracy')\n",
        "plt.ylim([0, 1])\n",
        "plt.legend(loc='lower right')\n",
        "plt.show()"
      ],
      "metadata": {
        "colab": {
          "base_uri": "https://localhost:8080/",
          "height": 455
        },
        "id": "gKfh8prCEw-5",
        "outputId": "f8d94023-c31f-43e2-f583-8103d11cb588"
      },
      "execution_count": 7,
      "outputs": [
        {
          "output_type": "display_data",
          "data": {
            "text/plain": [
              "<Figure size 640x480 with 1 Axes>"
            ],
            "image/png": "[encoded data removed]"
          },
          "metadata": {}
        }
      ]
    },
    {
      "cell_type": "code",
      "source": [
        "\n",
        "y_pred = (model.predict(X_test) > 0.5).astype(\"int32\")\n",
        "cm = confusion_matrix(y_test, y_pred)\n",
        "disp = ConfusionMatrixDisplay(confusion_matrix=cm)\n",
        "disp.plot()\n",
        "plt.show()"
      ],
      "metadata": {
        "id": "Y9iWCSdQE0C0",
        "outputId": "7c3bbb38-68d0-4596-b679-4d37407b03f5",
        "colab": {
          "base_uri": "https://localhost:8080/",
          "height": 473
        }
      },
      "execution_count": 8,
      "outputs": [
        {
          "output_type": "stream",
          "name": "stdout",
          "text": [
            "2/2 [==============================] - 0s 6ms/step\n"
          ]
        },
        {
          "output_type": "display_data",
          "data": {
            "text/plain": [
              "<Figure size 640x480 with 2 Axes>"
            ],
            "image/png": "[encoded data removed]"
          },
          "metadata": {}
        }
      ]
    },
    {
      "cell_type": "code",
      "source": [],
      "metadata": {
        "id": "75ihwPrmE2mH"
      },
      "execution_count": 8,
      "outputs": []
    }
  ]
}
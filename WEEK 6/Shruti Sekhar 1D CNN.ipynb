{
 "cells": [
  {
   "cell_type": "code",
   "execution_count": 1,
   "metadata": {},
   "outputs": [],
   "source": [
    "import pandas as pd \n",
    "import numpy as np \n",
    "import matplotlib.pyplot as plt\n",
    "import os  \n",
    "from scipy.signal import butter, filtfilt,lfilter\n",
    "from sklearn.preprocessing import RobustScaler"
   ]
  },
  {
   "cell_type": "code",
   "execution_count": 2,
   "metadata": {},
   "outputs": [],
   "source": [
    "# loading and preprocessing data \n",
    "def preprocess(directory):\n",
    "    csv_files=[f for f in os.listdir(directory) if f.endswith('.csv')]  \n",
    "    all_data=[]\n",
    "    for i in csv_files:\n",
    "        df=pd.read_csv(os.path.join(directory, i))  \n",
    "        df.columns=['Output1','Output2','Output3','Output4','Output5','Output6','Output7','Output8'] \n",
    "        data=df.iloc[:, :4]  \n",
    "        all_data.append(data) \n",
    "    my_data=pd.concat(all_data, ignore_index=True) \n",
    "\n",
    "    return my_data\n",
    "\n"
   ]
  },
  {
   "cell_type": "code",
   "execution_count": 3,
   "metadata": {},
   "outputs": [],
   "source": [
    "data=preprocess('collected data')"
   ]
  },
  {
   "cell_type": "code",
   "execution_count": 4,
   "metadata": {},
   "outputs": [
    {
     "name": "stdout",
     "output_type": "stream",
     "text": [
      "             Output1       Output2       Output3       Output4\n",
      "0             300107        233298        180506        170026\n",
      "1             300069        233186        180483        170026\n",
      "2             300029        233094        180408        170018\n",
      "3             300065        233188        180442        170023\n",
      "4             300114        233363        180554        170023\n",
      "...              ...           ...           ...           ...\n",
      "391648        391839        311223        851523        807464\n",
      "391649        392079        311234        852097        807579\n",
      "391650        392190        311238        852394        807682\n",
      "391651        392113        311244        852228        807680\n",
      "391652  end five.jpg  end five.jpg  end five.jpg  end five.jpg\n",
      "\n",
      "[391653 rows x 4 columns]\n"
     ]
    }
   ],
   "source": [
    "print(data)"
   ]
  },
  {
   "cell_type": "code",
   "execution_count": 5,
   "metadata": {},
   "outputs": [],
   "source": [
    "start_markers = ['start one.png', 'start five.jpg', 'start nine.jpg', 'start six.jpg', 'start zero.png', 'start animal.jpg', 'start four.jpg', 'start eight.jpg', 'start three.jpg', 'start seven.jpg', 'start two.jpg']\n",
    "end_markers = ['end one.png', 'end five.jpg', 'end nine.jpg', 'end six.jpg', 'end zero.png', 'end animal.jpg', 'end four.jpg', 'end eight.jpg', 'end three.jpg', 'end seven.jpg', 'end two.jpg']"
   ]
  },
  {
   "cell_type": "code",
   "execution_count": 6,
   "metadata": {},
   "outputs": [],
   "source": [
    "def extract_center_rows(data, start_range, end_range, length):\n",
    "    if start_range > end_range:\n",
    "        raise ValueError(\"start_range should be less than or equal to end_range\")\n",
    "    \n",
    "    if end_range - start_range < length:\n",
    "        return False, 0\n",
    "    \n",
    "    range_data = data.loc[start_range:end_range]\n",
    "    if length > len(range_data):\n",
    "        raise ValueError(\"The specified length is greater than the number of rows in the range\")\n",
    "    \n",
    "    center_index = len(range_data) // 2\n",
    "    start_index = max(0, center_index - length // 2)\n",
    "    end_index = start_index + length\n",
    "    center_rows = range_data.iloc[start_index:end_index]\n",
    "    \n",
    "    return True, center_rows"
   ]
  },
  {
   "cell_type": "code",
   "execution_count": 7,
   "metadata": {},
   "outputs": [],
   "source": [
    "def extract_data_between_markers(data, start_markers, end_markers, datashape):\n",
    "    X = []\n",
    "    Y = []\n",
    "    between_markers = False\n",
    "    label = None\n",
    "    start_idx = None\n",
    "    end_idx = None\n",
    "    df_temp = []\n",
    "    segment_lengths = []\n",
    "    \n",
    "    marker_to_label = {\n",
    "        'start one.png': 1, 'end one.png': 1,\n",
    "        'start two.jpg': 2, 'end two.jpg': 2,\n",
    "        'start three.jpg': 3, 'end three.jpg': 3,\n",
    "        'start four.jpg': 4, 'end four.jpg': 4,\n",
    "        'start five.jpg': 5, 'end five.jpg': 5,\n",
    "        'start six.jpg': 6, 'end six.jpg': 6,\n",
    "        'start seven.jpg': 7, 'end seven.jpg': 7,\n",
    "        'start eight.jpg': 8, 'end eight.jpg': 8,\n",
    "        'start nine.jpg': 9, 'end nine.jpg': 9,\n",
    "        'start zero.png': 0, 'end zero.png': 0,\n",
    "        'start animal.jpg': -1, 'end animal.jpg': -1\n",
    "    }\n",
    "    \n",
    "    for index, row in data.iterrows():\n",
    "        if row.iloc[0] in start_markers:\n",
    "            label = marker_to_label[row.iloc[0]]\n",
    "            start_idx = index\n",
    "            between_markers = True\n",
    "            df_temp = []\n",
    "           \n",
    "        elif row.iloc[0] in end_markers:\n",
    "            if between_markers and len(df_temp) > 0:\n",
    "                end_idx = index\n",
    "                success, extracted_data = extract_center_rows(data, start_idx, end_idx, datashape[0])\n",
    "                if success:\n",
    "                    X.append(extracted_data.values.astype(float))\n",
    "                    Y.append(label)\n",
    "                  \n",
    "                segment_lengths.append(len(df_temp))\n",
    "            between_markers = False\n",
    "        elif between_markers:\n",
    "            df_temp.append(row.iloc[:4].values.tolist())\n",
    "    \n",
    "    X = np.array(X)\n",
    "    Y = np.array(Y)\n",
    "    \n",
    "    print(\"Total segments found:\", len(segment_lengths))\n",
    "    print(\"Segment lengths:\", segment_lengths)\n",
    "    print(\"Number of segments meeting length requirement:\", len(X))\n",
    "    \n",
    "    return X, Y"
   ]
  },
  {
   "cell_type": "code",
   "execution_count": 8,
   "metadata": {},
   "outputs": [
    {
     "name": "stdout",
     "output_type": "stream",
     "text": [
      "Total segments found: 187\n",
      "Segment lengths: [1280, 1280, 1280, 1155, 1280, 1280, 1280, 1280, 1408, 1205, 1280, 1210, 1280, 1280, 1280, 1280, 1231, 1220, 1299, 1280, 1280, 1280, 1152, 1280, 1188, 1280, 1280, 1280, 1152, 1280, 1194, 1152, 1280, 1152, 1280, 1280, 1280, 1280, 1280, 1280, 1280, 1280, 1281, 1195, 1381, 1159, 1280, 1280, 1280, 1280, 1280, 1280, 1183, 1280, 1280, 1280, 1280, 1280, 1280, 1280, 1187, 1280, 1280, 1280, 1280, 1304, 1024, 1664, 704, 1408, 1280, 896, 279, 3072, 1280, 896, 2176, 1280, 1280, 1203, 1280, 1280, 1195, 1280, 1280, 1280, 1280, 1280, 1280, 1280, 1280, 1280, 1280, 1280, 1280, 1173, 1280, 1280, 1152, 1280, 1280, 1280, 1280, 1166, 1152, 1280, 1280, 1280, 1280, 1280, 1162, 1212, 1280, 1280, 1280, 1280, 1792, 1280, 1280, 1224, 1280, 1187, 1280, 1280, 1152, 1280, 1280, 1280, 1169, 1280, 1280, 1280, 1280, 1280, 1213, 1280, 1280, 1280, 1280, 1165, 1280, 1280, 1280, 1280, 1280, 1280, 1280, 1280, 1280, 1280, 1280, 1152, 1280, 1280, 1304, 1280, 1024, 1280, 1152, 1280, 1152, 1280, 1280, 1280, 1280, 1280, 1280, 1280, 1212, 1280, 1280, 1280, 1280, 1280, 1280, 1231, 1280, 1280, 1280, 1280, 1159, 1164, 1280, 1280, 1280, 1280, 1194]\n",
      "Number of segments meeting length requirement: 183\n",
      "X shape: (183, 1000, 4)\n",
      "Y shape: (183,)\n",
      "Unique labels in Y: [-1  0  1  2  3  4  5  6  7  8  9]\n"
     ]
    }
   ],
   "source": [
    "datashape = (1000, 4)\n",
    "\n",
    "X, Y = extract_data_between_markers(data, start_markers, end_markers, datashape)\n",
    "\n",
    "\n",
    "print(\"X shape:\", X.shape)\n",
    "print(\"Y shape:\", Y.shape)\n",
    "\n",
    "print(\"Unique labels in Y:\", np.unique(Y))"
   ]
  },
  {
   "cell_type": "code",
   "execution_count": 9,
   "metadata": {},
   "outputs": [
    {
     "name": "stdout",
     "output_type": "stream",
     "text": [
      "[ 4  8  3  7  1 -1  6  0  5  2  9  2  6  0  3  7  4  1 -1  5  8  9  7  4\n",
      " -1  2  0  3  8  1  5  9  6  4  2 -1  7  9  8  5  6  1  0  3  7  1  0  9\n",
      "  5  3  2  4  8 -1  6  0  7  4  3  6  8 -1  1  2  5  9  4  3 -1  0  6  5\n",
      "  7  3  9  2  7  5  8  1  6 -1  4  0  1  0 -1  2  4  9  5  3  7  8  6  3\n",
      "  7  2  8  4  1  5  6  9  0 -1  2  9  6  8  3  4  5  7 -1  0  1  1  5  9\n",
      "  6  0 -1  4  8  3  7  2  4  6  9  0  5  2  8  1 -1  3  7  0  6  7  4  5\n",
      "  8  1 -1  9  2  3  2  3 -1  4  6  0  8  7  5  9  1  4  9 -1  1  8  0  3\n",
      "  7  6  5  2 -1  7  2  9  8  0  1  3  4  6  5]\n"
     ]
    }
   ],
   "source": [
    "print(Y)"
   ]
  },
  {
   "cell_type": "code",
   "execution_count": 10,
   "metadata": {},
   "outputs": [
    {
     "name": "stdout",
     "output_type": "stream",
     "text": [
      "[0, 0, 0, 0, 0, 1, 0, 1, 0, 0, 0, 0, 0, 1, 0, 0, 0, 0, 1, 0, 0, 0, 0, 0, 1, 0, 1, 0, 0, 0, 0, 0, 0, 0, 0, 1, 0, 0, 0, 0, 0, 0, 1, 0, 0, 0, 1, 0, 0, 0, 0, 0, 0, 1, 0, 1, 0, 0, 0, 0, 0, 1, 0, 0, 0, 0, 0, 0, 1, 1, 0, 0, 0, 0, 0, 0, 0, 0, 0, 0, 0, 1, 0, 1, 0, 1, 1, 0, 0, 0, 0, 0, 0, 0, 0, 0, 0, 0, 0, 0, 0, 0, 0, 0, 1, 1, 0, 0, 0, 0, 0, 0, 0, 0, 1, 1, 0, 0, 0, 0, 0, 1, 1, 0, 0, 0, 0, 0, 0, 0, 0, 1, 0, 0, 0, 0, 1, 0, 0, 1, 0, 0, 0, 0, 0, 0, 1, 0, 0, 0, 0, 0, 1, 0, 0, 1, 0, 0, 0, 0, 0, 0, 0, 1, 0, 0, 1, 0, 0, 0, 0, 0, 1, 0, 0, 0, 0, 1, 0, 0, 0, 0, 0]\n"
     ]
    }
   ],
   "source": [
    "y_binary=[]\n",
    "for i in Y: \n",
    "    if i in [1, 2, 3, 4, 5, 6, 7, 8, 9]: \n",
    "        y_binary.append(0) \n",
    "    else:\n",
    "        y_binary.append(1)\n",
    "print(y_binary)\n"
   ]
  },
  {
   "cell_type": "code",
   "execution_count": 11,
   "metadata": {},
   "outputs": [],
   "source": [
    "scaler = RobustScaler()\n",
    "scaler.fit(X[0])\n",
    "for i,x in enumerate(X):\n",
    "    X[i] = scaler.transform(x)"
   ]
  },
  {
   "cell_type": "code",
   "execution_count": 12,
   "metadata": {},
   "outputs": [],
   "source": [
    "from sklearn.model_selection import train_test_split \n",
    "x_train,x_test,y_train,y_test = train_test_split(X,y_binary,test_size=0.2) \n"
   ]
  },
  {
   "cell_type": "code",
   "execution_count": 13,
   "metadata": {},
   "outputs": [],
   "source": [
    "y_resized=[] \n",
    "x_resized=[]\n",
    "c=0\n",
    "for i in range(len(y_binary)):\n",
    "    if y_binary[i] == 0:\n",
    "        c=c+1\n",
    "        if c<30:\n",
    "           y_resized.append(0) \n",
    "           x_resized.append(X[i])\n",
    "    else:\n",
    "        y_resized.append(1) \n",
    "        x_resized.append(X[i])\n",
    "\n",
    "y_resized=np.array(y_resized)\n",
    "x_resized=np.array(x_resized)"
   ]
  },
  {
   "cell_type": "code",
   "execution_count": 14,
   "metadata": {},
   "outputs": [
    {
     "name": "stdout",
     "output_type": "stream",
     "text": [
      "[0 0 0 0 0 1 0 1 0 0 0 0 0 1 0 0 0 0 1 0 0 0 0 0 1 0 1 0 0 0 0 0 0 0 0 1 1\n",
      " 1 1 1 1 1 1 1 1 1 1 1 1 1 1 1 1 1 1 1 1 1 1 1 1 1 1]\n"
     ]
    }
   ],
   "source": [
    "print((y_resized))"
   ]
  },
  {
   "cell_type": "code",
   "execution_count": 15,
   "metadata": {},
   "outputs": [],
   "source": [
    "from sklearn.model_selection import train_test_split \n",
    "x_train,x_test,y_train,y_test = train_test_split(x_resized,y_resized,test_size=0.2) \n"
   ]
  },
  {
   "cell_type": "code",
   "execution_count": 16,
   "metadata": {},
   "outputs": [],
   "source": [
    "from sklearn.utils.class_weight import compute_class_weight  \n",
    "class_labels = np.unique(y_train)\n",
    "class_weights = compute_class_weight(class_weight='balanced',classes=np.unique(y_train), y=list(y_train))"
   ]
  },
  {
   "cell_type": "code",
   "execution_count": 17,
   "metadata": {},
   "outputs": [
    {
     "name": "stdout",
     "output_type": "stream",
     "text": [
      "{0: 1.0869565217391304, 1: 0.9259259259259259}\n"
     ]
    }
   ],
   "source": [
    "class_weights_dict = dict(zip(class_labels, class_weights)) \n",
    "print(class_weights_dict)\n"
   ]
  },
  {
   "cell_type": "code",
   "execution_count": 18,
   "metadata": {},
   "outputs": [
    {
     "name": "stderr",
     "output_type": "stream",
     "text": [
      "/Users/shrutisekhar/Library/Python/3.9/lib/python/site-packages/urllib3/__init__.py:35: NotOpenSSLWarning: urllib3 v2 only supports OpenSSL 1.1.1+, currently the 'ssl' module is compiled with 'LibreSSL 2.8.3'. See: https://github.com/urllib3/urllib3/issues/3020\n",
      "  warnings.warn(\n"
     ]
    }
   ],
   "source": [
    "from tensorflow.keras.layers import Dense,Flatten,Conv1D,MaxPooling1D,Dropout \n",
    "from tensorflow.keras.models import Sequential"
   ]
  },
  {
   "cell_type": "code",
   "execution_count": 19,
   "metadata": {},
   "outputs": [],
   "source": [
    "y_train=np.expand_dims(y_train,1) \n",
    "y_test=np.expand_dims(y_test,1) \n"
   ]
  },
  {
   "cell_type": "code",
   "execution_count": 20,
   "metadata": {},
   "outputs": [
    {
     "name": "stderr",
     "output_type": "stream",
     "text": [
      "/Users/shrutisekhar/Library/Python/3.9/lib/python/site-packages/keras/src/layers/convolutional/base_conv.py:107: UserWarning: Do not pass an `input_shape`/`input_dim` argument to a layer. When using Sequential models, prefer using an `Input(shape)` object as the first layer in the model instead.\n",
      "  super().__init__(activity_regularizer=activity_regularizer, **kwargs)\n"
     ]
    }
   ],
   "source": [
    "model = Sequential([\n",
    "    Conv1D(32, 3, activation='relu', input_shape=(1000, 4)),\n",
    "    MaxPooling1D(pool_size=2),\n",
    "    Conv1D(64, 3, activation='relu'),\n",
    "    MaxPooling1D(pool_size=2), \n",
    "    Flatten(),\n",
    "    Dense(128, activation='relu'),\n",
    "    Dropout(0.5),\n",
    "    Dense(1, activation='sigmoid') \n",
    "])\n",
    "\n",
    "model.compile(optimizer='adam', loss='binary_crossentropy', metrics=['accuracy'])"
   ]
  },
  {
   "cell_type": "code",
   "execution_count": 21,
   "metadata": {},
   "outputs": [
    {
     "name": "stdout",
     "output_type": "stream",
     "text": [
      "Epoch 1/50\n",
      "\u001b[1m2/2\u001b[0m \u001b[32m━━━━━━━━━━━━━━━━━━━━\u001b[0m\u001b[37m\u001b[0m \u001b[1m1s\u001b[0m 82ms/step - accuracy: 0.4288 - loss: 60.9989 - val_accuracy: 0.5385 - val_loss: 58.6426\n",
      "Epoch 2/50\n",
      "\u001b[1m2/2\u001b[0m \u001b[32m━━━━━━━━━━━━━━━━━━━━\u001b[0m\u001b[37m\u001b[0m \u001b[1m0s\u001b[0m 20ms/step - accuracy: 0.5533 - loss: 64.5850 - val_accuracy: 0.7692 - val_loss: 7.3491\n",
      "Epoch 3/50\n",
      "\u001b[1m2/2\u001b[0m \u001b[32m━━━━━━━━━━━━━━━━━━━━\u001b[0m\u001b[37m\u001b[0m \u001b[1m0s\u001b[0m 19ms/step - accuracy: 0.7433 - loss: 6.1971 - val_accuracy: 0.9231 - val_loss: 5.9016\n",
      "Epoch 4/50\n",
      "\u001b[1m2/2\u001b[0m \u001b[32m━━━━━━━━━━━━━━━━━━━━\u001b[0m\u001b[37m\u001b[0m \u001b[1m0s\u001b[0m 18ms/step - accuracy: 0.7700 - loss: 20.8681 - val_accuracy: 0.9231 - val_loss: 4.7121\n",
      "Epoch 5/50\n",
      "\u001b[1m2/2\u001b[0m \u001b[32m━━━━━━━━━━━━━━━━━━━━\u001b[0m\u001b[37m\u001b[0m \u001b[1m0s\u001b[0m 21ms/step - accuracy: 0.7804 - loss: 11.5131 - val_accuracy: 0.9231 - val_loss: 3.1028\n",
      "Epoch 6/50\n",
      "\u001b[1m2/2\u001b[0m \u001b[32m━━━━━━━━━━━━━━━━━━━━\u001b[0m\u001b[37m\u001b[0m \u001b[1m0s\u001b[0m 19ms/step - accuracy: 0.7092 - loss: 12.0502 - val_accuracy: 0.9231 - val_loss: 1.6300\n",
      "Epoch 7/50\n",
      "\u001b[1m2/2\u001b[0m \u001b[32m━━━━━━━━━━━━━━━━━━━━\u001b[0m\u001b[37m\u001b[0m \u001b[1m0s\u001b[0m 19ms/step - accuracy: 0.6854 - loss: 5.2111 - val_accuracy: 0.9231 - val_loss: 0.5521\n",
      "Epoch 8/50\n",
      "\u001b[1m2/2\u001b[0m \u001b[32m━━━━━━━━━━━━━━━━━━━━\u001b[0m\u001b[37m\u001b[0m \u001b[1m0s\u001b[0m 22ms/step - accuracy: 0.7671 - loss: 6.8195 - val_accuracy: 0.9231 - val_loss: 0.1486\n",
      "Epoch 9/50\n",
      "\u001b[1m2/2\u001b[0m \u001b[32m━━━━━━━━━━━━━━━━━━━━\u001b[0m\u001b[37m\u001b[0m \u001b[1m0s\u001b[0m 21ms/step - accuracy: 0.7329 - loss: 4.3520 - val_accuracy: 0.9231 - val_loss: 0.1840\n",
      "Epoch 10/50\n",
      "\u001b[1m2/2\u001b[0m \u001b[32m━━━━━━━━━━━━━━━━━━━━\u001b[0m\u001b[37m\u001b[0m \u001b[1m0s\u001b[0m 21ms/step - accuracy: 0.6854 - loss: 5.3185 - val_accuracy: 0.9231 - val_loss: 0.4383\n",
      "Epoch 11/50\n",
      "\u001b[1m2/2\u001b[0m \u001b[32m━━━━━━━━━━━━━━━━━━━━\u001b[0m\u001b[37m\u001b[0m \u001b[1m0s\u001b[0m 22ms/step - accuracy: 0.7063 - loss: 5.1873 - val_accuracy: 0.9231 - val_loss: 0.6272\n",
      "Epoch 12/50\n",
      "\u001b[1m2/2\u001b[0m \u001b[32m━━━━━━━━━━━━━━━━━━━━\u001b[0m\u001b[37m\u001b[0m \u001b[1m0s\u001b[0m 21ms/step - accuracy: 0.7329 - loss: 2.7666 - val_accuracy: 0.7692 - val_loss: 1.1438\n",
      "Epoch 13/50\n",
      "\u001b[1m2/2\u001b[0m \u001b[32m━━━━━━━━━━━━━━━━━━━━\u001b[0m\u001b[37m\u001b[0m \u001b[1m0s\u001b[0m 21ms/step - accuracy: 0.7433 - loss: 1.7187 - val_accuracy: 0.7692 - val_loss: 1.6641\n",
      "Epoch 14/50\n",
      "\u001b[1m2/2\u001b[0m \u001b[32m━━━━━━━━━━━━━━━━━━━━\u001b[0m\u001b[37m\u001b[0m \u001b[1m0s\u001b[0m 21ms/step - accuracy: 0.8383 - loss: 1.2865 - val_accuracy: 0.7692 - val_loss: 1.6408\n",
      "Epoch 15/50\n",
      "\u001b[1m2/2\u001b[0m \u001b[32m━━━━━━━━━━━━━━━━━━━━\u001b[0m\u001b[37m\u001b[0m \u001b[1m0s\u001b[0m 20ms/step - accuracy: 0.7329 - loss: 2.1853 - val_accuracy: 0.7692 - val_loss: 1.0693\n",
      "Epoch 16/50\n",
      "\u001b[1m2/2\u001b[0m \u001b[32m━━━━━━━━━━━━━━━━━━━━\u001b[0m\u001b[37m\u001b[0m \u001b[1m0s\u001b[0m 18ms/step - accuracy: 0.6883 - loss: 1.2649 - val_accuracy: 0.8462 - val_loss: 0.7465\n",
      "Epoch 17/50\n",
      "\u001b[1m2/2\u001b[0m \u001b[32m━━━━━━━━━━━━━━━━━━━━\u001b[0m\u001b[37m\u001b[0m \u001b[1m0s\u001b[0m 20ms/step - accuracy: 0.7804 - loss: 1.0428 - val_accuracy: 0.8462 - val_loss: 0.5567\n",
      "Epoch 18/50\n",
      "\u001b[1m2/2\u001b[0m \u001b[32m━━━━━━━━━━━━━━━━━━━━\u001b[0m\u001b[37m\u001b[0m \u001b[1m0s\u001b[0m 20ms/step - accuracy: 0.7804 - loss: 2.0511 - val_accuracy: 0.9231 - val_loss: 0.4348\n",
      "Epoch 19/50\n",
      "\u001b[1m2/2\u001b[0m \u001b[32m━━━━━━━━━━━━━━━━━━━━\u001b[0m\u001b[37m\u001b[0m \u001b[1m0s\u001b[0m 20ms/step - accuracy: 0.8071 - loss: 1.1977 - val_accuracy: 0.9231 - val_loss: 0.3582\n",
      "Epoch 20/50\n",
      "\u001b[1m2/2\u001b[0m \u001b[32m━━━━━━━━━━━━━━━━━━━━\u001b[0m\u001b[37m\u001b[0m \u001b[1m0s\u001b[0m 19ms/step - accuracy: 0.7775 - loss: 0.4289 - val_accuracy: 0.9231 - val_loss: 0.3218\n",
      "Epoch 21/50\n",
      "\u001b[1m2/2\u001b[0m \u001b[32m━━━━━━━━━━━━━━━━━━━━\u001b[0m\u001b[37m\u001b[0m \u001b[1m0s\u001b[0m 19ms/step - accuracy: 0.8071 - loss: 0.4611 - val_accuracy: 0.9231 - val_loss: 0.2903\n",
      "Epoch 22/50\n",
      "\u001b[1m2/2\u001b[0m \u001b[32m━━━━━━━━━━━━━━━━━━━━\u001b[0m\u001b[37m\u001b[0m \u001b[1m0s\u001b[0m 19ms/step - accuracy: 0.8042 - loss: 0.9480 - val_accuracy: 0.9231 - val_loss: 0.2703\n",
      "Epoch 23/50\n",
      "\u001b[1m2/2\u001b[0m \u001b[32m━━━━━━━━━━━━━━━━━━━━\u001b[0m\u001b[37m\u001b[0m \u001b[1m0s\u001b[0m 19ms/step - accuracy: 0.7567 - loss: 0.3935 - val_accuracy: 0.9231 - val_loss: 0.2629\n",
      "Epoch 24/50\n",
      "\u001b[1m2/2\u001b[0m \u001b[32m━━━━━━━━━━━━━━━━━━━━\u001b[0m\u001b[37m\u001b[0m \u001b[1m0s\u001b[0m 19ms/step - accuracy: 0.7908 - loss: 0.4564 - val_accuracy: 0.9231 - val_loss: 0.2662\n",
      "Epoch 25/50\n",
      "\u001b[1m2/2\u001b[0m \u001b[32m━━━━━━━━━━━━━━━━━━━━\u001b[0m\u001b[37m\u001b[0m \u001b[1m0s\u001b[0m 19ms/step - accuracy: 0.8071 - loss: 0.3033 - val_accuracy: 0.9231 - val_loss: 0.2805\n",
      "Epoch 26/50\n",
      "\u001b[1m2/2\u001b[0m \u001b[32m━━━━━━━━━━━━━━━━━━━━\u001b[0m\u001b[37m\u001b[0m \u001b[1m0s\u001b[0m 19ms/step - accuracy: 0.6692 - loss: 0.7321 - val_accuracy: 1.0000 - val_loss: 0.3000\n",
      "Epoch 27/50\n",
      "\u001b[1m2/2\u001b[0m \u001b[32m━━━━━━━━━━━━━━━━━━━━\u001b[0m\u001b[37m\u001b[0m \u001b[1m0s\u001b[0m 19ms/step - accuracy: 0.6958 - loss: 0.4815 - val_accuracy: 1.0000 - val_loss: 0.3079\n",
      "Epoch 28/50\n",
      "\u001b[1m2/2\u001b[0m \u001b[32m━━━━━━━━━━━━━━━━━━━━\u001b[0m\u001b[37m\u001b[0m \u001b[1m0s\u001b[0m 20ms/step - accuracy: 0.6988 - loss: 1.3212 - val_accuracy: 0.9231 - val_loss: 0.3011\n",
      "Epoch 29/50\n",
      "\u001b[1m2/2\u001b[0m \u001b[32m━━━━━━━━━━━━━━━━━━━━\u001b[0m\u001b[37m\u001b[0m \u001b[1m0s\u001b[0m 20ms/step - accuracy: 0.7538 - loss: 1.4362 - val_accuracy: 0.9231 - val_loss: 0.3083\n",
      "Epoch 30/50\n",
      "\u001b[1m2/2\u001b[0m \u001b[32m━━━━━━━━━━━━━━━━━━━━\u001b[0m\u001b[37m\u001b[0m \u001b[1m0s\u001b[0m 24ms/step - accuracy: 0.7833 - loss: 0.4551 - val_accuracy: 0.9231 - val_loss: 0.3267\n",
      "Epoch 31/50\n",
      "\u001b[1m2/2\u001b[0m \u001b[32m━━━━━━━━━━━━━━━━━━━━\u001b[0m\u001b[37m\u001b[0m \u001b[1m0s\u001b[0m 23ms/step - accuracy: 0.7937 - loss: 0.3901 - val_accuracy: 0.9231 - val_loss: 0.3239\n",
      "Epoch 32/50\n",
      "\u001b[1m2/2\u001b[0m \u001b[32m━━━━━━━━━━━━━━━━━━━━\u001b[0m\u001b[37m\u001b[0m \u001b[1m0s\u001b[0m 22ms/step - accuracy: 0.7671 - loss: 0.4006 - val_accuracy: 0.9231 - val_loss: 0.3206\n",
      "Epoch 33/50\n",
      "\u001b[1m2/2\u001b[0m \u001b[32m━━━━━━━━━━━━━━━━━━━━\u001b[0m\u001b[37m\u001b[0m \u001b[1m0s\u001b[0m 22ms/step - accuracy: 0.8042 - loss: 0.4095 - val_accuracy: 0.9231 - val_loss: 0.3230\n",
      "Epoch 34/50\n",
      "\u001b[1m2/2\u001b[0m \u001b[32m━━━━━━━━━━━━━━━━━━━━\u001b[0m\u001b[37m\u001b[0m \u001b[1m0s\u001b[0m 20ms/step - accuracy: 0.8383 - loss: 0.3668 - val_accuracy: 0.9231 - val_loss: 0.3255\n",
      "Epoch 35/50\n",
      "\u001b[1m2/2\u001b[0m \u001b[32m━━━━━━━━━━━━━━━━━━━━\u001b[0m\u001b[37m\u001b[0m \u001b[1m0s\u001b[0m 20ms/step - accuracy: 0.8175 - loss: 0.3609 - val_accuracy: 0.9231 - val_loss: 0.3263\n",
      "Epoch 36/50\n",
      "\u001b[1m2/2\u001b[0m \u001b[32m━━━━━━━━━━━━━━━━━━━━\u001b[0m\u001b[37m\u001b[0m \u001b[1m0s\u001b[0m 20ms/step - accuracy: 0.7833 - loss: 0.3582 - val_accuracy: 0.9231 - val_loss: 0.3247\n",
      "Epoch 37/50\n",
      "\u001b[1m2/2\u001b[0m \u001b[32m━━━━━━━━━━━━━━━━━━━━\u001b[0m\u001b[37m\u001b[0m \u001b[1m0s\u001b[0m 20ms/step - accuracy: 0.7358 - loss: 0.9814 - val_accuracy: 0.9231 - val_loss: 0.3231\n",
      "Epoch 38/50\n",
      "\u001b[1m2/2\u001b[0m \u001b[32m━━━━━━━━━━━━━━━━━━━━\u001b[0m\u001b[37m\u001b[0m \u001b[1m0s\u001b[0m 21ms/step - accuracy: 0.8042 - loss: 0.7845 - val_accuracy: 0.9231 - val_loss: 0.3207\n",
      "Epoch 39/50\n",
      "\u001b[1m2/2\u001b[0m \u001b[32m━━━━━━━━━━━━━━━━━━━━\u001b[0m\u001b[37m\u001b[0m \u001b[1m0s\u001b[0m 23ms/step - accuracy: 0.8012 - loss: 0.4310 - val_accuracy: 0.9231 - val_loss: 0.3181\n",
      "Epoch 40/50\n",
      "\u001b[1m2/2\u001b[0m \u001b[32m━━━━━━━━━━━━━━━━━━━━\u001b[0m\u001b[37m\u001b[0m \u001b[1m0s\u001b[0m 22ms/step - accuracy: 0.8012 - loss: 0.8984 - val_accuracy: 0.9231 - val_loss: 0.3169\n",
      "Epoch 41/50\n",
      "\u001b[1m2/2\u001b[0m \u001b[32m━━━━━━━━━━━━━━━━━━━━\u001b[0m\u001b[37m\u001b[0m \u001b[1m0s\u001b[0m 21ms/step - accuracy: 0.7596 - loss: 0.4089 - val_accuracy: 0.9231 - val_loss: 0.3157\n",
      "Epoch 42/50\n",
      "\u001b[1m2/2\u001b[0m \u001b[32m━━━━━━━━━━━━━━━━━━━━\u001b[0m\u001b[37m\u001b[0m \u001b[1m0s\u001b[0m 20ms/step - accuracy: 0.7937 - loss: 0.4193 - val_accuracy: 0.9231 - val_loss: 0.3132\n",
      "Epoch 43/50\n",
      "\u001b[1m2/2\u001b[0m \u001b[32m━━━━━━━━━━━━━━━━━━━━\u001b[0m\u001b[37m\u001b[0m \u001b[1m0s\u001b[0m 20ms/step - accuracy: 0.8042 - loss: 0.3871 - val_accuracy: 0.9231 - val_loss: 0.3103\n",
      "Epoch 44/50\n",
      "\u001b[1m2/2\u001b[0m \u001b[32m━━━━━━━━━━━━━━━━━━━━\u001b[0m\u001b[37m\u001b[0m \u001b[1m0s\u001b[0m 20ms/step - accuracy: 0.8279 - loss: 0.3400 - val_accuracy: 0.9231 - val_loss: 0.3074\n",
      "Epoch 45/50\n",
      "\u001b[1m2/2\u001b[0m \u001b[32m━━━━━━━━━━━━━━━━━━━━\u001b[0m\u001b[37m\u001b[0m \u001b[1m0s\u001b[0m 20ms/step - accuracy: 0.8383 - loss: 0.3352 - val_accuracy: 0.9231 - val_loss: 0.3042\n",
      "Epoch 46/50\n",
      "\u001b[1m2/2\u001b[0m \u001b[32m━━━━━━━━━━━━━━━━━━━━\u001b[0m\u001b[37m\u001b[0m \u001b[1m0s\u001b[0m 26ms/step - accuracy: 0.8517 - loss: 0.3353 - val_accuracy: 0.9231 - val_loss: 0.3027\n",
      "Epoch 47/50\n",
      "\u001b[1m2/2\u001b[0m \u001b[32m━━━━━━━━━━━━━━━━━━━━\u001b[0m\u001b[37m\u001b[0m \u001b[1m0s\u001b[0m 20ms/step - accuracy: 0.8042 - loss: 0.3953 - val_accuracy: 0.9231 - val_loss: 0.3008\n",
      "Epoch 48/50\n",
      "\u001b[1m2/2\u001b[0m \u001b[32m━━━━━━━━━━━━━━━━━━━━\u001b[0m\u001b[37m\u001b[0m \u001b[1m0s\u001b[0m 20ms/step - accuracy: 0.8071 - loss: 0.4086 - val_accuracy: 0.9231 - val_loss: 0.2996\n",
      "Epoch 49/50\n",
      "\u001b[1m2/2\u001b[0m \u001b[32m━━━━━━━━━━━━━━━━━━━━\u001b[0m\u001b[37m\u001b[0m \u001b[1m0s\u001b[0m 20ms/step - accuracy: 0.8383 - loss: 0.3202 - val_accuracy: 0.9231 - val_loss: 0.2974\n",
      "Epoch 50/50\n",
      "\u001b[1m2/2\u001b[0m \u001b[32m━━━━━━━━━━━━━━━━━━━━\u001b[0m\u001b[37m\u001b[0m \u001b[1m0s\u001b[0m 20ms/step - accuracy: 0.8308 - loss: 0.3692 - val_accuracy: 0.9231 - val_loss: 0.2970\n"
     ]
    }
   ],
   "source": [
    "#Training the model--- by making no.of 0 and 1 classes same \n",
    "history2=model.fit(x_train, y_train, epochs=50, batch_size=32, validation_data=(x_test, y_test)) "
   ]
  },
  {
   "cell_type": "code",
   "execution_count": 22,
   "metadata": {},
   "outputs": [
    {
     "data": {
      "image/png": "[encoded data removed]",
      "text/plain": [
       "<Figure size 640x480 with 1 Axes>"
      ]
     },
     "metadata": {},
     "output_type": "display_data"
    }
   ],
   "source": [
    "plt.plot(history2.history['loss']) \n",
    "plt.plot(history2.history['val_loss'])\n",
    "plt.title('Loss')\n",
    "plt.ylabel('Loss')\n",
    "plt.xlabel('Epoch')\n",
    "plt.legend(['Training Loss', 'Validation Loss'], loc='upper right')\n",
    "plt.show()"
   ]
  },
  {
   "cell_type": "code",
   "execution_count": 23,
   "metadata": {},
   "outputs": [
    {
     "name": "stdout",
     "output_type": "stream",
     "text": [
      "\u001b[1m1/1\u001b[0m \u001b[32m━━━━━━━━━━━━━━━━━━━━\u001b[0m\u001b[37m\u001b[0m \u001b[1m0s\u001b[0m 13ms/step - accuracy: 0.9231 - loss: 0.2970\n",
      "\u001b[1m1/1\u001b[0m \u001b[32m━━━━━━━━━━━━━━━━━━━━\u001b[0m\u001b[37m\u001b[0m \u001b[1m0s\u001b[0m 31ms/step\n",
      "Prediction: [1], True Label: [1]\n",
      "Prediction: [1], True Label: [1]\n",
      "Prediction: [0], True Label: [0]\n",
      "Prediction: [1], True Label: [1]\n",
      "Prediction: [0], True Label: [0]\n",
      "Prediction: [1], True Label: [1]\n",
      "Prediction: [0], True Label: [1]\n",
      "Prediction: [1], True Label: [1]\n",
      "Prediction: [0], True Label: [0]\n",
      "Prediction: [0], True Label: [0]\n",
      "Test Accuracy: 92.31%\n"
     ]
    }
   ],
   "source": [
    "\n",
    "loss, accuracy = model.evaluate(x_test, y_test) \n",
    "y_pred=model.predict(x_test) \n",
    "predicted_classes = (y_pred >= 0.5).astype(int)\n",
    "for i in range(10): \n",
    "    print(f\"Prediction: {predicted_classes[i]}, True Label: {y_test[i]}\")\n",
    "print(f'Test Accuracy: {accuracy * 100:.2f}%') "
   ]
  },
  {
   "cell_type": "code",
   "execution_count": 24,
   "metadata": {},
   "outputs": [],
   "source": [
    "from sklearn.metrics import confusion_matrix,ConfusionMatrixDisplay"
   ]
  },
  {
   "cell_type": "code",
   "execution_count": 25,
   "metadata": {},
   "outputs": [
    {
     "name": "stdout",
     "output_type": "stream",
     "text": [
      "\u001b[1m1/1\u001b[0m \u001b[32m━━━━━━━━━━━━━━━━━━━━\u001b[0m\u001b[37m\u001b[0m \u001b[1m0s\u001b[0m 10ms/step\n"
     ]
    },
    {
     "data": {
      "text/plain": [
       "<sklearn.metrics._plot.confusion_matrix.ConfusionMatrixDisplay at 0x310cb7400>"
      ]
     },
     "execution_count": 25,
     "metadata": {},
     "output_type": "execute_result"
    },
    {
     "data": {
      "image/png": "[encoded data removed]",
      "text/plain": [
       "<Figure size 640x480 with 2 Axes>"
      ]
     },
     "metadata": {},
     "output_type": "display_data"
    }
   ],
   "source": [
    "#confusion matrix \n",
    "\n",
    "y_pred=model.predict(x_test)\n",
    "predicted_classes = (y_pred >= 0.5).astype(int)\n",
    "conf_matrix = confusion_matrix(y_test, predicted_classes,labels=[0,1])\n",
    "\n",
    "disp = ConfusionMatrixDisplay(conf_matrix)\n",
    "disp.plot()"
   ]
  },
  {
   "cell_type": "code",
   "execution_count": 26,
   "metadata": {},
   "outputs": [
    {
     "name": "stdout",
     "output_type": "stream",
     "text": [
      "\u001b[1m2/2\u001b[0m \u001b[32m━━━━━━━━━━━━━━━━━━━━\u001b[0m\u001b[37m\u001b[0m \u001b[1m0s\u001b[0m 3ms/step \n",
      "              precision    recall  f1-score   support\n",
      "\n",
      "     class 0       0.72      1.00      0.84        23\n",
      "     class 1       1.00      0.67      0.80        27\n",
      "\n",
      "    accuracy                           0.82        50\n",
      "   macro avg       0.86      0.83      0.82        50\n",
      "weighted avg       0.87      0.82      0.82        50\n",
      "\n"
     ]
    }
   ],
   "source": [
    "from sklearn.metrics import classification_report\n",
    "\n",
    "y_pred = model.predict(x_train) \n",
    "y_pred = (y_pred >= 0.5).astype(int)\n",
    "print(classification_report(y_train, y_pred, target_names=['class 0', 'class 1']))"
   ]
  }
 ],
 "metadata": {
  "kernelspec": {
   "display_name": "Python 3",
   "language": "python",
   "name": "python3"
  },
  "language_info": {
   "codemirror_mode": {
    "name": "ipython",
    "version": 3
   },
   "file_extension": ".py",
   "mimetype": "text/x-python",
   "name": "python",
   "nbconvert_exporter": "python",
   "pygments_lexer": "ipython3",
   "version": "3.9.6"
  }
 },
 "nbformat": 4,
 "nbformat_minor": 2
}

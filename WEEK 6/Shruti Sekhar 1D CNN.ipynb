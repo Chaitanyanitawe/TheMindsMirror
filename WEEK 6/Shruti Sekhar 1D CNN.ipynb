{
 "cells": [
  {
   "cell_type": "code",
   "execution_count": 1,
   "metadata": {},
   "outputs": [],
   "source": [
    "import pandas as pd \n",
    "import numpy as np \n",
    "import matplotlib.pyplot as plt\n",
    "import os  \n",
    "from scipy.signal import butter, filtfilt,lfilter\n",
    "from sklearn.preprocessing import RobustScaler"
   ]
  },
  {
   "cell_type": "code",
   "execution_count": 2,
   "metadata": {},
   "outputs": [],
   "source": [
    "# loading and preprocessing data \n",
    "def preprocess(directory):\n",
    "    csv_files=[f for f in os.listdir(directory) if f.endswith('.csv')]  \n",
    "    all_data=[]\n",
    "    for i in csv_files:\n",
    "        df=pd.read_csv(os.path.join(directory, i))  \n",
    "        df.columns=['Output1','Output2','Output3','Output4','Output5','Output6','Output7','Output8'] \n",
    "        data=df.iloc[:, :4]  \n",
    "        all_data.append(data) \n",
    "    my_data=pd.concat(all_data, ignore_index=True) \n",
    "\n",
    "    return my_data\n",
    "\n"
   ]
  },
  {
   "cell_type": "code",
   "execution_count": 3,
   "metadata": {},
   "outputs": [],
   "source": [
    "data=preprocess('collected data')"
   ]
  },
  {
   "cell_type": "code",
   "execution_count": 4,
   "metadata": {},
   "outputs": [
    {
     "name": "stdout",
     "output_type": "stream",
     "text": [
      "             Output1       Output2       Output3       Output4\n",
      "0             300107        233298        180506        170026\n",
      "1             300069        233186        180483        170026\n",
      "2             300029        233094        180408        170018\n",
      "3             300065        233188        180442        170023\n",
      "4             300114        233363        180554        170023\n",
      "...              ...           ...           ...           ...\n",
      "391648        391839        311223        851523        807464\n",
      "391649        392079        311234        852097        807579\n",
      "391650        392190        311238        852394        807682\n",
      "391651        392113        311244        852228        807680\n",
      "391652  end five.jpg  end five.jpg  end five.jpg  end five.jpg\n",
      "\n",
      "[391653 rows x 4 columns]\n"
     ]
    }
   ],
   "source": [
    "print(data)"
   ]
  },
  {
   "cell_type": "code",
   "execution_count": 5,
   "metadata": {},
   "outputs": [],
   "source": [
    "start_markers = ['start one.png', 'start five.jpg', 'start nine.jpg', 'start six.jpg', 'start zero.png', 'start animal.jpg', 'start four.jpg', 'start eight.jpg', 'start three.jpg', 'start seven.jpg', 'start two.jpg']\n",
    "end_markers = ['end one.png', 'end five.jpg', 'end nine.jpg', 'end six.jpg', 'end zero.png', 'end animal.jpg', 'end four.jpg', 'end eight.jpg', 'end three.jpg', 'end seven.jpg', 'end two.jpg']"
   ]
  },
  {
   "cell_type": "code",
   "execution_count": 6,
   "metadata": {},
   "outputs": [],
   "source": [
    "def extract_center_rows(data, start_range, end_range, length):\n",
    "    if start_range > end_range:\n",
    "        raise ValueError(\"start_range should be less than or equal to end_range\")\n",
    "    \n",
    "    if end_range - start_range < length:\n",
    "        return False, 0\n",
    "    \n",
    "    range_data = data.loc[start_range:end_range]\n",
    "    if length > len(range_data):\n",
    "        raise ValueError(\"The specified length is greater than the number of rows in the range\")\n",
    "    \n",
    "    center_index = len(range_data) // 2\n",
    "    start_index = max(0, center_index - length // 2)\n",
    "    end_index = start_index + length\n",
    "    center_rows = range_data.iloc[start_index:end_index]\n",
    "    \n",
    "    return True, center_rows"
   ]
  },
  {
   "cell_type": "code",
   "execution_count": 7,
   "metadata": {},
   "outputs": [],
   "source": [
    "def extract_data_between_markers(data, start_markers, end_markers, datashape):\n",
    "    X = []\n",
    "    Y = []\n",
    "    between_markers = False\n",
    "    label = None\n",
    "    start_idx = None\n",
    "    end_idx = None\n",
    "    df_temp = []\n",
    "    segment_lengths = []\n",
    "    \n",
    "    marker_to_label = {\n",
    "        'start one.png': 1, 'end one.png': 1,\n",
    "        'start two.jpg': 2, 'end two.jpg': 2,\n",
    "        'start three.jpg': 3, 'end three.jpg': 3,\n",
    "        'start four.jpg': 4, 'end four.jpg': 4,\n",
    "        'start five.jpg': 5, 'end five.jpg': 5,\n",
    "        'start six.jpg': 6, 'end six.jpg': 6,\n",
    "        'start seven.jpg': 7, 'end seven.jpg': 7,\n",
    "        'start eight.jpg': 8, 'end eight.jpg': 8,\n",
    "        'start nine.jpg': 9, 'end nine.jpg': 9,\n",
    "        'start zero.png': 0, 'end zero.png': 0,\n",
    "        'start animal.jpg': -1, 'end animal.jpg': -1\n",
    "    }\n",
    "    \n",
    "    for index, row in data.iterrows():\n",
    "        if row.iloc[0] in start_markers:\n",
    "            label = marker_to_label[row.iloc[0]]\n",
    "            start_idx = index\n",
    "            between_markers = True\n",
    "            df_temp = []\n",
    "           \n",
    "        elif row.iloc[0] in end_markers:\n",
    "            if between_markers and len(df_temp) > 0:\n",
    "                end_idx = index\n",
    "                success, extracted_data = extract_center_rows(data, start_idx, end_idx, datashape[0])\n",
    "                if success:\n",
    "                    X.append(extracted_data.values.astype(float))\n",
    "                    Y.append(label)\n",
    "                  \n",
    "                segment_lengths.append(len(df_temp))\n",
    "            between_markers = False\n",
    "        elif between_markers:\n",
    "            df_temp.append(row.iloc[:4].values.tolist())\n",
    "    \n",
    "    X = np.array(X)\n",
    "    Y = np.array(Y)\n",
    "    \n",
    "    print(\"Total segments found:\", len(segment_lengths))\n",
    "    print(\"Segment lengths:\", segment_lengths)\n",
    "    print(\"Number of segments meeting length requirement:\", len(X))\n",
    "    \n",
    "    return X, Y"
   ]
  },
  {
   "cell_type": "code",
   "execution_count": 8,
   "metadata": {},
   "outputs": [
    {
     "name": "stdout",
     "output_type": "stream",
     "text": [
      "Total segments found: 187\n",
      "Segment lengths: [1280, 1280, 1280, 1155, 1280, 1280, 1280, 1280, 1408, 1205, 1280, 1210, 1280, 1280, 1280, 1280, 1231, 1220, 1299, 1280, 1280, 1280, 1152, 1280, 1188, 1280, 1280, 1280, 1152, 1280, 1194, 1152, 1280, 1152, 1280, 1280, 1280, 1280, 1280, 1280, 1280, 1280, 1281, 1195, 1381, 1159, 1280, 1280, 1280, 1280, 1280, 1280, 1183, 1280, 1280, 1280, 1280, 1280, 1280, 1280, 1187, 1280, 1280, 1280, 1280, 1304, 1024, 1664, 704, 1408, 1280, 896, 279, 3072, 1280, 896, 2176, 1280, 1280, 1203, 1280, 1280, 1195, 1280, 1280, 1280, 1280, 1280, 1280, 1280, 1280, 1280, 1280, 1280, 1280, 1173, 1280, 1280, 1152, 1280, 1280, 1280, 1280, 1166, 1152, 1280, 1280, 1280, 1280, 1280, 1162, 1212, 1280, 1280, 1280, 1280, 1792, 1280, 1280, 1224, 1280, 1187, 1280, 1280, 1152, 1280, 1280, 1280, 1169, 1280, 1280, 1280, 1280, 1280, 1213, 1280, 1280, 1280, 1280, 1165, 1280, 1280, 1280, 1280, 1280, 1280, 1280, 1280, 1280, 1280, 1280, 1152, 1280, 1280, 1304, 1280, 1024, 1280, 1152, 1280, 1152, 1280, 1280, 1280, 1280, 1280, 1280, 1280, 1212, 1280, 1280, 1280, 1280, 1280, 1280, 1231, 1280, 1280, 1280, 1280, 1159, 1164, 1280, 1280, 1280, 1280, 1194]\n",
      "Number of segments meeting length requirement: 183\n",
      "X shape: (183, 1000, 4)\n",
      "Y shape: (183,)\n",
      "Unique labels in Y: [-1  0  1  2  3  4  5  6  7  8  9]\n"
     ]
    }
   ],
   "source": [
    "datashape = (1000, 4)\n",
    "\n",
    "X, Y = extract_data_between_markers(data, start_markers, end_markers, datashape)\n",
    "\n",
    "\n",
    "print(\"X shape:\", X.shape)\n",
    "print(\"Y shape:\", Y.shape)\n",
    "\n",
    "print(\"Unique labels in Y:\", np.unique(Y))"
   ]
  },
  {
   "cell_type": "code",
   "execution_count": 9,
   "metadata": {},
   "outputs": [
    {
     "name": "stdout",
     "output_type": "stream",
     "text": [
      "[ 4  8  3  7  1 -1  6  0  5  2  9  2  6  0  3  7  4  1 -1  5  8  9  7  4\n",
      " -1  2  0  3  8  1  5  9  6  4  2 -1  7  9  8  5  6  1  0  3  7  1  0  9\n",
      "  5  3  2  4  8 -1  6  0  7  4  3  6  8 -1  1  2  5  9  4  3 -1  0  6  5\n",
      "  7  3  9  2  7  5  8  1  6 -1  4  0  1  0 -1  2  4  9  5  3  7  8  6  3\n",
      "  7  2  8  4  1  5  6  9  0 -1  2  9  6  8  3  4  5  7 -1  0  1  1  5  9\n",
      "  6  0 -1  4  8  3  7  2  4  6  9  0  5  2  8  1 -1  3  7  0  6  7  4  5\n",
      "  8  1 -1  9  2  3  2  3 -1  4  6  0  8  7  5  9  1  4  9 -1  1  8  0  3\n",
      "  7  6  5  2 -1  7  2  9  8  0  1  3  4  6  5]\n"
     ]
    }
   ],
   "source": [
    "print(Y)"
   ]
  },
  {
   "cell_type": "code",
   "execution_count": 10,
   "metadata": {},
   "outputs": [
    {
     "name": "stdout",
     "output_type": "stream",
     "text": [
      "[0, 0, 0, 0, 0, 1, 0, 1, 0, 0, 0, 0, 0, 1, 0, 0, 0, 0, 1, 0, 0, 0, 0, 0, 1, 0, 1, 0, 0, 0, 0, 0, 0, 0, 0, 1, 0, 0, 0, 0, 0, 0, 1, 0, 0, 0, 1, 0, 0, 0, 0, 0, 0, 1, 0, 1, 0, 0, 0, 0, 0, 1, 0, 0, 0, 0, 0, 0, 1, 1, 0, 0, 0, 0, 0, 0, 0, 0, 0, 0, 0, 1, 0, 1, 0, 1, 1, 0, 0, 0, 0, 0, 0, 0, 0, 0, 0, 0, 0, 0, 0, 0, 0, 0, 1, 1, 0, 0, 0, 0, 0, 0, 0, 0, 1, 1, 0, 0, 0, 0, 0, 1, 1, 0, 0, 0, 0, 0, 0, 0, 0, 1, 0, 0, 0, 0, 1, 0, 0, 1, 0, 0, 0, 0, 0, 0, 1, 0, 0, 0, 0, 0, 1, 0, 0, 1, 0, 0, 0, 0, 0, 0, 0, 1, 0, 0, 1, 0, 0, 0, 0, 0, 1, 0, 0, 0, 0, 1, 0, 0, 0, 0, 0]\n"
     ]
    }
   ],
   "source": [
    "y_binary=[]\n",
    "for i in Y: \n",
    "    if i in [1, 2, 3, 4, 5, 6, 7, 8, 9]: \n",
    "        y_binary.append(0) \n",
    "    else:\n",
    "        y_binary.append(1)\n",
    "print(y_binary)\n"
   ]
  },
  {
   "cell_type": "code",
   "execution_count": 11,
   "metadata": {},
   "outputs": [],
   "source": [
    "scaler = RobustScaler()\n",
    "scaler.fit(X[0])\n",
    "for i,x in enumerate(X):\n",
    "    X[i] = scaler.transform(x)"
   ]
  },
  {
   "cell_type": "code",
   "execution_count": 12,
   "metadata": {},
   "outputs": [],
   "source": [
    "from sklearn.model_selection import train_test_split \n",
    "x_train,x_test,y_train,y_test = train_test_split(X,y_binary,test_size=0.2) \n"
   ]
  },
  {
   "cell_type": "code",
   "execution_count": 13,
   "metadata": {},
   "outputs": [],
   "source": [
    "y_train_resized=[] \n",
    "x_train_resized=[]\n",
    "c=0\n",
    "for i in range(len(y_binary)):\n",
    "    if y_binary[i] == 0:\n",
    "        c=c+1\n",
    "        if c<30:\n",
    "           y_train_resized.append(0) \n",
    "           x_train_resized.append(X[i])\n",
    "    else:\n",
    "        y_train_resized.append(1) \n",
    "        x_train_resized.append(X[i])\n",
    "\n",
    "y_train_resized=np.array(y_train_resized)\n",
    "x_train_resized=np.array(x_train_resized)"
   ]
  },
  {
   "cell_type": "code",
   "execution_count": 14,
   "metadata": {},
   "outputs": [
    {
     "name": "stdout",
     "output_type": "stream",
     "text": [
      "[0 0 0 0 0 1 0 1 0 0 0 0 0 1 0 0 0 0 1 0 0 0 0 0 1 0 1 0 0 0 0 0 0 0 0 1 1\n",
      " 1 1 1 1 1 1 1 1 1 1 1 1 1 1 1 1 1 1 1 1 1 1 1 1 1 1]\n"
     ]
    }
   ],
   "source": [
    "print((y_train_resized))"
   ]
  },
  {
   "cell_type": "code",
   "execution_count": 15,
   "metadata": {},
   "outputs": [],
   "source": [
    "from sklearn.model_selection import train_test_split \n",
    "x_train,x_test,y_train,y_test = train_test_split(x_train_resized,y_train_resized,test_size=0.2) \n"
   ]
  },
  {
   "cell_type": "code",
   "execution_count": 16,
   "metadata": {},
   "outputs": [],
   "source": [
    "from sklearn.utils.class_weight import compute_class_weight  \n",
    "class_labels = np.unique(y_train)\n",
    "class_weights = compute_class_weight(class_weight='balanced',classes=np.unique(y_train), y=list(y_train))"
   ]
  },
  {
   "cell_type": "code",
   "execution_count": 17,
   "metadata": {},
   "outputs": [
    {
     "name": "stdout",
     "output_type": "stream",
     "text": [
      "{0: 1.1904761904761905, 1: 0.8620689655172413}\n"
     ]
    }
   ],
   "source": [
    "class_weights_dict = dict(zip(class_labels, class_weights)) \n",
    "print(class_weights_dict)\n"
   ]
  },
  {
   "cell_type": "code",
   "execution_count": 18,
   "metadata": {},
   "outputs": [
    {
     "name": "stderr",
     "output_type": "stream",
     "text": [
      "/Users/shrutisekhar/Library/Python/3.9/lib/python/site-packages/urllib3/__init__.py:35: NotOpenSSLWarning: urllib3 v2 only supports OpenSSL 1.1.1+, currently the 'ssl' module is compiled with 'LibreSSL 2.8.3'. See: https://github.com/urllib3/urllib3/issues/3020\n",
      "  warnings.warn(\n"
     ]
    }
   ],
   "source": [
    "from tensorflow.keras.layers import Dense,Flatten,Conv1D,MaxPooling1D,Dropout \n",
    "from tensorflow.keras.models import Sequential"
   ]
  },
  {
   "cell_type": "code",
   "execution_count": 19,
   "metadata": {},
   "outputs": [],
   "source": [
    "y_train=np.expand_dims(y_train,1) \n",
    "y_test=np.expand_dims(y_test,1) \n"
   ]
  },
  {
   "cell_type": "code",
   "execution_count": 20,
   "metadata": {},
   "outputs": [
    {
     "name": "stderr",
     "output_type": "stream",
     "text": [
      "/Users/shrutisekhar/Library/Python/3.9/lib/python/site-packages/keras/src/layers/convolutional/base_conv.py:107: UserWarning: Do not pass an `input_shape`/`input_dim` argument to a layer. When using Sequential models, prefer using an `Input(shape)` object as the first layer in the model instead.\n",
      "  super().__init__(activity_regularizer=activity_regularizer, **kwargs)\n"
     ]
    }
   ],
   "source": [
    "model = Sequential([\n",
    "    Conv1D(32, 3, activation='relu', input_shape=(1000, 4)),\n",
    "    MaxPooling1D(pool_size=2),\n",
    "    Conv1D(64, 3, activation='relu'),\n",
    "    MaxPooling1D(pool_size=2), \n",
    "    Flatten(),\n",
    "    Dense(128, activation='relu'),\n",
    "    Dropout(0.5),\n",
    "    Dense(1, activation='sigmoid') \n",
    "])\n",
    "\n",
    "model.compile(optimizer='adam', loss='binary_crossentropy', metrics=['accuracy'])"
   ]
  },
  {
   "cell_type": "code",
   "execution_count": 21,
   "metadata": {},
   "outputs": [
    {
     "name": "stdout",
     "output_type": "stream",
     "text": [
      "Epoch 1/50\n",
      "\u001b[1m2/2\u001b[0m \u001b[32m━━━━━━━━━━━━━━━━━━━━\u001b[0m\u001b[37m\u001b[0m \u001b[1m1s\u001b[0m 89ms/step - accuracy: 0.3054 - loss: 42.2640 - val_accuracy: 1.0000 - val_loss: 9.0899e-21\n",
      "Epoch 2/50\n",
      "\u001b[1m2/2\u001b[0m \u001b[32m━━━━━━━━━━━━━━━━━━━━\u001b[0m\u001b[37m\u001b[0m \u001b[1m0s\u001b[0m 23ms/step - accuracy: 0.7433 - loss: 34.4871 - val_accuracy: 0.7692 - val_loss: 17.4510\n",
      "Epoch 3/50\n",
      "\u001b[1m2/2\u001b[0m \u001b[32m━━━━━━━━━━━━━━━━━━━━\u001b[0m\u001b[37m\u001b[0m \u001b[1m0s\u001b[0m 21ms/step - accuracy: 0.6587 - loss: 31.9368 - val_accuracy: 0.8462 - val_loss: 15.6682\n",
      "Epoch 4/50\n",
      "\u001b[1m2/2\u001b[0m \u001b[32m━━━━━━━━━━━━━━━━━━━━\u001b[0m\u001b[37m\u001b[0m \u001b[1m0s\u001b[0m 22ms/step - accuracy: 0.7833 - loss: 28.0916 - val_accuracy: 0.8462 - val_loss: 7.4327\n",
      "Epoch 5/50\n",
      "\u001b[1m2/2\u001b[0m \u001b[32m━━━━━━━━━━━━━━━━━━━━\u001b[0m\u001b[37m\u001b[0m \u001b[1m0s\u001b[0m 23ms/step - accuracy: 0.7017 - loss: 16.5163 - val_accuracy: 0.7692 - val_loss: 2.3149\n",
      "Epoch 6/50\n",
      "\u001b[1m2/2\u001b[0m \u001b[32m━━━━━━━━━━━━━━━━━━━━\u001b[0m\u001b[37m\u001b[0m \u001b[1m0s\u001b[0m 23ms/step - accuracy: 0.7063 - loss: 16.2459 - val_accuracy: 0.8462 - val_loss: 1.9325\n",
      "Epoch 7/50\n",
      "\u001b[1m2/2\u001b[0m \u001b[32m━━━━━━━━━━━━━━━━━━━━\u001b[0m\u001b[37m\u001b[0m \u001b[1m0s\u001b[0m 23ms/step - accuracy: 0.6854 - loss: 24.5832 - val_accuracy: 0.9231 - val_loss: 0.0816\n",
      "Epoch 8/50\n",
      "\u001b[1m2/2\u001b[0m \u001b[32m━━━━━━━━━━━━━━━━━━━━\u001b[0m\u001b[37m\u001b[0m \u001b[1m0s\u001b[0m 22ms/step - accuracy: 0.6854 - loss: 25.2575 - val_accuracy: 0.8462 - val_loss: 0.3780\n",
      "Epoch 9/50\n",
      "\u001b[1m2/2\u001b[0m \u001b[32m━━━━━━━━━━━━━━━━━━━━\u001b[0m\u001b[37m\u001b[0m \u001b[1m0s\u001b[0m 23ms/step - accuracy: 0.7196 - loss: 35.7227 - val_accuracy: 0.8462 - val_loss: 0.3814\n",
      "Epoch 10/50\n",
      "\u001b[1m2/2\u001b[0m \u001b[32m━━━━━━━━━━━━━━━━━━━━\u001b[0m\u001b[37m\u001b[0m \u001b[1m0s\u001b[0m 20ms/step - accuracy: 0.7121 - loss: 8.9956 - val_accuracy: 0.4615 - val_loss: 7.8068\n",
      "Epoch 11/50\n",
      "\u001b[1m2/2\u001b[0m \u001b[32m━━━━━━━━━━━━━━━━━━━━\u001b[0m\u001b[37m\u001b[0m \u001b[1m0s\u001b[0m 23ms/step - accuracy: 0.6217 - loss: 20.8860 - val_accuracy: 0.5385 - val_loss: 5.7798\n",
      "Epoch 12/50\n",
      "\u001b[1m2/2\u001b[0m \u001b[32m━━━━━━━━━━━━━━━━━━━━\u001b[0m\u001b[37m\u001b[0m \u001b[1m0s\u001b[0m 21ms/step - accuracy: 0.7329 - loss: 17.7474 - val_accuracy: 1.0000 - val_loss: 9.5026e-08\n",
      "Epoch 13/50\n",
      "\u001b[1m2/2\u001b[0m \u001b[32m━━━━━━━━━━━━━━━━━━━━\u001b[0m\u001b[37m\u001b[0m \u001b[1m0s\u001b[0m 22ms/step - accuracy: 0.7567 - loss: 7.2502 - val_accuracy: 1.0000 - val_loss: 2.2593e-10\n",
      "Epoch 14/50\n",
      "\u001b[1m2/2\u001b[0m \u001b[32m━━━━━━━━━━━━━━━━━━━━\u001b[0m\u001b[37m\u001b[0m \u001b[1m0s\u001b[0m 23ms/step - accuracy: 0.7567 - loss: 9.6070 - val_accuracy: 1.0000 - val_loss: 5.5118e-09\n",
      "Epoch 15/50\n",
      "\u001b[1m2/2\u001b[0m \u001b[32m━━━━━━━━━━━━━━━━━━━━\u001b[0m\u001b[37m\u001b[0m \u001b[1m0s\u001b[0m 20ms/step - accuracy: 0.7567 - loss: 7.5552 - val_accuracy: 1.0000 - val_loss: 8.1639e-05\n",
      "Epoch 16/50\n",
      "\u001b[1m2/2\u001b[0m \u001b[32m━━━━━━━━━━━━━━━━━━━━\u001b[0m\u001b[37m\u001b[0m \u001b[1m0s\u001b[0m 22ms/step - accuracy: 0.8517 - loss: 18.2134 - val_accuracy: 0.5385 - val_loss: 5.5446\n",
      "Epoch 17/50\n",
      "\u001b[1m2/2\u001b[0m \u001b[32m━━━━━━━━━━━━━━━━━━━━\u001b[0m\u001b[37m\u001b[0m \u001b[1m0s\u001b[0m 21ms/step - accuracy: 0.7092 - loss: 8.3459 - val_accuracy: 0.3846 - val_loss: 8.4805\n",
      "Epoch 18/50\n",
      "\u001b[1m2/2\u001b[0m \u001b[32m━━━━━━━━━━━━━━━━━━━━\u001b[0m\u001b[37m\u001b[0m \u001b[1m0s\u001b[0m 21ms/step - accuracy: 0.7538 - loss: 10.1167 - val_accuracy: 0.5385 - val_loss: 2.6715\n",
      "Epoch 19/50\n",
      "\u001b[1m2/2\u001b[0m \u001b[32m━━━━━━━━━━━━━━━━━━━━\u001b[0m\u001b[37m\u001b[0m \u001b[1m0s\u001b[0m 21ms/step - accuracy: 0.7908 - loss: 7.7220 - val_accuracy: 0.9231 - val_loss: 0.1096\n",
      "Epoch 20/50\n",
      "\u001b[1m2/2\u001b[0m \u001b[32m━━━━━━━━━━━━━━━━━━━━\u001b[0m\u001b[37m\u001b[0m \u001b[1m0s\u001b[0m 22ms/step - accuracy: 0.7033 - loss: 6.6419 - val_accuracy: 1.0000 - val_loss: 0.0063\n",
      "Epoch 21/50\n",
      "\u001b[1m2/2\u001b[0m \u001b[32m━━━━━━━━━━━━━━━━━━━━\u001b[0m\u001b[37m\u001b[0m \u001b[1m0s\u001b[0m 23ms/step - accuracy: 0.7700 - loss: 3.1891 - val_accuracy: 1.0000 - val_loss: 0.0165\n",
      "Epoch 22/50\n",
      "\u001b[1m2/2\u001b[0m \u001b[32m━━━━━━━━━━━━━━━━━━━━\u001b[0m\u001b[37m\u001b[0m \u001b[1m0s\u001b[0m 22ms/step - accuracy: 0.8146 - loss: 2.1762 - val_accuracy: 0.8462 - val_loss: 0.2510\n",
      "Epoch 23/50\n",
      "\u001b[1m2/2\u001b[0m \u001b[32m━━━━━━━━━━━━━━━━━━━━\u001b[0m\u001b[37m\u001b[0m \u001b[1m0s\u001b[0m 22ms/step - accuracy: 0.6825 - loss: 11.8852 - val_accuracy: 0.7692 - val_loss: 0.3981\n",
      "Epoch 24/50\n",
      "\u001b[1m2/2\u001b[0m \u001b[32m━━━━━━━━━━━━━━━━━━━━\u001b[0m\u001b[37m\u001b[0m \u001b[1m0s\u001b[0m 24ms/step - accuracy: 0.7092 - loss: 4.0921 - val_accuracy: 0.8462 - val_loss: 0.3933\n",
      "Epoch 25/50\n",
      "\u001b[1m2/2\u001b[0m \u001b[32m━━━━━━━━━━━━━━━━━━━━\u001b[0m\u001b[37m\u001b[0m \u001b[1m0s\u001b[0m 33ms/step - accuracy: 0.7700 - loss: 6.0853 - val_accuracy: 0.8462 - val_loss: 0.3309\n",
      "Epoch 26/50\n",
      "\u001b[1m2/2\u001b[0m \u001b[32m━━━━━━━━━━━━━━━━━━━━\u001b[0m\u001b[37m\u001b[0m \u001b[1m0s\u001b[0m 21ms/step - accuracy: 0.7908 - loss: 0.9856 - val_accuracy: 0.8462 - val_loss: 0.3059\n",
      "Epoch 27/50\n",
      "\u001b[1m2/2\u001b[0m \u001b[32m━━━━━━━━━━━━━━━━━━━━\u001b[0m\u001b[37m\u001b[0m \u001b[1m0s\u001b[0m 22ms/step - accuracy: 0.7567 - loss: 1.8892 - val_accuracy: 0.7692 - val_loss: 0.3915\n",
      "Epoch 28/50\n",
      "\u001b[1m2/2\u001b[0m \u001b[32m━━━━━━━━━━━━━━━━━━━━\u001b[0m\u001b[37m\u001b[0m \u001b[1m0s\u001b[0m 22ms/step - accuracy: 0.7300 - loss: 1.1936 - val_accuracy: 0.7692 - val_loss: 0.3760\n",
      "Epoch 29/50\n",
      "\u001b[1m2/2\u001b[0m \u001b[32m━━━━━━━━━━━━━━━━━━━━\u001b[0m\u001b[37m\u001b[0m \u001b[1m0s\u001b[0m 22ms/step - accuracy: 0.7329 - loss: 1.4940 - val_accuracy: 0.9231 - val_loss: 0.2220\n",
      "Epoch 30/50\n",
      "\u001b[1m2/2\u001b[0m \u001b[32m━━━━━━━━━━━━━━━━━━━━\u001b[0m\u001b[37m\u001b[0m \u001b[1m0s\u001b[0m 23ms/step - accuracy: 0.7596 - loss: 0.9846 - val_accuracy: 1.0000 - val_loss: 0.1455\n",
      "Epoch 31/50\n",
      "\u001b[1m2/2\u001b[0m \u001b[32m━━━━━━━━━━━━━━━━━━━━\u001b[0m\u001b[37m\u001b[0m \u001b[1m0s\u001b[0m 22ms/step - accuracy: 0.7196 - loss: 4.2260 - val_accuracy: 1.0000 - val_loss: 0.1269\n",
      "Epoch 32/50\n",
      "\u001b[1m2/2\u001b[0m \u001b[32m━━━━━━━━━━━━━━━━━━━━\u001b[0m\u001b[37m\u001b[0m \u001b[1m0s\u001b[0m 22ms/step - accuracy: 0.7879 - loss: 0.6227 - val_accuracy: 1.0000 - val_loss: 0.1551\n",
      "Epoch 33/50\n",
      "\u001b[1m2/2\u001b[0m \u001b[32m━━━━━━━━━━━━━━━━━━━━\u001b[0m\u001b[37m\u001b[0m \u001b[1m0s\u001b[0m 23ms/step - accuracy: 0.7358 - loss: 0.6254 - val_accuracy: 1.0000 - val_loss: 0.2254\n",
      "Epoch 34/50\n",
      "\u001b[1m2/2\u001b[0m \u001b[32m━━━━━━━━━━━━━━━━━━━━\u001b[0m\u001b[37m\u001b[0m \u001b[1m0s\u001b[0m 21ms/step - accuracy: 0.7225 - loss: 2.0644 - val_accuracy: 0.9231 - val_loss: 0.2719\n",
      "Epoch 35/50\n",
      "\u001b[1m2/2\u001b[0m \u001b[32m━━━━━━━━━━━━━━━━━━━━\u001b[0m\u001b[37m\u001b[0m \u001b[1m0s\u001b[0m 21ms/step - accuracy: 0.7567 - loss: 0.6155 - val_accuracy: 0.8462 - val_loss: 0.2397\n",
      "Epoch 36/50\n",
      "\u001b[1m2/2\u001b[0m \u001b[32m━━━━━━━━━━━━━━━━━━━━\u001b[0m\u001b[37m\u001b[0m \u001b[1m0s\u001b[0m 20ms/step - accuracy: 0.6721 - loss: 1.0266 - val_accuracy: 1.0000 - val_loss: 0.1840\n",
      "Epoch 37/50\n",
      "\u001b[1m2/2\u001b[0m \u001b[32m━━━━━━━━━━━━━━━━━━━━\u001b[0m\u001b[37m\u001b[0m \u001b[1m0s\u001b[0m 20ms/step - accuracy: 0.7908 - loss: 1.1283 - val_accuracy: 1.0000 - val_loss: 0.2808\n",
      "Epoch 38/50\n",
      "\u001b[1m2/2\u001b[0m \u001b[32m━━━━━━━━━━━━━━━━━━━━\u001b[0m\u001b[37m\u001b[0m \u001b[1m0s\u001b[0m 21ms/step - accuracy: 0.7775 - loss: 0.3525 - val_accuracy: 0.9231 - val_loss: 0.3462\n",
      "Epoch 39/50\n",
      "\u001b[1m2/2\u001b[0m \u001b[32m━━━━━━━━━━━━━━━━━━━━\u001b[0m\u001b[37m\u001b[0m \u001b[1m0s\u001b[0m 20ms/step - accuracy: 0.7804 - loss: 0.3433 - val_accuracy: 1.0000 - val_loss: 0.3536\n",
      "Epoch 40/50\n",
      "\u001b[1m2/2\u001b[0m \u001b[32m━━━━━━━━━━━━━━━━━━━━\u001b[0m\u001b[37m\u001b[0m \u001b[1m0s\u001b[0m 21ms/step - accuracy: 0.7775 - loss: 1.9034 - val_accuracy: 1.0000 - val_loss: 0.3269\n",
      "Epoch 41/50\n",
      "\u001b[1m2/2\u001b[0m \u001b[32m━━━━━━━━━━━━━━━━━━━━\u001b[0m\u001b[37m\u001b[0m \u001b[1m0s\u001b[0m 21ms/step - accuracy: 0.8413 - loss: 0.3487 - val_accuracy: 0.9231 - val_loss: 0.2993\n",
      "Epoch 42/50\n",
      "\u001b[1m2/2\u001b[0m \u001b[32m━━━━━━━━━━━━━━━━━━━━\u001b[0m\u001b[37m\u001b[0m \u001b[1m0s\u001b[0m 21ms/step - accuracy: 0.8146 - loss: 0.5692 - val_accuracy: 0.9231 - val_loss: 0.3032\n",
      "Epoch 43/50\n",
      "\u001b[1m2/2\u001b[0m \u001b[32m━━━━━━━━━━━━━━━━━━━━\u001b[0m\u001b[37m\u001b[0m \u001b[1m0s\u001b[0m 22ms/step - accuracy: 0.8117 - loss: 1.1636 - val_accuracy: 0.9231 - val_loss: 0.3349\n",
      "Epoch 44/50\n",
      "\u001b[1m2/2\u001b[0m \u001b[32m━━━━━━━━━━━━━━━━━━━━\u001b[0m\u001b[37m\u001b[0m \u001b[1m0s\u001b[0m 20ms/step - accuracy: 0.8308 - loss: 0.8468 - val_accuracy: 0.8462 - val_loss: 0.3210\n",
      "Epoch 45/50\n",
      "\u001b[1m2/2\u001b[0m \u001b[32m━━━━━━━━━━━━━━━━━━━━\u001b[0m\u001b[37m\u001b[0m \u001b[1m0s\u001b[0m 22ms/step - accuracy: 0.8517 - loss: 0.3708 - val_accuracy: 0.8462 - val_loss: 0.3144\n",
      "Epoch 46/50\n",
      "\u001b[1m2/2\u001b[0m \u001b[32m━━━━━━━━━━━━━━━━━━━━\u001b[0m\u001b[37m\u001b[0m \u001b[1m0s\u001b[0m 22ms/step - accuracy: 0.8071 - loss: 0.4657 - val_accuracy: 0.8462 - val_loss: 0.3057\n",
      "Epoch 47/50\n",
      "\u001b[1m2/2\u001b[0m \u001b[32m━━━━━━━━━━━━━━━━━━━━\u001b[0m\u001b[37m\u001b[0m \u001b[1m0s\u001b[0m 21ms/step - accuracy: 0.7567 - loss: 0.2948 - val_accuracy: 1.0000 - val_loss: 0.2697\n",
      "Epoch 48/50\n",
      "\u001b[1m2/2\u001b[0m \u001b[32m━━━━━━━━━━━━━━━━━━━━\u001b[0m\u001b[37m\u001b[0m \u001b[1m0s\u001b[0m 22ms/step - accuracy: 0.7729 - loss: 0.4388 - val_accuracy: 1.0000 - val_loss: 0.2425\n",
      "Epoch 49/50\n",
      "\u001b[1m2/2\u001b[0m \u001b[32m━━━━━━━━━━━━━━━━━━━━\u001b[0m\u001b[37m\u001b[0m \u001b[1m0s\u001b[0m 21ms/step - accuracy: 0.8175 - loss: 0.3818 - val_accuracy: 1.0000 - val_loss: 0.2461\n",
      "Epoch 50/50\n",
      "\u001b[1m2/2\u001b[0m \u001b[32m━━━━━━━━━━━━━━━━━━━━\u001b[0m\u001b[37m\u001b[0m \u001b[1m0s\u001b[0m 22ms/step - accuracy: 0.8413 - loss: 0.3266 - val_accuracy: 1.0000 - val_loss: 0.2599\n"
     ]
    }
   ],
   "source": [
    "#Training the model--- by making no.of 0 and 1 classes same \n",
    "history2=model.fit(x_train, y_train, epochs=50, batch_size=32, validation_data=(x_test, y_test)) "
   ]
  },
  {
   "cell_type": "code",
   "execution_count": 22,
   "metadata": {},
   "outputs": [
    {
     "name": "stdout",
     "output_type": "stream",
     "text": [
      "\u001b[1m1/1\u001b[0m \u001b[32m━━━━━━━━━━━━━━━━━━━━\u001b[0m\u001b[37m\u001b[0m \u001b[1m0s\u001b[0m 13ms/step - accuracy: 1.0000 - loss: 0.2599\n",
      "\u001b[1m1/1\u001b[0m \u001b[32m━━━━━━━━━━━━━━━━━━━━\u001b[0m\u001b[37m\u001b[0m \u001b[1m0s\u001b[0m 32ms/step\n",
      "Prediction: [1], True Label: [1]\n",
      "Prediction: [1], True Label: [1]\n",
      "Prediction: [0], True Label: [0]\n",
      "Prediction: [0], True Label: [0]\n",
      "Prediction: [0], True Label: [0]\n",
      "Prediction: [1], True Label: [1]\n",
      "Prediction: [0], True Label: [0]\n",
      "Prediction: [0], True Label: [0]\n",
      "Prediction: [1], True Label: [1]\n",
      "Prediction: [0], True Label: [0]\n",
      "Test Accuracy: 100.00%\n"
     ]
    }
   ],
   "source": [
    "\n",
    "loss, accuracy = model.evaluate(x_test, y_test) \n",
    "y_pred=model.predict(x_test) \n",
    "predicted_classes = (y_pred >= 0.5).astype(int)\n",
    "for i in range(10): \n",
    "    print(f\"Prediction: {predicted_classes[i]}, True Label: {y_test[i]}\")\n",
    "print(f'Test Accuracy: {accuracy * 100:.2f}%') "
   ]
  },
  {
   "cell_type": "code",
   "execution_count": 23,
   "metadata": {},
   "outputs": [],
   "source": [
    "from sklearn.metrics import confusion_matrix,ConfusionMatrixDisplay"
   ]
  },
  {
   "cell_type": "code",
   "execution_count": 24,
   "metadata": {},
   "outputs": [
    {
     "name": "stdout",
     "output_type": "stream",
     "text": [
      "\u001b[1m1/1\u001b[0m \u001b[32m━━━━━━━━━━━━━━━━━━━━\u001b[0m\u001b[37m\u001b[0m \u001b[1m0s\u001b[0m 11ms/step\n"
     ]
    },
    {
     "data": {
      "text/plain": [
       "<sklearn.metrics._plot.confusion_matrix.ConfusionMatrixDisplay at 0x31b55a490>"
      ]
     },
     "execution_count": 24,
     "metadata": {},
     "output_type": "execute_result"
    },
    {
     "data": {
      "image/png": "[encoded data removed]",
      "text/plain": [
       "<Figure size 640x480 with 2 Axes>"
      ]
     },
     "metadata": {},
     "output_type": "display_data"
    }
   ],
   "source": [
    "#confusion matrix \n",
    "\n",
    "y_pred=model.predict(x_test)\n",
    "predicted_classes = (y_pred >= 0.5).astype(int)\n",
    "conf_matrix = confusion_matrix(y_test, predicted_classes,labels=[0,1])\n",
    "\n",
    "disp = ConfusionMatrixDisplay(conf_matrix)\n",
    "disp.plot()"
   ]
  },
  {
   "cell_type": "code",
   "execution_count": 25,
   "metadata": {},
   "outputs": [
    {
     "name": "stdout",
     "output_type": "stream",
     "text": [
      "\u001b[1m2/2\u001b[0m \u001b[32m━━━━━━━━━━━━━━━━━━━━\u001b[0m\u001b[37m\u001b[0m \u001b[1m0s\u001b[0m 4ms/step \n",
      "              precision    recall  f1-score   support\n",
      "\n",
      "     class 0       0.75      0.86      0.80        21\n",
      "     class 1       0.88      0.79      0.84        29\n",
      "\n",
      "    accuracy                           0.82        50\n",
      "   macro avg       0.82      0.83      0.82        50\n",
      "weighted avg       0.83      0.82      0.82        50\n",
      "\n"
     ]
    }
   ],
   "source": [
    "from sklearn.metrics import classification_report\n",
    "\n",
    "y_pred = model.predict(x_train) \n",
    "y_pred = (y_pred >= 0.5).astype(int)\n",
    "print(classification_report(y_train, y_pred, target_names=['class 0', 'class 1']))"
   ]
  }
 ],
 "metadata": {
  "kernelspec": {
   "display_name": "Python 3",
   "language": "python",
   "name": "python3"
  },
  "language_info": {
   "codemirror_mode": {
    "name": "ipython",
    "version": 3
   },
   "file_extension": ".py",
   "mimetype": "text/x-python",
   "name": "python",
   "nbconvert_exporter": "python",
   "pygments_lexer": "ipython3",
   "version": "3.9.6"
  }
 },
 "nbformat": 4,
 "nbformat_minor": 2
}

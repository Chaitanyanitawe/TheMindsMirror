{
  "cells": [
    {
      "cell_type": "code",
      "execution_count": 2,
      "metadata": {
        "id": "VeTJwAn-xlTd"
      },
      "outputs": [],
      "source": [
        "import pandas as pd\n",
        "import numpy as np\n",
        "import matplotlib.pyplot as plt\n",
        "from scipy.interpolate import *\n",
        "import random\n",
        "import time\n",
        "from scipy.fft import *"
      ]
    },
    {
      "cell_type": "code",
      "execution_count": 3,
      "metadata": {
        "colab": {
          "base_uri": "https://localhost:8080/"
        },
        "id": "xq2wJsGnyOK0",
        "outputId": "42cbe02b-9135-4e05-da3c-40ee2d81aec5"
      },
      "outputs": [
        {
          "name": "stdout",
          "output_type": "stream",
          "text": [
            "   id  event_id device channel  code  size  \\\n",
            "0   0         0     MW     FP1     0  1017   \n",
            "1   1         1     MW     FP1     1   889   \n",
            "2   2         2     MW     FP1     4  1017   \n",
            "3   3         3     MW     FP1     1  1017   \n",
            "4   4         4     MW     FP1     8   952   \n",
            "\n",
            "                                                data  \n",
            "0  [38, 48, 51, 44, 48, 56, 56, 41, 20, -3, -9, -...  \n",
            "1  [83, 74, 65, 65, 66, 55, 43, 25, 18, 20, 26, 3...  \n",
            "2  [19, 10, -2, -9, -5, 3, 8, 7, 8, 2, -10, -21, ...  \n",
            "3  [17, 29, 36, 26, 21, 17, 17, 13, 17, 21, 25, 2...  \n",
            "4  [77, 74, 69, 70, 76, 75, 76, 75, 67, 66, 76, 9...  \n"
          ]
        }
      ],
      "source": [
        "# Load the file into a pandas DataFrame\n",
        "df =pd.read_csv('/content/MW.csv')\n",
        "df.columns = ['id', 'event_id', 'device', 'channel', 'code', 'size', 'data']\n",
        "\n",
        "#  convert each comma-separated string in the \"data\" column of a DataFrame df into a list of floats.(use apply and lambda)\n",
        "df['data'] = df['data'].str.split(',')\n",
        "df['data'] = df['data'].apply(lambda x: x if isinstance(x, list) else [])\n",
        "\n",
        "\n",
        "\n",
        "# Display the first few rows of the DataFrame\n",
        "print (df.head())"
      ]
    },
    {
      "cell_type": "code",
      "execution_count": 4,
      "metadata": {
        "id": "Gyz2pFDC2bLJ"
      },
      "outputs": [],
      "source": [
        "# Function to resample an array to the target length\n",
        "def resample_array(array, target_length):\n",
        "    # Create an array of indices for the input array\n",
        "    input_indices = np.linspace(0, len(array)-1, len(array))\n",
        "\n",
        "    # Create an array of indices for the resampled array\n",
        "    resampled_indices =np.linspace(0,len(array)-1,target_length)\n",
        "\n",
        "    # Create a linear interpolation function based on the input array\n",
        "    interpolator =interp1d(input_indices,array,'linear')\n",
        "\n",
        "    # Use the interpolator to create the resampled array\n",
        "    resampled_array =interpolator(resampled_indices)\n",
        "\n",
        "    return resampled_array.tolist()"
      ]
    },
    {
      "cell_type": "code",
      "execution_count": 6,
      "metadata": {
        "colab": {
          "base_uri": "https://localhost:8080/"
        },
        "id": "lsGuNbU42qT1",
        "outputId": "fcb3b0bb-6541-4a77-ad4b-d23a6b07f9f4"
      },
      "outputs": [
        {
          "name": "stdout",
          "output_type": "stream",
          "text": [
            "   id  event_id device channel  code  size  \\\n",
            "0   0         0     MW     FP1     0  1017   \n",
            "1   1         1     MW     FP1     1   889   \n",
            "2   2         2     MW     FP1     4  1017   \n",
            "3   3         3     MW     FP1     1  1017   \n",
            "4   4         4     MW     FP1     8   952   \n",
            "\n",
            "                                                data  \\\n",
            "0  [38, 48, 51, 44, 48, 56, 56, 41, 20, -3, -9, -...   \n",
            "1  [83, 74, 65, 65, 66, 55, 43, 25, 18, 20, 26, 3...   \n",
            "2  [19, 10, -2, -9, -5, 3, 8, 7, 8, 2, -10, -21, ...   \n",
            "3  [17, 29, 36, 26, 21, 17, 17, 13, 17, 21, 25, 2...   \n",
            "4  [77, 74, 69, 70, 76, 75, 76, 75, 67, 66, 76, 9...   \n",
            "\n",
            "                                      resampled_data  resampled_data_length  \n",
            "0  [38.0, 48.20168067226891, 50.05882352941177, 4...                    953  \n",
            "1  [83.0, 74.60504201680672, 66.21008403361344, 6...                    953  \n",
            "2  [19.0, 9.193277310924369, -2.941176470588235, ...                    953  \n",
            "3  [17.0, 29.470588235294116, 34.65546218487395, ...                    953  \n",
            "4  [77.0, 74.0031512605042, 69.01050420168067, 69...                    953  \n"
          ]
        }
      ],
      "source": [
        "median_length=int(df[\"size\"].median())\n",
        "# Resample all the data arrays to the median length(use lambda function and apply)\n",
        "df['resampled_data'] = df.apply(lambda row: resample_array(row['data'],median_length), axis=1)\n",
        "\n",
        "# Check the length of the resampled arrays\n",
        "df[\"resampled_data_length\"] = df[\"resampled_data\"].apply(len)\n",
        "\n",
        "# Display the first few rows of the updated DataFrame\n",
        "print(df.head())"
      ]
    },
    {
      "cell_type": "code",
      "execution_count": 5,
      "metadata": {
        "id": "Jtc530If0nwU"
      },
      "outputs": [],
      "source": [
        "data_array = np.array(df[\"resampled_data\"].tolist())\n",
        "codes = df['code'].tolist()"
      ]
    },
    {
      "cell_type": "code",
      "execution_count": 6,
      "metadata": {
        "id": "IGTyVZfWHJ8T"
      },
      "outputs": [],
      "source": [
        "srate = 220\n",
        "def time_frequency(data, cmwX, nKern):\n",
        "    ''''\n",
        "    Function to calculate time-frequency representation of multichannel data.\n",
        "\n",
        "    Parameters:\n",
        "    data : ndarray\n",
        "        The EEG data, array of shape (channels, time).\n",
        "    cmwX : ndarray\n",
        "        The Fourier coefficients of the complex Morlet wavelets, array of shape (frequencies, nConv).\n",
        "    nKern : int\n",
        "        The length of the wavelet kernel.\n",
        "    channel_labels : list, optional\n",
        "        The labels of the EEG channels. Must be the same length as the number of channels in the data.\n",
        "        If not provided, no channel labels will be used.\n",
        "\n",
        "    Returns:\n",
        "    tf : ndarray\n",
        "        The time-frequency representation of the data, array of shape (frequencies, time).\n",
        "        This is the average power across all channels.\n",
        "    '''\n",
        "\n",
        "    # set up convolution parameters\n",
        "    nData   = data.shape[1]\n",
        "    nConv   = nData + nKern - 1\n",
        "    halfwav = (nKern-1)//2\n",
        "\n",
        "    # initialize time-frequency output matrix\n",
        "    tf = np.zeros((data.shape[0], cmwX.shape[0], data.shape[1])) # channels X frequency X times\n",
        "\n",
        "    # loop over channels\n",
        "    for chani in range(data.shape[0]):\n",
        "\n",
        "        # compute Fourier coefficients of EEG data\n",
        "        eegX = fft(data[chani, :] , nConv)\n",
        "\n",
        "        # perform convolution and extract power (vectorized across frequencies)\n",
        "        as_ = ifft(cmwX * eegX[None, :], axis=1)\n",
        "        as_ = as_[:, halfwav: -halfwav]\n",
        "        tf[chani, :, :] = np.abs(as_) ** 2\n",
        "\n",
        "    return tf\n",
        "\n",
        "\n",
        "def get_cmwX(nData, freqrange=[1,40], numfrex=42):\n",
        "    '''\n",
        "    Function to calculate the Fourier coefficients of complex Morlet wavelets.\n",
        "\n",
        "    Parameters:\n",
        "    nData : int\n",
        "        The number of data points.\n",
        "    freqrange : list, optional\n",
        "        The range of frequencies to consider. Defaults to [1,40].\n",
        "    numfrex : int, optional\n",
        "        The number of frequencies between the lowest and highest frequency. Defaults to 42.\n",
        "\n",
        "    Returns:\n",
        "    cmwX : ndarray\n",
        "        The Fourier coefficients of the complex Morlet wavelets, array of shape (frequencies, nConv).\n",
        "    nKern : int\n",
        "        The length of the wavelet kernel.\n",
        "    frex : ndarray\n",
        "        The array of frequencies.\n",
        "    '''\n",
        "    pi = np.pi\n",
        "    wavtime = np.arange(-2,2-1/srate,1/srate)\n",
        "    nKern = len(wavtime)\n",
        "    nConv = nData + nKern - 1\n",
        "    frex = np.linspace(freqrange[0],freqrange[1],numfrex)\n",
        "   # create complex morlet wavelets array\n",
        "    cmwX = np.zeros((numfrex, nConv), dtype=complex)\n",
        "\n",
        "    # number of cycles\n",
        "    numcyc = np.linspace(3,15,numfrex);\n",
        "    for fi in range(numfrex):\n",
        "        # create time-domain wavelet\n",
        "        s = numcyc[fi] / (2*pi*frex[fi])\n",
        "        twoSsquared = (2*s) ** 2\n",
        "        cmw = np.exp(2*1j*pi*frex[fi]*wavtime) * np.exp( (-wavtime**2) / twoSsquared )\n",
        "\n",
        "\n",
        "        # compute fourier coefficients of wavelet and normalize\n",
        "        cmwX[fi, :] = fft(cmw, nConv)\n",
        "        cmwX[fi, :] = cmwX[fi, :] / max(cmwX[fi, :])\n",
        "\n",
        "    return cmwX, nKern, frex"
      ]
    },
    {
      "cell_type": "code",
      "execution_count": null,
      "metadata": {
        "id": "zJiuiE1lGKUy"
      },
      "outputs": [],
      "source": [
        "starting_freq = 1\n",
        "end_freq = 6\n",
        "num_frequencies = 10\n",
        "\n",
        "#  Creates an array of time values starting from 0 to 2 seconds, with a total number of elements defined by median_length.\n",
        "times = np.linspace(0,2,median_length)\n",
        "\n",
        "nData = data_array.shape[1]\n",
        "cmwX, nKern, frex = get_cmwX(nData, freqrange=[starting_freq, end_freq], numfrex=num_frequencies)\n",
        "tf = time_frequency(data_array, cmwX, nKern)\n",
        "\n",
        "fig, axs = plt.subplots(3, 3, figsize=(15, 10))\n",
        "\n",
        "for i,ax in enumerate(axs.flat):\n",
        "  x = random.randint(0, tf.shape[0])\n",
        "  contour = ax.contourf(times, frex, tf[x,:,:], 40, cmap='jet')\n",
        "  ax.set_xlabel('Time (s)')\n",
        "  ax.set_ylabel('Frequencies (Hz)')\n",
        "  ax.set_title(f\"Time Frequency Plot for {'non-digit' if codes[x] == -1 else 'digit'}\")\n",
        "\n",
        "fig.tight_layout()"
      ]
    }
  ],
  "metadata": {
    "colab": {
      "provenance": []
    },
    "kernelspec": {
      "display_name": "Python 3",
      "name": "python3"
    },
    "language_info": {
      "name": "python"
    }
  },
  "nbformat": 4,
  "nbformat_minor": 0
}

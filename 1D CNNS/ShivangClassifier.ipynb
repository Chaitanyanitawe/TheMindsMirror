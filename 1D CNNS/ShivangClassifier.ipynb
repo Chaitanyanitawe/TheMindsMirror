{
 "cells": [
  {
   "cell_type": "code",
   "execution_count": 1,
   "metadata": {},
   "outputs": [
    {
     "name": "stderr",
     "output_type": "stream",
     "text": [
      "2024-06-25 19:10:54.585457: I tensorflow/core/platform/cpu_feature_guard.cc:210] This TensorFlow binary is optimized to use available CPU instructions in performance-critical operations.\n",
      "To enable the following instructions: SSE4.1 SSE4.2 AVX AVX2 FMA, in other operations, rebuild TensorFlow with the appropriate compiler flags.\n"
     ]
    }
   ],
   "source": [
    "import pandas as pd\n",
    "import numpy as np\n",
    "import os\n",
    "from tensorflow import keras\n",
    "import tensorflow as tf\n",
    "from matplotlib import pyplot as plt\n",
    "from sklearn.preprocessing import RobustScaler\n",
    "from sklearn.metrics import confusion_matrix,ConfusionMatrixDisplay\n",
    "from sklearn.model_selection import train_test_split\n",
    "%matplotlib inline"
   ]
  },
  {
   "cell_type": "code",
   "execution_count": 2,
   "metadata": {},
   "outputs": [],
   "source": [
    "def list_csv_files(directory):\n",
    "    csv_files = [f for f in os.listdir(directory) if f.endswith('.csv')]\n",
    "    return csv_files"
   ]
  },
  {
   "cell_type": "code",
   "execution_count": 3,
   "metadata": {},
   "outputs": [],
   "source": [
    "def load_and_process_csv(file_path):\n",
    "    df = pd.read_csv(file_path,header=None)\n",
    "    return df.iloc[:,:4]    "
   ]
  },
  {
   "cell_type": "code",
   "execution_count": 4,
   "metadata": {},
   "outputs": [
    {
     "data": {
      "text/html": [
       "<div>\n",
       "<style scoped>\n",
       "    .dataframe tbody tr th:only-of-type {\n",
       "        vertical-align: middle;\n",
       "    }\n",
       "\n",
       "    .dataframe tbody tr th {\n",
       "        vertical-align: top;\n",
       "    }\n",
       "\n",
       "    .dataframe thead th {\n",
       "        text-align: right;\n",
       "    }\n",
       "</style>\n",
       "<table border=\"1\" class=\"dataframe\">\n",
       "  <thead>\n",
       "    <tr style=\"text-align: right;\">\n",
       "      <th></th>\n",
       "      <th>0</th>\n",
       "      <th>1</th>\n",
       "      <th>2</th>\n",
       "      <th>3</th>\n",
       "      <th>4</th>\n",
       "      <th>5</th>\n",
       "      <th>6</th>\n",
       "      <th>7</th>\n",
       "    </tr>\n",
       "  </thead>\n",
       "  <tbody>\n",
       "    <tr>\n",
       "      <th>0</th>\n",
       "      <td>300074</td>\n",
       "      <td>233255</td>\n",
       "      <td>180406</td>\n",
       "      <td>170009</td>\n",
       "      <td>0</td>\n",
       "      <td>0</td>\n",
       "      <td>0</td>\n",
       "      <td>0</td>\n",
       "    </tr>\n",
       "    <tr>\n",
       "      <th>1</th>\n",
       "      <td>300107</td>\n",
       "      <td>233298</td>\n",
       "      <td>180506</td>\n",
       "      <td>170026</td>\n",
       "      <td>0</td>\n",
       "      <td>0</td>\n",
       "      <td>0</td>\n",
       "      <td>0</td>\n",
       "    </tr>\n",
       "    <tr>\n",
       "      <th>2</th>\n",
       "      <td>300069</td>\n",
       "      <td>233186</td>\n",
       "      <td>180483</td>\n",
       "      <td>170026</td>\n",
       "      <td>0</td>\n",
       "      <td>0</td>\n",
       "      <td>0</td>\n",
       "      <td>0</td>\n",
       "    </tr>\n",
       "    <tr>\n",
       "      <th>3</th>\n",
       "      <td>300029</td>\n",
       "      <td>233094</td>\n",
       "      <td>180408</td>\n",
       "      <td>170018</td>\n",
       "      <td>0</td>\n",
       "      <td>0</td>\n",
       "      <td>0</td>\n",
       "      <td>0</td>\n",
       "    </tr>\n",
       "    <tr>\n",
       "      <th>4</th>\n",
       "      <td>300065</td>\n",
       "      <td>233188</td>\n",
       "      <td>180442</td>\n",
       "      <td>170023</td>\n",
       "      <td>0</td>\n",
       "      <td>0</td>\n",
       "      <td>0</td>\n",
       "      <td>0</td>\n",
       "    </tr>\n",
       "  </tbody>\n",
       "</table>\n",
       "</div>"
      ],
      "text/plain": [
       "        0       1       2       3  4  5  6  7\n",
       "0  300074  233255  180406  170009  0  0  0  0\n",
       "1  300107  233298  180506  170026  0  0  0  0\n",
       "2  300069  233186  180483  170026  0  0  0  0\n",
       "3  300029  233094  180408  170018  0  0  0  0\n",
       "4  300065  233188  180442  170023  0  0  0  0"
      ]
     },
     "execution_count": 4,
     "metadata": {},
     "output_type": "execute_result"
    }
   ],
   "source": [
    "df = pd.read_csv(\"shivang51.csv\",header=None)\n",
    "df.head()"
   ]
  },
  {
   "cell_type": "code",
   "execution_count": 5,
   "metadata": {},
   "outputs": [
    {
     "data": {
      "text/html": [
       "<div>\n",
       "<style scoped>\n",
       "    .dataframe tbody tr th:only-of-type {\n",
       "        vertical-align: middle;\n",
       "    }\n",
       "\n",
       "    .dataframe tbody tr th {\n",
       "        vertical-align: top;\n",
       "    }\n",
       "\n",
       "    .dataframe thead th {\n",
       "        text-align: right;\n",
       "    }\n",
       "</style>\n",
       "<table border=\"1\" class=\"dataframe\">\n",
       "  <thead>\n",
       "    <tr style=\"text-align: right;\">\n",
       "      <th></th>\n",
       "      <th>0</th>\n",
       "      <th>1</th>\n",
       "      <th>2</th>\n",
       "      <th>3</th>\n",
       "    </tr>\n",
       "  </thead>\n",
       "  <tbody>\n",
       "    <tr>\n",
       "      <th>0</th>\n",
       "      <td>300074</td>\n",
       "      <td>233255</td>\n",
       "      <td>180406</td>\n",
       "      <td>170009</td>\n",
       "    </tr>\n",
       "    <tr>\n",
       "      <th>1</th>\n",
       "      <td>300107</td>\n",
       "      <td>233298</td>\n",
       "      <td>180506</td>\n",
       "      <td>170026</td>\n",
       "    </tr>\n",
       "    <tr>\n",
       "      <th>2</th>\n",
       "      <td>300069</td>\n",
       "      <td>233186</td>\n",
       "      <td>180483</td>\n",
       "      <td>170026</td>\n",
       "    </tr>\n",
       "    <tr>\n",
       "      <th>3</th>\n",
       "      <td>300029</td>\n",
       "      <td>233094</td>\n",
       "      <td>180408</td>\n",
       "      <td>170018</td>\n",
       "    </tr>\n",
       "    <tr>\n",
       "      <th>4</th>\n",
       "      <td>300065</td>\n",
       "      <td>233188</td>\n",
       "      <td>180442</td>\n",
       "      <td>170023</td>\n",
       "    </tr>\n",
       "  </tbody>\n",
       "</table>\n",
       "</div>"
      ],
      "text/plain": [
       "        0       1       2       3\n",
       "0  300074  233255  180406  170009\n",
       "1  300107  233298  180506  170026\n",
       "2  300069  233186  180483  170026\n",
       "3  300029  233094  180408  170018\n",
       "4  300065  233188  180442  170023"
      ]
     },
     "execution_count": 5,
     "metadata": {},
     "output_type": "execute_result"
    }
   ],
   "source": [
    "df = df.iloc[:,:4]\n",
    "df.head()"
   ]
  },
  {
   "cell_type": "code",
   "execution_count": 6,
   "metadata": {},
   "outputs": [
    {
     "data": {
      "text/plain": [
       "23446"
      ]
     },
     "execution_count": 6,
     "metadata": {},
     "output_type": "execute_result"
    }
   ],
   "source": [
    "len(df)"
   ]
  },
  {
   "cell_type": "code",
   "execution_count": 7,
   "metadata": {},
   "outputs": [],
   "source": [
    "def extract_center_rows(data, start_range, end_range, length):\n",
    "    # Ensure that the range is valid\n",
    "    if start_range > end_range:\n",
    "        raise ValueError(\"start_range should be less than or equal to end_range\")\n",
    "\n",
    "    if end_range - start_range<length:\n",
    "        return False,0\n",
    "    # Get the rows within the specified range\n",
    "    range_data = data.loc[start_range:end_range]\n",
    "    \n",
    "    # Ensure that the length is not greater than the number of rows in the range\n",
    "    if length > len(range_data):\n",
    "        raise ValueError(\"The specified length is greater than the number of rows in the range\")\n",
    "    \n",
    "    # Calculate the center of the range\n",
    "    center_index = len(range_data) // 2\n",
    "    \n",
    "    # Calculate the starting and ending indices for the extraction\n",
    "    start_index = max(0, center_index - length // 2)\n",
    "    end_index = start_index + length\n",
    "    \n",
    "    # Extract the rows from the DataFrame\n",
    "    center_rows = range_data.iloc[start_index:end_index]\n",
    "    \n",
    "    return True,center_rows"
   ]
  },
  {
   "cell_type": "code",
   "execution_count": 8,
   "metadata": {},
   "outputs": [],
   "source": [
    "numeric_labels = [\"one.png\",\"two.jpg\",\"three.jpg\",\"four.jpg\",\"five.jpg\",\"six.jpg\",\"seven.jpg\",\"eight.jpg\",\"nine.jpg\"]\n",
    "non_numeric_label = \"animal.jpg\"\n",
    "def process_label(label):\n",
    "    return label.removesuffix(\".png\").removesuffix(\".jpg\")"
   ]
  },
  {
   "cell_type": "code",
   "execution_count": 9,
   "metadata": {},
   "outputs": [],
   "source": [
    "datashape = (1000,4)"
   ]
  },
  {
   "cell_type": "markdown",
   "metadata": {},
   "source": [
    "# Y encoding \n",
    "0->Numerical , 1-> Non Numerical"
   ]
  },
  {
   "cell_type": "code",
   "execution_count": 10,
   "metadata": {},
   "outputs": [],
   "source": [
    "def extract_data_between_markers(data, start_marker, end_marker):\n",
    "    start_idx = data.index[data[0] == start_marker].tolist()[0]\n",
    "    end_idx = data.index[data[0] == end_marker].tolist()[0]\n",
    "    return extract_center_rows(data,start_idx,end_idx,datashape[0])"
   ]
  },
  {
   "cell_type": "code",
   "execution_count": 11,
   "metadata": {},
   "outputs": [],
   "source": [
    "X,Y = [],[]"
   ]
  },
  {
   "cell_type": "code",
   "execution_count": 12,
   "metadata": {},
   "outputs": [],
   "source": [
    "for f in list_csv_files(\".\"):\n",
    "    data = load_and_process_csv(f)\n",
    "    for l in numeric_labels:\n",
    "        has_data,value = extract_data_between_markers(data,\"start \"+l,\"end \"+l)\n",
    "        if has_data:\n",
    "            X.append(np.array(value,dtype='float'))\n",
    "            Y.append(0)"
   ]
  },
  {
   "cell_type": "code",
   "execution_count": 13,
   "metadata": {},
   "outputs": [],
   "source": [
    "for i in range(9):\n",
    "    for f in list_csv_files(\".\"):\n",
    "        data = load_and_process_csv(f)\n",
    "        has_data,value = extract_data_between_markers(data,\"start \"+non_numeric_label,\"end \"+non_numeric_label)\n",
    "        if has_data:\n",
    "            X.append(np.array(value,dtype='float'))\n",
    "            Y.append(1)"
   ]
  },
  {
   "cell_type": "code",
   "execution_count": 14,
   "metadata": {},
   "outputs": [
    {
     "data": {
      "text/plain": [
       "335"
      ]
     },
     "execution_count": 14,
     "metadata": {},
     "output_type": "execute_result"
    }
   ],
   "source": [
    "X = np.array(X)\n",
    "Y= np.array(Y)\n",
    "assert(len(X)==len(Y))\n",
    "len(Y)"
   ]
  },
  {
   "cell_type": "code",
   "execution_count": 15,
   "metadata": {},
   "outputs": [
    {
     "data": {
      "text/plain": [
       "(335, 1000, 4)"
      ]
     },
     "execution_count": 15,
     "metadata": {},
     "output_type": "execute_result"
    }
   ],
   "source": [
    "X.shape"
   ]
  },
  {
   "cell_type": "code",
   "execution_count": 16,
   "metadata": {},
   "outputs": [],
   "source": [
    "scaler = RobustScaler()\n",
    "scaler.fit(X[0])\n",
    "for i,v in enumerate(X):\n",
    "    X[i] = scaler.transform(v)"
   ]
  },
  {
   "cell_type": "code",
   "execution_count": 17,
   "metadata": {},
   "outputs": [],
   "source": [
    "X_train, X_test, y_train, y_test = train_test_split(X, Y, test_size=0.1, random_state=2)"
   ]
  },
  {
   "cell_type": "code",
   "execution_count": 18,
   "metadata": {},
   "outputs": [
    {
     "data": {
      "text/plain": [
       "array([[[  13.12548227,   21.84858044,   30.75772358,  -27.66610169],\n",
       "        [  13.09241227,   21.82460568,   30.59512195,  -27.63220339],\n",
       "        [  13.06375161,   21.87255521,   30.50840108,  -27.60847458],\n",
       "        ...,\n",
       "        [  12.95498806,   21.3022082 ,   32.89322493,  -25.58474576],\n",
       "        [  12.98438361,   21.22523659,   33.00813008,  -25.69322034],\n",
       "        [  12.99026272,   21.19747634,   32.96693767,  -25.67627119]],\n",
       "\n",
       "       [[  60.00624656,  254.40126183, 1848.90840108, 2705.80847458],\n",
       "        [  60.09663788,  254.28138801, 1849.03848238, 2706.20847458],\n",
       "        [  60.09884255,  254.27634069, 1849.02330623, 2706.1779661 ],\n",
       "        ...,\n",
       "        [  61.71265846,  255.34006309, 1869.3897019 , 2725.83559322],\n",
       "        [  61.6310858 ,  255.46876972, 1869.34850949, 2725.48983051],\n",
       "        [  61.58037847,  255.56088328, 1869.34200542, 2725.32372881]],\n",
       "\n",
       "       [[ -30.51883153,  115.48138801, 1349.57181572, 1951.40847458],\n",
       "        [ -30.41227264,  115.57223975, 1349.65853659, 1951.4220339 ],\n",
       "        [ -30.3953702 ,  115.58107256, 1349.67371274, 1951.39152542],\n",
       "        ...,\n",
       "        [ -27.82252434,  120.86435331, 1370.89214092, 1980.34745763],\n",
       "        [ -27.89307367,  120.81009464, 1370.86395664, 1980.35762712],\n",
       "        [ -27.97244167,  120.77476341, 1370.84444444, 1980.43220339]],\n",
       "\n",
       "       [[ -10.32776043,  400.86309148, 4192.92574526, 6534.02542373],\n",
       "        [ -10.31967665,  400.84921136, 4192.95392954, 6534.08644068],\n",
       "        [ -10.3160022 ,  400.8340694 , 4192.99512195, 6534.14067797],\n",
       "        ...,\n",
       "        [ -13.51497336,  396.6384858 , 4206.31111111, 6557.31355932],\n",
       "        [ -13.51938269,  396.63343849, 4206.33929539, 6557.33050847],\n",
       "        [ -13.52305714,  396.62839117, 4206.35230352, 6557.35084746]],\n",
       "\n",
       "       [[  56.37075142,  252.99432177, 1808.2796748 , 2667.86949153],\n",
       "        [  56.44130075,  252.90347003, 1808.38590786, 2668.20169492],\n",
       "        [  56.3788352 ,  253.00063091, 1808.38157182, 2667.95762712],\n",
       "        ...,\n",
       "        [  58.37185376,  253.96971609, 1829.28780488, 2687.46610169],\n",
       "        [  58.27484843,  254.08832808, 1829.1902439 , 2687.12711864],\n",
       "        [  58.25941576,  254.12996845, 1829.20325203, 2687.12372881]]])"
      ]
     },
     "execution_count": 18,
     "metadata": {},
     "output_type": "execute_result"
    }
   ],
   "source": [
    "X_train[:5]"
   ]
  },
  {
   "cell_type": "code",
   "execution_count": 19,
   "metadata": {},
   "outputs": [
    {
     "data": {
      "text/plain": [
       "(array([20.,  0.,  0.,  0.,  0.,  0.,  0.,  0.,  0., 14.]),\n",
       " array([0. , 0.1, 0.2, 0.3, 0.4, 0.5, 0.6, 0.7, 0.8, 0.9, 1. ]),\n",
       " <BarContainer object of 10 artists>)"
      ]
     },
     "execution_count": 19,
     "metadata": {},
     "output_type": "execute_result"
    },
    {
     "data": {
      "image/png": "[encoded data removed]",
      "text/plain": [
       "<Figure size 640x480 with 1 Axes>"
      ]
     },
     "metadata": {},
     "output_type": "display_data"
    }
   ],
   "source": [
    "plt.hist(y_test)"
   ]
  },
  {
   "cell_type": "code",
   "execution_count": 20,
   "metadata": {},
   "outputs": [
    {
     "name": "stderr",
     "output_type": "stream",
     "text": [
      "2024-06-25 19:11:04.334111: I external/local_xla/xla/stream_executor/cuda/cuda_executor.cc:998] successful NUMA node read from SysFS had negative value (-1), but there must be at least one NUMA node, so returning NUMA node zero. See more at https://github.com/torvalds/linux/blob/v6.0/Documentation/ABI/testing/sysfs-bus-pci#L344-L355\n",
      "2024-06-25 19:11:04.790847: I external/local_xla/xla/stream_executor/cuda/cuda_executor.cc:998] successful NUMA node read from SysFS had negative value (-1), but there must be at least one NUMA node, so returning NUMA node zero. See more at https://github.com/torvalds/linux/blob/v6.0/Documentation/ABI/testing/sysfs-bus-pci#L344-L355\n",
      "2024-06-25 19:11:04.791066: I external/local_xla/xla/stream_executor/cuda/cuda_executor.cc:998] successful NUMA node read from SysFS had negative value (-1), but there must be at least one NUMA node, so returning NUMA node zero. See more at https://github.com/torvalds/linux/blob/v6.0/Documentation/ABI/testing/sysfs-bus-pci#L344-L355\n",
      "2024-06-25 19:11:04.795213: I external/local_xla/xla/stream_executor/cuda/cuda_executor.cc:998] successful NUMA node read from SysFS had negative value (-1), but there must be at least one NUMA node, so returning NUMA node zero. See more at https://github.com/torvalds/linux/blob/v6.0/Documentation/ABI/testing/sysfs-bus-pci#L344-L355\n",
      "2024-06-25 19:11:04.795396: I external/local_xla/xla/stream_executor/cuda/cuda_executor.cc:998] successful NUMA node read from SysFS had negative value (-1), but there must be at least one NUMA node, so returning NUMA node zero. See more at https://github.com/torvalds/linux/blob/v6.0/Documentation/ABI/testing/sysfs-bus-pci#L344-L355\n",
      "2024-06-25 19:11:04.795542: I external/local_xla/xla/stream_executor/cuda/cuda_executor.cc:998] successful NUMA node read from SysFS had negative value (-1), but there must be at least one NUMA node, so returning NUMA node zero. See more at https://github.com/torvalds/linux/blob/v6.0/Documentation/ABI/testing/sysfs-bus-pci#L344-L355\n",
      "2024-06-25 19:11:06.312348: I external/local_xla/xla/stream_executor/cuda/cuda_executor.cc:998] successful NUMA node read from SysFS had negative value (-1), but there must be at least one NUMA node, so returning NUMA node zero. See more at https://github.com/torvalds/linux/blob/v6.0/Documentation/ABI/testing/sysfs-bus-pci#L344-L355\n",
      "2024-06-25 19:11:06.313715: I external/local_xla/xla/stream_executor/cuda/cuda_executor.cc:998] successful NUMA node read from SysFS had negative value (-1), but there must be at least one NUMA node, so returning NUMA node zero. See more at https://github.com/torvalds/linux/blob/v6.0/Documentation/ABI/testing/sysfs-bus-pci#L344-L355\n",
      "2024-06-25 19:11:06.313879: I external/local_xla/xla/stream_executor/cuda/cuda_executor.cc:998] successful NUMA node read from SysFS had negative value (-1), but there must be at least one NUMA node, so returning NUMA node zero. See more at https://github.com/torvalds/linux/blob/v6.0/Documentation/ABI/testing/sysfs-bus-pci#L344-L355\n",
      "2024-06-25 19:11:06.314570: I tensorflow/core/common_runtime/gpu/gpu_device.cc:1928] Created device /job:localhost/replica:0/task:0/device:GPU:0 with 9712 MB memory:  -> device: 0, name: NVIDIA GeForce RTX 3060, pci bus id: 0000:29:00.0, compute capability: 8.6\n"
     ]
    }
   ],
   "source": [
    "model = keras.Sequential([\n",
    "    keras.layers.Input((datashape[0],datashape[1],1)),\n",
    "    keras.layers.Conv2D(64,(2,2),activation='relu'),\n",
    "    keras.layers.Conv2D(32,(2,2),activation='sigmoid'),\n",
    "    keras.layers.AveragePooling2D(pool_size=(2, 2)),\n",
    "    keras.layers.Flatten(),\n",
    "    keras.layers.Dense(512,activation='relu'),\n",
    "    keras.layers.Dropout(0.5),\n",
    "    keras.layers.Dense(128,activation='relu'),\n",
    "    keras.layers.Dropout(0.5),\n",
    "    keras.layers.Dense(64,activation='relu'),\n",
    "    keras.layers.Dropout(0.5),\n",
    "    keras.layers.Dense(1,activation='sigmoid'),\n",
    "])"
   ]
  },
  {
   "cell_type": "code",
   "execution_count": 21,
   "metadata": {},
   "outputs": [],
   "source": [
    "model.compile(loss='binary_crossentropy',optimizer=keras.optimizers.Adam(learning_rate=0.001),metrics=['accuracy'])"
   ]
  },
  {
   "cell_type": "code",
   "execution_count": null,
   "metadata": {},
   "outputs": [
    {
     "name": "stdout",
     "output_type": "stream",
     "text": [
      "Epoch 1/200\n"
     ]
    },
    {
     "name": "stderr",
     "output_type": "stream",
     "text": [
      "2024-06-25 19:11:07.360486: W external/local_tsl/tsl/framework/cpu_allocator_impl.cc:83] Allocation of 32702464 exceeds 10% of free system memory.\n",
      "WARNING: All log messages before absl::InitializeLog() is called are written to STDERR\n",
      "I0000 00:00:1719322867.874387   20564 service.cc:145] XLA service 0x7f65c807ed80 initialized for platform CUDA (this does not guarantee that XLA will be used). Devices:\n",
      "I0000 00:00:1719322867.876552   20564 service.cc:153]   StreamExecutor device (0): NVIDIA GeForce RTX 3060, Compute Capability 8.6\n",
      "2024-06-25 19:11:07.999693: I tensorflow/compiler/mlir/tensorflow/utils/dump_mlir_util.cc:268] disabling MLIR crash reproducer, set env var `MLIR_CRASH_REPRODUCER_DIRECTORY` to enable.\n",
      "2024-06-25 19:11:10.543300: I external/local_xla/xla/stream_executor/cuda/cuda_dnn.cc:465] Loaded cuDNN version 8907\n"
     ]
    }
   ],
   "source": [
    "history = model.fit(X_train,y_train,epochs=200,validation_split=0.1)"
   ]
  },
  {
   "cell_type": "code",
   "execution_count": null,
   "metadata": {},
   "outputs": [],
   "source": [
    "plt.figure(figsize=(12, 6))\n",
    "plt.title(\"Epoch vs Accuracy\")\n",
    "plt.plot(history.history['val_accuracy'], label= 'val_accuracy')\n",
    "plt.plot(history.history['accuracy'], linestyle='--', label='accuracy')\n",
    "plt.xlabel('Epochs')\n",
    "plt.ylabel('Accuracy')\n",
    "plt.legend()\n",
    "plt.show()"
   ]
  },
  {
   "cell_type": "code",
   "execution_count": null,
   "metadata": {},
   "outputs": [],
   "source": [
    "plt.figure(figsize=(12, 6))\n",
    "plt.title(\"Epoch vs loss\")\n",
    "plt.plot(history.history['val_loss'], label= 'val_loss')\n",
    "plt.plot(history.history['loss'], linestyle='--', label='loss')\n",
    "plt.xlabel('Epochs')\n",
    "plt.ylabel('Loss')\n",
    "plt.legend()\n",
    "plt.show()"
   ]
  },
  {
   "cell_type": "code",
   "execution_count": null,
   "metadata": {},
   "outputs": [],
   "source": [
    "np.unique(y_test)"
   ]
  },
  {
   "cell_type": "code",
   "execution_count": null,
   "metadata": {},
   "outputs": [],
   "source": [
    "y_pred = model.predict(X_test)\n",
    "y_pred = np.array([i>0.5 for i in y_pred],dtype='int').ravel()"
   ]
  },
  {
   "cell_type": "code",
   "execution_count": null,
   "metadata": {},
   "outputs": [],
   "source": [
    "np.unique(y_pred)"
   ]
  },
  {
   "cell_type": "code",
   "execution_count": null,
   "metadata": {},
   "outputs": [],
   "source": [
    "y_pred"
   ]
  },
  {
   "cell_type": "code",
   "execution_count": null,
   "metadata": {},
   "outputs": [],
   "source": [
    "y_test"
   ]
  },
  {
   "cell_type": "code",
   "execution_count": null,
   "metadata": {},
   "outputs": [],
   "source": [
    "conf_matrix = confusion_matrix(y_test, y_pred,labels=[0,1])\n",
    "disp = ConfusionMatrixDisplay(conf_matrix)\n",
    "disp.plot()"
   ]
  }
 ],
 "metadata": {
  "kernelspec": {
   "display_name": "Python 3 (ipykernel)",
   "language": "python",
   "name": "python3"
  },
  "language_info": {
   "codemirror_mode": {
    "name": "ipython",
    "version": 3
   },
   "file_extension": ".py",
   "mimetype": "text/x-python",
   "name": "python",
   "nbconvert_exporter": "python",
   "pygments_lexer": "ipython3",
   "version": "3.12.4"
  }
 },
 "nbformat": 4,
 "nbformat_minor": 4
}

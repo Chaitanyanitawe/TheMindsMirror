{
 "cells": [
  {
   "cell_type": "code",
   "execution_count": 45,
   "metadata": {},
   "outputs": [],
   "source": [
    "import numpy as np\n",
    "import pandas as pd\n",
    "import os\n",
    "from sklearn.preprocessing import StandardScaler\n",
    "from sklearn.impute import SimpleImputer\n",
    "scaler = StandardScaler()"
   ]
  },
  {
   "cell_type": "code",
   "execution_count": 46,
   "metadata": {},
   "outputs": [],
   "source": [
    "def preprocess(df):\n",
    "    df.isnull().sum()\n",
    "    imputer= SimpleImputer(missing_values =np.nan, strategy='mean')\n",
    "    new_columns = df.columns[0:]\n",
    "    df[new_columns] = scaler.fit_transform(df[new_columns]) \n",
    "    return df"
   ]
  },
  {
   "cell_type": "code",
   "execution_count": 47,
   "metadata": {},
   "outputs": [
    {
     "name": "stdout",
     "output_type": "stream",
     "text": [
      "   Output1  Output2  Output3  Output4\n",
      "0   346633   641184   967388   766141\n",
      "1   346601   641089   967336   766075\n",
      "2   346579   641075   967236   766038\n",
      "3   346613   641203   967284   766120\n",
      "4   346657   641295   967412   766200\n"
     ]
    }
   ],
   "source": [
    "\n",
    "columns_to_read = ['Output1', 'Output2', 'Output3', 'Output4']\n",
    "df = pd.read_csv('0.csv', usecols=columns_to_read)\n",
    "\n",
    "print(df.head())"
   ]
  },
  {
   "cell_type": "code",
   "execution_count": 48,
   "metadata": {},
   "outputs": [
    {
     "data": {
      "text/html": [
       "<div>\n",
       "<style scoped>\n",
       "    .dataframe tbody tr th:only-of-type {\n",
       "        vertical-align: middle;\n",
       "    }\n",
       "\n",
       "    .dataframe tbody tr th {\n",
       "        vertical-align: top;\n",
       "    }\n",
       "\n",
       "    .dataframe thead th {\n",
       "        text-align: right;\n",
       "    }\n",
       "</style>\n",
       "<table border=\"1\" class=\"dataframe\">\n",
       "  <thead>\n",
       "    <tr style=\"text-align: right;\">\n",
       "      <th></th>\n",
       "      <th>Output1</th>\n",
       "      <th>Output2</th>\n",
       "      <th>Output3</th>\n",
       "      <th>Output4</th>\n",
       "    </tr>\n",
       "  </thead>\n",
       "  <tbody>\n",
       "    <tr>\n",
       "      <th>0</th>\n",
       "      <td>-1.771175</td>\n",
       "      <td>-1.731275</td>\n",
       "      <td>-1.729870</td>\n",
       "      <td>-1.681770</td>\n",
       "    </tr>\n",
       "    <tr>\n",
       "      <th>1</th>\n",
       "      <td>-1.812177</td>\n",
       "      <td>-1.768148</td>\n",
       "      <td>-1.748065</td>\n",
       "      <td>-1.732504</td>\n",
       "    </tr>\n",
       "    <tr>\n",
       "      <th>2</th>\n",
       "      <td>-1.840366</td>\n",
       "      <td>-1.773582</td>\n",
       "      <td>-1.783057</td>\n",
       "      <td>-1.760945</td>\n",
       "    </tr>\n",
       "    <tr>\n",
       "      <th>3</th>\n",
       "      <td>-1.796801</td>\n",
       "      <td>-1.723900</td>\n",
       "      <td>-1.766261</td>\n",
       "      <td>-1.697912</td>\n",
       "    </tr>\n",
       "    <tr>\n",
       "      <th>4</th>\n",
       "      <td>-1.740423</td>\n",
       "      <td>-1.688191</td>\n",
       "      <td>-1.721472</td>\n",
       "      <td>-1.636417</td>\n",
       "    </tr>\n",
       "  </tbody>\n",
       "</table>\n",
       "</div>"
      ],
      "text/plain": [
       "    Output1   Output2   Output3   Output4\n",
       "0 -1.771175 -1.731275 -1.729870 -1.681770\n",
       "1 -1.812177 -1.768148 -1.748065 -1.732504\n",
       "2 -1.840366 -1.773582 -1.783057 -1.760945\n",
       "3 -1.796801 -1.723900 -1.766261 -1.697912\n",
       "4 -1.740423 -1.688191 -1.721472 -1.636417"
      ]
     },
     "execution_count": 48,
     "metadata": {},
     "output_type": "execute_result"
    }
   ],
   "source": [
    "df=preprocess(df)\n",
    "df.head()"
   ]
  },
  {
   "cell_type": "code",
   "execution_count": null,
   "metadata": {},
   "outputs": [],
   "source": []
  }
 ],
 "metadata": {
  "kernelspec": {
   "display_name": "Python 3",
   "language": "python",
   "name": "python3"
  },
  "language_info": {
   "codemirror_mode": {
    "name": "ipython",
    "version": 3
   },
   "file_extension": ".py",
   "mimetype": "text/x-python",
   "name": "python",
   "nbconvert_exporter": "python",
   "pygments_lexer": "ipython3",
   "version": "3.9.6"
  }
 },
 "nbformat": 4,
 "nbformat_minor": 2
}

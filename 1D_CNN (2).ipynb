{
  "nbformat": 4,
  "nbformat_minor": 0,
  "metadata": {
    "colab": {
      "provenance": []
    },
    "kernelspec": {
      "name": "python3",
      "display_name": "Python 3"
    },
    "language_info": {
      "name": "python"
    }
  },
  "cells": [
    {
      "cell_type": "code",
      "source": [
        "import pandas as pd\n",
        "import numpy as np\n",
        "import glob\n",
        "from scipy.interpolate import interp1d\n",
        "import tensorflow as tf\n",
        "from tensorflow import keras\n",
        "from tensorflow.keras import layers,models,optimizers,losses,metrics\n",
        "from sklearn.model_selection import train_test_split,KFold,cross_val_score\n",
        "import matplotlib.pyplot as plt\n",
        "from sklearn.metrics import confusion_matrix\n",
        "import seaborn as sns\n",
        "from sklearn.preprocessing import StandardScaler"
      ],
      "metadata": {
        "id": "LjXKAG08Vg7j"
      },
      "execution_count": null,
      "outputs": []
    },
    {
      "cell_type": "code",
      "source": [
        "csv=glob.glob(\"/content/*.csv\")"
      ],
      "metadata": {
        "id": "oKhHKM_d0-vb"
      },
      "execution_count": null,
      "outputs": []
    },
    {
      "cell_type": "code",
      "source": [
        "df=[]\n",
        "for files in csv:\n",
        "  tempdf=pd.read_csv(files)\n",
        "  tempdf.columns=['1','2','3','4','5','6','7','8']\n",
        "  df.append(tempdf)\n",
        "comb_df=pd.concat(df)\n",
        "comb_df.reset_index(drop=True, inplace=True)\n",
        "comb_df"
      ],
      "metadata": {
        "colab": {
          "base_uri": "https://localhost:8080/",
          "height": 424
        },
        "id": "BzTp0Py4FmfU",
        "outputId": "fbad7d4f-cf11-4664-ee7e-5786e06ad249"
      },
      "execution_count": null,
      "outputs": [
        {
          "output_type": "execute_result",
          "data": {
            "text/plain": [
              "                    1              2              3              4  \\\n",
              "0               80932          20107         207017         177101   \n",
              "1               80944          20101         207021         177049   \n",
              "2               80921          20023         207018         177059   \n",
              "3               80890          19976         207018         177117   \n",
              "4               80896          20011         207041         177162   \n",
              "...               ...            ...            ...            ...   \n",
              "415605         244420          78043         544689         415867   \n",
              "415606         243953          77773         544386         415731   \n",
              "415607         243383          77571         544100         415647   \n",
              "415608         243486          77710         544229         415732   \n",
              "415609  end seven.jpg  end seven.jpg  end seven.jpg  end seven.jpg   \n",
              "\n",
              "                    5              6              7              8  \n",
              "0                   0              0              0              0  \n",
              "1                   0              0              0              0  \n",
              "2                   0              0              0              0  \n",
              "3                   0              0              0              0  \n",
              "4                   0              0              0              0  \n",
              "...               ...            ...            ...            ...  \n",
              "415605              0              0              0              0  \n",
              "415606              0              0              0              0  \n",
              "415607              0              0              0              0  \n",
              "415608              0              0              0              0  \n",
              "415609  end seven.jpg  end seven.jpg  end seven.jpg  end seven.jpg  \n",
              "\n",
              "[415610 rows x 8 columns]"
            ],
            "text/html": [
              "\n",
              "  <div id=\"df-72525333-9764-4944-a71f-c90e8a7e3c08\" class=\"colab-df-container\">\n",
              "    <div>\n",
              "<style scoped>\n",
              "    .dataframe tbody tr th:only-of-type {\n",
              "        vertical-align: middle;\n",
              "    }\n",
              "\n",
              "    .dataframe tbody tr th {\n",
              "        vertical-align: top;\n",
              "    }\n",
              "\n",
              "    .dataframe thead th {\n",
              "        text-align: right;\n",
              "    }\n",
              "</style>\n",
              "<table border=\"1\" class=\"dataframe\">\n",
              "  <thead>\n",
              "    <tr style=\"text-align: right;\">\n",
              "      <th></th>\n",
              "      <th>1</th>\n",
              "      <th>2</th>\n",
              "      <th>3</th>\n",
              "      <th>4</th>\n",
              "      <th>5</th>\n",
              "      <th>6</th>\n",
              "      <th>7</th>\n",
              "      <th>8</th>\n",
              "    </tr>\n",
              "  </thead>\n",
              "  <tbody>\n",
              "    <tr>\n",
              "      <th>0</th>\n",
              "      <td>80932</td>\n",
              "      <td>20107</td>\n",
              "      <td>207017</td>\n",
              "      <td>177101</td>\n",
              "      <td>0</td>\n",
              "      <td>0</td>\n",
              "      <td>0</td>\n",
              "      <td>0</td>\n",
              "    </tr>\n",
              "    <tr>\n",
              "      <th>1</th>\n",
              "      <td>80944</td>\n",
              "      <td>20101</td>\n",
              "      <td>207021</td>\n",
              "      <td>177049</td>\n",
              "      <td>0</td>\n",
              "      <td>0</td>\n",
              "      <td>0</td>\n",
              "      <td>0</td>\n",
              "    </tr>\n",
              "    <tr>\n",
              "      <th>2</th>\n",
              "      <td>80921</td>\n",
              "      <td>20023</td>\n",
              "      <td>207018</td>\n",
              "      <td>177059</td>\n",
              "      <td>0</td>\n",
              "      <td>0</td>\n",
              "      <td>0</td>\n",
              "      <td>0</td>\n",
              "    </tr>\n",
              "    <tr>\n",
              "      <th>3</th>\n",
              "      <td>80890</td>\n",
              "      <td>19976</td>\n",
              "      <td>207018</td>\n",
              "      <td>177117</td>\n",
              "      <td>0</td>\n",
              "      <td>0</td>\n",
              "      <td>0</td>\n",
              "      <td>0</td>\n",
              "    </tr>\n",
              "    <tr>\n",
              "      <th>4</th>\n",
              "      <td>80896</td>\n",
              "      <td>20011</td>\n",
              "      <td>207041</td>\n",
              "      <td>177162</td>\n",
              "      <td>0</td>\n",
              "      <td>0</td>\n",
              "      <td>0</td>\n",
              "      <td>0</td>\n",
              "    </tr>\n",
              "    <tr>\n",
              "      <th>...</th>\n",
              "      <td>...</td>\n",
              "      <td>...</td>\n",
              "      <td>...</td>\n",
              "      <td>...</td>\n",
              "      <td>...</td>\n",
              "      <td>...</td>\n",
              "      <td>...</td>\n",
              "      <td>...</td>\n",
              "    </tr>\n",
              "    <tr>\n",
              "      <th>415605</th>\n",
              "      <td>244420</td>\n",
              "      <td>78043</td>\n",
              "      <td>544689</td>\n",
              "      <td>415867</td>\n",
              "      <td>0</td>\n",
              "      <td>0</td>\n",
              "      <td>0</td>\n",
              "      <td>0</td>\n",
              "    </tr>\n",
              "    <tr>\n",
              "      <th>415606</th>\n",
              "      <td>243953</td>\n",
              "      <td>77773</td>\n",
              "      <td>544386</td>\n",
              "      <td>415731</td>\n",
              "      <td>0</td>\n",
              "      <td>0</td>\n",
              "      <td>0</td>\n",
              "      <td>0</td>\n",
              "    </tr>\n",
              "    <tr>\n",
              "      <th>415607</th>\n",
              "      <td>243383</td>\n",
              "      <td>77571</td>\n",
              "      <td>544100</td>\n",
              "      <td>415647</td>\n",
              "      <td>0</td>\n",
              "      <td>0</td>\n",
              "      <td>0</td>\n",
              "      <td>0</td>\n",
              "    </tr>\n",
              "    <tr>\n",
              "      <th>415608</th>\n",
              "      <td>243486</td>\n",
              "      <td>77710</td>\n",
              "      <td>544229</td>\n",
              "      <td>415732</td>\n",
              "      <td>0</td>\n",
              "      <td>0</td>\n",
              "      <td>0</td>\n",
              "      <td>0</td>\n",
              "    </tr>\n",
              "    <tr>\n",
              "      <th>415609</th>\n",
              "      <td>end seven.jpg</td>\n",
              "      <td>end seven.jpg</td>\n",
              "      <td>end seven.jpg</td>\n",
              "      <td>end seven.jpg</td>\n",
              "      <td>end seven.jpg</td>\n",
              "      <td>end seven.jpg</td>\n",
              "      <td>end seven.jpg</td>\n",
              "      <td>end seven.jpg</td>\n",
              "    </tr>\n",
              "  </tbody>\n",
              "</table>\n",
              "<p>415610 rows × 8 columns</p>\n",
              "</div>\n",
              "    <div class=\"colab-df-buttons\">\n",
              "\n",
              "  <div class=\"colab-df-container\">\n",
              "    <button class=\"colab-df-convert\" onclick=\"convertToInteractive('df-72525333-9764-4944-a71f-c90e8a7e3c08')\"\n",
              "            title=\"Convert this dataframe to an interactive table.\"\n",
              "            style=\"display:none;\">\n",
              "\n",
              "  <svg xmlns=\"http://www.w3.org/2000/svg\" height=\"24px\" viewBox=\"0 -960 960 960\">\n",
              "    <path d=\"M120-120v-720h720v720H120Zm60-500h600v-160H180v160Zm220 220h160v-160H400v160Zm0 220h160v-160H400v160ZM180-400h160v-160H180v160Zm440 0h160v-160H620v160ZM180-180h160v-160H180v160Zm440 0h160v-160H620v160Z\"/>\n",
              "  </svg>\n",
              "    </button>\n",
              "\n",
              "  <style>\n",
              "    .colab-df-container {\n",
              "      display:flex;\n",
              "      gap: 12px;\n",
              "    }\n",
              "\n",
              "    .colab-df-convert {\n",
              "      background-color: #E8F0FE;\n",
              "      border: none;\n",
              "      border-radius: 50%;\n",
              "      cursor: pointer;\n",
              "      display: none;\n",
              "      fill: #1967D2;\n",
              "      height: 32px;\n",
              "      padding: 0 0 0 0;\n",
              "      width: 32px;\n",
              "    }\n",
              "\n",
              "    .colab-df-convert:hover {\n",
              "      background-color: #E2EBFA;\n",
              "      box-shadow: 0px 1px 2px rgba(60, 64, 67, 0.3), 0px 1px 3px 1px rgba(60, 64, 67, 0.15);\n",
              "      fill: #174EA6;\n",
              "    }\n",
              "\n",
              "    .colab-df-buttons div {\n",
              "      margin-bottom: 4px;\n",
              "    }\n",
              "\n",
              "    [theme=dark] .colab-df-convert {\n",
              "      background-color: #3B4455;\n",
              "      fill: #D2E3FC;\n",
              "    }\n",
              "\n",
              "    [theme=dark] .colab-df-convert:hover {\n",
              "      background-color: #434B5C;\n",
              "      box-shadow: 0px 1px 3px 1px rgba(0, 0, 0, 0.15);\n",
              "      filter: drop-shadow(0px 1px 2px rgba(0, 0, 0, 0.3));\n",
              "      fill: #FFFFFF;\n",
              "    }\n",
              "  </style>\n",
              "\n",
              "    <script>\n",
              "      const buttonEl =\n",
              "        document.querySelector('#df-72525333-9764-4944-a71f-c90e8a7e3c08 button.colab-df-convert');\n",
              "      buttonEl.style.display =\n",
              "        google.colab.kernel.accessAllowed ? 'block' : 'none';\n",
              "\n",
              "      async function convertToInteractive(key) {\n",
              "        const element = document.querySelector('#df-72525333-9764-4944-a71f-c90e8a7e3c08');\n",
              "        const dataTable =\n",
              "          await google.colab.kernel.invokeFunction('convertToInteractive',\n",
              "                                                    [key], {});\n",
              "        if (!dataTable) return;\n",
              "\n",
              "        const docLinkHtml = 'Like what you see? Visit the ' +\n",
              "          '<a target=\"_blank\" href=https://colab.research.google.com/notebooks/data_table.ipynb>data table notebook</a>'\n",
              "          + ' to learn more about interactive tables.';\n",
              "        element.innerHTML = '';\n",
              "        dataTable['output_type'] = 'display_data';\n",
              "        await google.colab.output.renderOutput(dataTable, element);\n",
              "        const docLink = document.createElement('div');\n",
              "        docLink.innerHTML = docLinkHtml;\n",
              "        element.appendChild(docLink);\n",
              "      }\n",
              "    </script>\n",
              "  </div>\n",
              "\n",
              "\n",
              "<div id=\"df-bd1b271c-308a-4d96-a2f5-0ddc726c7a35\">\n",
              "  <button class=\"colab-df-quickchart\" onclick=\"quickchart('df-bd1b271c-308a-4d96-a2f5-0ddc726c7a35')\"\n",
              "            title=\"Suggest charts\"\n",
              "            style=\"display:none;\">\n",
              "\n",
              "<svg xmlns=\"http://www.w3.org/2000/svg\" height=\"24px\"viewBox=\"0 0 24 24\"\n",
              "     width=\"24px\">\n",
              "    <g>\n",
              "        <path d=\"M19 3H5c-1.1 0-2 .9-2 2v14c0 1.1.9 2 2 2h14c1.1 0 2-.9 2-2V5c0-1.1-.9-2-2-2zM9 17H7v-7h2v7zm4 0h-2V7h2v10zm4 0h-2v-4h2v4z\"/>\n",
              "    </g>\n",
              "</svg>\n",
              "  </button>\n",
              "\n",
              "<style>\n",
              "  .colab-df-quickchart {\n",
              "      --bg-color: #E8F0FE;\n",
              "      --fill-color: #1967D2;\n",
              "      --hover-bg-color: #E2EBFA;\n",
              "      --hover-fill-color: #174EA6;\n",
              "      --disabled-fill-color: #AAA;\n",
              "      --disabled-bg-color: #DDD;\n",
              "  }\n",
              "\n",
              "  [theme=dark] .colab-df-quickchart {\n",
              "      --bg-color: #3B4455;\n",
              "      --fill-color: #D2E3FC;\n",
              "      --hover-bg-color: #434B5C;\n",
              "      --hover-fill-color: #FFFFFF;\n",
              "      --disabled-bg-color: #3B4455;\n",
              "      --disabled-fill-color: #666;\n",
              "  }\n",
              "\n",
              "  .colab-df-quickchart {\n",
              "    background-color: var(--bg-color);\n",
              "    border: none;\n",
              "    border-radius: 50%;\n",
              "    cursor: pointer;\n",
              "    display: none;\n",
              "    fill: var(--fill-color);\n",
              "    height: 32px;\n",
              "    padding: 0;\n",
              "    width: 32px;\n",
              "  }\n",
              "\n",
              "  .colab-df-quickchart:hover {\n",
              "    background-color: var(--hover-bg-color);\n",
              "    box-shadow: 0 1px 2px rgba(60, 64, 67, 0.3), 0 1px 3px 1px rgba(60, 64, 67, 0.15);\n",
              "    fill: var(--button-hover-fill-color);\n",
              "  }\n",
              "\n",
              "  .colab-df-quickchart-complete:disabled,\n",
              "  .colab-df-quickchart-complete:disabled:hover {\n",
              "    background-color: var(--disabled-bg-color);\n",
              "    fill: var(--disabled-fill-color);\n",
              "    box-shadow: none;\n",
              "  }\n",
              "\n",
              "  .colab-df-spinner {\n",
              "    border: 2px solid var(--fill-color);\n",
              "    border-color: transparent;\n",
              "    border-bottom-color: var(--fill-color);\n",
              "    animation:\n",
              "      spin 1s steps(1) infinite;\n",
              "  }\n",
              "\n",
              "  @keyframes spin {\n",
              "    0% {\n",
              "      border-color: transparent;\n",
              "      border-bottom-color: var(--fill-color);\n",
              "      border-left-color: var(--fill-color);\n",
              "    }\n",
              "    20% {\n",
              "      border-color: transparent;\n",
              "      border-left-color: var(--fill-color);\n",
              "      border-top-color: var(--fill-color);\n",
              "    }\n",
              "    30% {\n",
              "      border-color: transparent;\n",
              "      border-left-color: var(--fill-color);\n",
              "      border-top-color: var(--fill-color);\n",
              "      border-right-color: var(--fill-color);\n",
              "    }\n",
              "    40% {\n",
              "      border-color: transparent;\n",
              "      border-right-color: var(--fill-color);\n",
              "      border-top-color: var(--fill-color);\n",
              "    }\n",
              "    60% {\n",
              "      border-color: transparent;\n",
              "      border-right-color: var(--fill-color);\n",
              "    }\n",
              "    80% {\n",
              "      border-color: transparent;\n",
              "      border-right-color: var(--fill-color);\n",
              "      border-bottom-color: var(--fill-color);\n",
              "    }\n",
              "    90% {\n",
              "      border-color: transparent;\n",
              "      border-bottom-color: var(--fill-color);\n",
              "    }\n",
              "  }\n",
              "</style>\n",
              "\n",
              "  <script>\n",
              "    async function quickchart(key) {\n",
              "      const quickchartButtonEl =\n",
              "        document.querySelector('#' + key + ' button');\n",
              "      quickchartButtonEl.disabled = true;  // To prevent multiple clicks.\n",
              "      quickchartButtonEl.classList.add('colab-df-spinner');\n",
              "      try {\n",
              "        const charts = await google.colab.kernel.invokeFunction(\n",
              "            'suggestCharts', [key], {});\n",
              "      } catch (error) {\n",
              "        console.error('Error during call to suggestCharts:', error);\n",
              "      }\n",
              "      quickchartButtonEl.classList.remove('colab-df-spinner');\n",
              "      quickchartButtonEl.classList.add('colab-df-quickchart-complete');\n",
              "    }\n",
              "    (() => {\n",
              "      let quickchartButtonEl =\n",
              "        document.querySelector('#df-bd1b271c-308a-4d96-a2f5-0ddc726c7a35 button');\n",
              "      quickchartButtonEl.style.display =\n",
              "        google.colab.kernel.accessAllowed ? 'block' : 'none';\n",
              "    })();\n",
              "  </script>\n",
              "</div>\n",
              "\n",
              "  <div id=\"id_cafbd68c-ddda-4a64-bddb-e1fd22a03468\">\n",
              "    <style>\n",
              "      .colab-df-generate {\n",
              "        background-color: #E8F0FE;\n",
              "        border: none;\n",
              "        border-radius: 50%;\n",
              "        cursor: pointer;\n",
              "        display: none;\n",
              "        fill: #1967D2;\n",
              "        height: 32px;\n",
              "        padding: 0 0 0 0;\n",
              "        width: 32px;\n",
              "      }\n",
              "\n",
              "      .colab-df-generate:hover {\n",
              "        background-color: #E2EBFA;\n",
              "        box-shadow: 0px 1px 2px rgba(60, 64, 67, 0.3), 0px 1px 3px 1px rgba(60, 64, 67, 0.15);\n",
              "        fill: #174EA6;\n",
              "      }\n",
              "\n",
              "      [theme=dark] .colab-df-generate {\n",
              "        background-color: #3B4455;\n",
              "        fill: #D2E3FC;\n",
              "      }\n",
              "\n",
              "      [theme=dark] .colab-df-generate:hover {\n",
              "        background-color: #434B5C;\n",
              "        box-shadow: 0px 1px 3px 1px rgba(0, 0, 0, 0.15);\n",
              "        filter: drop-shadow(0px 1px 2px rgba(0, 0, 0, 0.3));\n",
              "        fill: #FFFFFF;\n",
              "      }\n",
              "    </style>\n",
              "    <button class=\"colab-df-generate\" onclick=\"generateWithVariable('comb_df')\"\n",
              "            title=\"Generate code using this dataframe.\"\n",
              "            style=\"display:none;\">\n",
              "\n",
              "  <svg xmlns=\"http://www.w3.org/2000/svg\" height=\"24px\"viewBox=\"0 0 24 24\"\n",
              "       width=\"24px\">\n",
              "    <path d=\"M7,19H8.4L18.45,9,17,7.55,7,17.6ZM5,21V16.75L18.45,3.32a2,2,0,0,1,2.83,0l1.4,1.43a1.91,1.91,0,0,1,.58,1.4,1.91,1.91,0,0,1-.58,1.4L9.25,21ZM18.45,9,17,7.55Zm-12,3A5.31,5.31,0,0,0,4.9,8.1,5.31,5.31,0,0,0,1,6.5,5.31,5.31,0,0,0,4.9,4.9,5.31,5.31,0,0,0,6.5,1,5.31,5.31,0,0,0,8.1,4.9,5.31,5.31,0,0,0,12,6.5,5.46,5.46,0,0,0,6.5,12Z\"/>\n",
              "  </svg>\n",
              "    </button>\n",
              "    <script>\n",
              "      (() => {\n",
              "      const buttonEl =\n",
              "        document.querySelector('#id_cafbd68c-ddda-4a64-bddb-e1fd22a03468 button.colab-df-generate');\n",
              "      buttonEl.style.display =\n",
              "        google.colab.kernel.accessAllowed ? 'block' : 'none';\n",
              "\n",
              "      buttonEl.onclick = () => {\n",
              "        google.colab.notebook.generateWithVariable('comb_df');\n",
              "      }\n",
              "      })();\n",
              "    </script>\n",
              "  </div>\n",
              "\n",
              "    </div>\n",
              "  </div>\n"
            ],
            "application/vnd.google.colaboratory.intrinsic+json": {
              "type": "dataframe",
              "variable_name": "comb_df"
            }
          },
          "metadata": {},
          "execution_count": 48
        }
      ]
    },
    {
      "cell_type": "code",
      "source": [
        "start_markers=[\"start zero.png\",\"start one.png\",\"start two.jpg\",\"start three.jpg\",\"start four.jpg\",\"start five.jpg\",\"start six.jpg\",\"start seven.jpg\",\"start eight.jpg\",\"start nine.jpg\",\"start animal.jpg\"]\n",
        "end_markers=[\"end zero.png\",\"end one.png\",\"end two.jpg\",\"end three.jpg\",\"end four.jpg\",\"end five.jpg\",\"end six.jpg\",\"end seven.jpg\",\"end eight.jpg\",\"end nine.jpg\",\"end animal.jpg\"]"
      ],
      "metadata": {
        "id": "Pc4ovcIo2Rv3"
      },
      "execution_count": null,
      "outputs": []
    },
    {
      "cell_type": "code",
      "source": [
        "s=np.zeros((18,11),dtype=int)\n",
        "e=np.zeros((18,11),dtype=int)"
      ],
      "metadata": {
        "id": "OyAfoOF02cXV"
      },
      "execution_count": null,
      "outputs": []
    },
    {
      "cell_type": "code",
      "source": [
        "for j in range(11):\n",
        "  fil=0\n",
        "  for i in range(len(comb_df)):\n",
        "      if(comb_df['1'].iloc[i]==start_markers[j]):\n",
        "        s[fil][j]=i\n",
        "        continue\n",
        "      if(comb_df['1'].iloc[i]==end_markers[j]):\n",
        "        e[fil][j]=i\n",
        "        fil+=1\n",
        "      if(fil==18):\n",
        "        break"
      ],
      "metadata": {
        "id": "0Xa1O8er2m4g"
      },
      "execution_count": null,
      "outputs": []
    },
    {
      "cell_type": "code",
      "source": [
        "s"
      ],
      "metadata": {
        "colab": {
          "base_uri": "https://localhost:8080/"
        },
        "id": "N5TeR7lZ2_r9",
        "outputId": "9962fd26-bf76-4c2b-ff35-9016c2426c8e"
      },
      "execution_count": null,
      "outputs": [
        {
          "output_type": "execute_result",
          "data": {
            "text/plain": [
              "array([[ 18960,  17167,   4353,  20840,   2431,  13579,  15373,   8069,\n",
              "         11785,   9863,   6147],\n",
              "       [ 31900,  27864,  36105,  26006,  24340,  40228,  36642,  43304,\n",
              "         34462,  42150,  29978],\n",
              "       [ 55217,  47494,  66877,  63161,  58933,  49451,  53423,  64955,\n",
              "         60966,  51373,  57139],\n",
              "       [ 75458,  83078,  71556,  77380,  81145,  86862,  73408,  79302,\n",
              "         88656,  90578,  84921],\n",
              "       [104029, 113383,  94139,  96085, 100185, 109667, 102107, 107745,\n",
              "        105951, 111461,  98263],\n",
              "       [116840, 129012, 134906, 136956, 122734, 124912, 118762, 120812,\n",
              "        126962, 133112, 131062],\n",
              "       [140797, 153739, 155533, 146307, 144385, 157455, 148101, 142591,\n",
              "        149988, 159353, 151817],\n",
              "       [169370, 174752, 167448, 171164, 163732, 176760, 180774, 161938,\n",
              "        173086, 178724, 165618],\n",
              "       [194353, 190065, 204268, 196275, 184231, 202297, 200119, 198197,\n",
              "        192175, 186153, 188075],\n",
              "       [221386, 215364, 225561, 211648, 207932, 223436, 219336, 213567,\n",
              "        209854, 227664, 217286],\n",
              "       [237269, 235596, 244701, 242779, 246623, 240985, 252389, 233452,\n",
              "        248514, 239191, 250467],\n",
              "       [272502, 270580, 259432, 257126, 263148, 265023, 276337, 261226,\n",
              "        268712, 266864, 274408],\n",
              "       [296645, 298511, 279665, 287363, 289157, 290567, 283647, 292873,\n",
              "        285569, 281665, 294795],\n",
              "       [313230, 315420, 306708, 317342, 319392, 323962, 321570, 304658,\n",
              "        311057, 308886, 302352],\n",
              "       [346809, 339377, 330998, 327205, 345015, 335661, 341299, 333611,\n",
              "        337540, 329255, 343221],\n",
              "       [351676, 349882, 355648, 363059, 357442, 361286, 368462, 364746,\n",
              "        366540, 359364, 353598],\n",
              "       [387937, 380505, 374995, 371407, 378825, 382299, 384221, 373201,\n",
              "        376917, 386143, 389731],\n",
              "       [399466, 407909, 403694, 412278, 393316, 401516, 395366, 414328,\n",
              "        405616, 397355, 409972]])"
            ]
          },
          "metadata": {},
          "execution_count": 52
        }
      ]
    },
    {
      "cell_type": "code",
      "source": [
        "e"
      ],
      "metadata": {
        "colab": {
          "base_uri": "https://localhost:8080/"
        },
        "id": "OoH59TZ2kbs9",
        "outputId": "9bccf5df-e1de-4a54-96ae-cbb0a00c8597"
      },
      "execution_count": null,
      "outputs": [
        {
          "output_type": "execute_result",
          "data": {
            "text/plain": [
              "array([[ 20242,  18448,   5634,  22036,   3584,  14860,  16654,   9350,\n",
              "         13066,  11144,   7428],\n",
              "       [ 33181,  28569,  36385,  27671,  25365,  41509,  39715,  45481,\n",
              "         35359,  43047,  31387],\n",
              "       [ 56498,  48682,  68158,  64442,  60214,  50732,  54576,  66236,\n",
              "         62136,  52654,  58420],\n",
              "       [ 76739,  84299,  72767,  78661,  82377,  88143,  74689,  80583,\n",
              "         89937,  91859,  86221],\n",
              "       [105310, 114664,  95444,  97366, 101466, 110948, 103260, 109026,\n",
              "        107104, 112742,  99288],\n",
              "       [118121, 130293, 136187, 138237, 124015, 126193, 120043, 122093,\n",
              "        128243, 134265, 132343],\n",
              "       [142078, 155020, 156814, 147588, 145666, 158736, 149382, 143872,\n",
              "        151176, 160658, 153098],\n",
              "       [170651, 176033, 168729, 172445, 165013, 177955, 182055, 163091,\n",
              "        174239, 179877, 166807],\n",
              "       [195634, 191278, 205500, 197556, 185512, 203578, 201400, 199478,\n",
              "        193456, 187434, 189356],\n",
              "       [222667, 216645, 226767, 212929, 209213, 224845, 220617, 214723,\n",
              "        211135, 228945, 218567],\n",
              "       [238550, 236756, 245982, 244060, 247904, 242266, 253670, 234834,\n",
              "        249698, 240472, 251748],\n",
              "       [273783, 271861, 260585, 258663, 264429, 266223, 277627, 262507,\n",
              "        269939, 268145, 275577],\n",
              "       [297870, 299792, 280828, 288644, 290438, 292360, 284928, 294154,\n",
              "        286850, 282878, 296076],\n",
              "       [314395, 316701, 307989, 318623, 320673, 325157, 322851, 305939,\n",
              "        312217, 310167, 303633],\n",
              "       [348090, 340658, 332202, 328486, 346296, 336942, 342580, 334892,\n",
              "        338736, 330536, 344502],\n",
              "       [352957, 351163, 356929, 364233, 358723, 362567, 369615, 366027,\n",
              "        367821, 360645, 354879],\n",
              "       [389218, 381658, 376276, 372688, 379992, 383580, 385502, 374482,\n",
              "        378198, 387424, 391012],\n",
              "       [400747, 409075, 404975, 413559, 394597, 402797, 396647, 415609,\n",
              "        406897, 398569, 411253]])"
            ]
          },
          "metadata": {},
          "execution_count": 53
        }
      ]
    },
    {
      "cell_type": "code",
      "source": [
        "def resample_array(array, target_length):\n",
        "    slr=StandardScaler()\n",
        "    input_indices = np.linspace(0, len(array)-1, len(array))\n",
        "    resampled_indices =np.linspace(0,len(array)-1,target_length)\n",
        "    interpolator =interp1d(input_indices,array,'linear')\n",
        "    resampled_array =interpolator(resampled_indices)\n",
        "    resampled_array=slr.fit_transform(resampled_array.reshape(-1,1)).flatten()\n",
        "    return resampled_array"
      ],
      "metadata": {
        "id": "XwKHEE5ekDOR"
      },
      "execution_count": null,
      "outputs": []
    },
    {
      "cell_type": "code",
      "source": [
        "x_num = []\n",
        "y_num = []\n",
        "x_anim = []\n",
        "y_anim = []\n",
        "\n",
        "for i in range(10):\n",
        "    for j in range(18):\n",
        "        x_num.append(\n",
        "            np.column_stack((resample_array(comb_df['1'].loc[(s[j][i]+1):(e[j][i]-1)].to_numpy().astype(int), 1200).flatten(),\n",
        "            resample_array(comb_df['2'].loc[(s[j][i]+1):(e[j][i]-1)].to_numpy().astype(int), 1200).flatten(),\n",
        "            resample_array(comb_df['3'].loc[(s[j][i]+1):(e[j][i]-1)].to_numpy().astype(int), 1200).flatten(),\n",
        "            resample_array(comb_df['4'].loc[(s[j][i]+1):(e[j][i]-1)].to_numpy().astype(int), 1200).flatten()))\n",
        "        )\n",
        "        y_num.append(1)\n",
        "for i in range(10,11):\n",
        "    for j in range(18):\n",
        "        x_anim.append(\n",
        "            np.column_stack((resample_array(comb_df['1'].loc[(s[j][i]+1):(e[j][i]-1)].to_numpy().astype(int), 1200).flatten(),\n",
        "            resample_array(comb_df['2'].loc[(s[j][i]+1):(e[j][i]-1)].to_numpy().astype(int), 1200).flatten(),\n",
        "            resample_array(comb_df['3'].loc[(s[j][i]+1):(e[j][i]-1)].to_numpy().astype(int), 1200).flatten(),\n",
        "            resample_array(comb_df['4'].loc[(s[j][i]+1):(e[j][i]-1)].to_numpy().astype(int), 1200).flatten()))\n",
        "        )\n",
        "        y_anim.append(0)\n",
        "x_num = np.array(x_num)\n",
        "y_num = np.array(y_num)\n",
        "x_anim = np.array(x_anim)\n",
        "y_anim = np.array(y_anim)"
      ],
      "metadata": {
        "id": "-ZQDVIIS3gMr"
      },
      "execution_count": 350,
      "outputs": []
    },
    {
      "cell_type": "markdown",
      "source": [
        "augmentation by averaging"
      ],
      "metadata": {
        "id": "havOuMTicyFE"
      }
    },
    {
      "cell_type": "code",
      "source": [
        "#average_x=[]\n",
        "#for i in range(160):\n",
        "  #indices=np.random.choice(18,3,replace=False)\n",
        "  #average_x.append(np.mean(x_anim[indices],axis=0))\n",
        "#average_x=np.array(average_x)\n",
        "#average_y=np.zeros(160)"
      ],
      "metadata": {
        "id": "Es2Ob0k8l9gG"
      },
      "execution_count": null,
      "outputs": []
    },
    {
      "cell_type": "code",
      "source": [
        "#x_anim=np.concatenate((average_x,x_anim),axis=0)\n",
        "#y_anim=np.concatenate((average_y,y_anim),axis=0)"
      ],
      "metadata": {
        "id": "Ro-juPGKqfmy"
      },
      "execution_count": null,
      "outputs": []
    },
    {
      "cell_type": "markdown",
      "source": [
        "augmentaion by recombining the time slices of original signals"
      ],
      "metadata": {
        "id": "DihJrKMuc2lW"
      }
    },
    {
      "cell_type": "code",
      "source": [
        "ts_x=[]\n",
        "slr=StandardScaler()\n",
        "for i in range(160):\n",
        "  indices=np.random.choice(18,3,replace=False)\n",
        "  ts_x.append(np.concatenate((x_anim[indices[0]][:400],x_anim[indices[1]][400:800],x_anim[indices[2]][800:1200]),axis=0))\n",
        "  ts_x[i]=slr.fit_transform(ts_x[i])\n",
        "ts_x=np.array(ts_x)\n",
        "ts_y=np.zeros(160)"
      ],
      "metadata": {
        "id": "_HUseEDJc106"
      },
      "execution_count": 351,
      "outputs": []
    },
    {
      "cell_type": "code",
      "source": [
        "ts_x.shape"
      ],
      "metadata": {
        "colab": {
          "base_uri": "https://localhost:8080/"
        },
        "id": "k5YLvqgWUNyr",
        "outputId": "afd7cad8-6c07-4a8c-9dbf-97593e8c6174"
      },
      "execution_count": 352,
      "outputs": [
        {
          "output_type": "execute_result",
          "data": {
            "text/plain": [
              "(160, 1200, 4)"
            ]
          },
          "metadata": {},
          "execution_count": 352
        }
      ]
    },
    {
      "cell_type": "code",
      "source": [
        "x_anim=np.concatenate((ts_x,x_anim),axis=0)\n",
        "y_anim=np.concatenate((ts_y,y_anim),axis=0)"
      ],
      "metadata": {
        "id": "BHPQJdDnm6g2"
      },
      "execution_count": 353,
      "outputs": []
    },
    {
      "cell_type": "code",
      "source": [
        "x=np.concatenate((x_num,x_anim),axis=0)\n",
        "y=np.concatenate((y_num,y_anim),axis=0)"
      ],
      "metadata": {
        "id": "EPzWOAX5ryVU"
      },
      "execution_count": 354,
      "outputs": []
    },
    {
      "cell_type": "code",
      "source": [
        "x_train,x_test,y_train,y_test=train_test_split(x,y,test_size=0.1)"
      ],
      "metadata": {
        "id": "uNIDNu1urWPv"
      },
      "execution_count": 355,
      "outputs": []
    },
    {
      "cell_type": "code",
      "source": [
        "x_train,x_val,y_train,y_val=train_test_split(x_train,y_train,test_size=0.1)"
      ],
      "metadata": {
        "id": "yWCD63h0EFOf"
      },
      "execution_count": 356,
      "outputs": []
    },
    {
      "cell_type": "code",
      "source": [
        "model=models.Sequential([\n",
        "    layers.Conv1D(32,8,padding='same',activation='relu',strides=1,input_shape=(1200,4)),\n",
        "    layers.AveragePooling1D(2,strides=2),\n",
        "    layers.BatchNormalization(),\n",
        "    layers.Flatten(),\n",
        "    layers.Dense(64,activation='relu'),\n",
        "    layers.Dropout(0.2),\n",
        "    layers.Dense(2,activation='sigmoid')\n",
        "])"
      ],
      "metadata": {
        "id": "WI6p7LHU-HIt"
      },
      "execution_count": 371,
      "outputs": []
    },
    {
      "cell_type": "code",
      "source": [
        "lr_schedule = tf.keras.optimizers.schedules.ExponentialDecay(\n",
        "    initial_learning_rate=0.001,\n",
        "    decay_steps=10000,\n",
        "    decay_rate=0.98,\n",
        "    staircase=True\n",
        ")"
      ],
      "metadata": {
        "id": "_WgOujXiTOyR"
      },
      "execution_count": 372,
      "outputs": []
    },
    {
      "cell_type": "code",
      "source": [
        "model.compile(optimizer=optimizers.Adam(learning_rate=lr_schedule),loss=losses.SparseCategoricalCrossentropy(from_logits=True),metrics=['accuracy'])"
      ],
      "metadata": {
        "id": "533ZdyT4wsv2"
      },
      "execution_count": 382,
      "outputs": []
    },
    {
      "cell_type": "code",
      "source": [
        "from tensorflow.keras.callbacks import EarlyStopping\n",
        "\n",
        "early_stopping = EarlyStopping(monitor='val_accuracy', patience=10, restore_best_weights=True)"
      ],
      "metadata": {
        "id": "xJm4KpxYlD0t"
      },
      "execution_count": 383,
      "outputs": []
    },
    {
      "cell_type": "code",
      "source": [
        "train=model.fit(x_train,y_train,epochs=40,validation_data=(x_val,y_val),batch_size=40,callbacks=early_stopping)"
      ],
      "metadata": {
        "colab": {
          "base_uri": "https://localhost:8080/"
        },
        "id": "OX3DefH3GE-w",
        "outputId": "20911c40-3b3b-4588-c8f4-03320c0e882f"
      },
      "execution_count": 384,
      "outputs": [
        {
          "output_type": "stream",
          "name": "stdout",
          "text": [
            "Epoch 1/40\n"
          ]
        },
        {
          "output_type": "stream",
          "name": "stderr",
          "text": [
            "/usr/local/lib/python3.10/dist-packages/keras/src/backend.py:5727: UserWarning: \"`sparse_categorical_crossentropy` received `from_logits=True`, but the `output` argument was produced by a Softmax activation and thus does not represent logits. Was this intended?\n",
            "  output, from_logits = _get_logits(\n"
          ]
        },
        {
          "output_type": "stream",
          "name": "stdout",
          "text": [
            "8/8 [==============================] - 2s 84ms/step - loss: 3.1086 - accuracy: 0.6955 - val_loss: 1.8305 - val_accuracy: 0.6667\n",
            "Epoch 2/40\n",
            "8/8 [==============================] - 1s 82ms/step - loss: 2.6545 - accuracy: 0.7958 - val_loss: 0.6144 - val_accuracy: 0.8182\n",
            "Epoch 3/40\n",
            "8/8 [==============================] - 1s 86ms/step - loss: 1.0375 - accuracy: 0.8166 - val_loss: 0.5503 - val_accuracy: 0.8485\n",
            "Epoch 4/40\n",
            "8/8 [==============================] - 1s 79ms/step - loss: 0.6796 - accuracy: 0.8858 - val_loss: 0.4123 - val_accuracy: 0.7273\n",
            "Epoch 5/40\n",
            "8/8 [==============================] - 1s 78ms/step - loss: 0.3639 - accuracy: 0.8651 - val_loss: 0.3736 - val_accuracy: 0.7879\n",
            "Epoch 6/40\n",
            "8/8 [==============================] - 1s 88ms/step - loss: 0.3403 - accuracy: 0.9031 - val_loss: 0.3767 - val_accuracy: 0.7879\n",
            "Epoch 7/40\n",
            "8/8 [==============================] - 1s 74ms/step - loss: 0.2249 - accuracy: 0.8893 - val_loss: 0.4103 - val_accuracy: 0.8182\n",
            "Epoch 8/40\n",
            "8/8 [==============================] - 0s 50ms/step - loss: 0.3162 - accuracy: 0.9100 - val_loss: 0.3269 - val_accuracy: 0.8182\n",
            "Epoch 9/40\n",
            "8/8 [==============================] - 0s 49ms/step - loss: 0.2283 - accuracy: 0.9308 - val_loss: 0.3311 - val_accuracy: 0.8182\n",
            "Epoch 10/40\n",
            "8/8 [==============================] - 0s 49ms/step - loss: 0.2500 - accuracy: 0.9135 - val_loss: 0.3131 - val_accuracy: 0.8182\n",
            "Epoch 11/40\n",
            "8/8 [==============================] - 0s 52ms/step - loss: 0.2449 - accuracy: 0.9343 - val_loss: 0.3334 - val_accuracy: 0.8182\n",
            "Epoch 12/40\n",
            "8/8 [==============================] - 0s 49ms/step - loss: 0.2009 - accuracy: 0.9170 - val_loss: 0.3211 - val_accuracy: 0.8182\n",
            "Epoch 13/40\n",
            "8/8 [==============================] - 0s 55ms/step - loss: 0.1719 - accuracy: 0.9343 - val_loss: 0.2741 - val_accuracy: 0.8788\n",
            "Epoch 14/40\n",
            "8/8 [==============================] - 0s 52ms/step - loss: 0.1525 - accuracy: 0.9516 - val_loss: 0.2796 - val_accuracy: 0.8485\n",
            "Epoch 15/40\n",
            "8/8 [==============================] - 0s 51ms/step - loss: 0.1501 - accuracy: 0.9204 - val_loss: 0.2681 - val_accuracy: 0.8485\n",
            "Epoch 16/40\n",
            "8/8 [==============================] - 0s 51ms/step - loss: 0.1305 - accuracy: 0.9585 - val_loss: 0.2475 - val_accuracy: 0.9091\n",
            "Epoch 17/40\n",
            "8/8 [==============================] - 0s 49ms/step - loss: 0.1384 - accuracy: 0.9412 - val_loss: 0.3526 - val_accuracy: 0.8485\n",
            "Epoch 18/40\n",
            "8/8 [==============================] - 0s 50ms/step - loss: 0.1183 - accuracy: 0.9446 - val_loss: 0.2689 - val_accuracy: 0.8485\n",
            "Epoch 19/40\n",
            "8/8 [==============================] - 0s 49ms/step - loss: 0.1081 - accuracy: 0.9516 - val_loss: 0.2674 - val_accuracy: 0.8485\n",
            "Epoch 20/40\n",
            "8/8 [==============================] - 0s 51ms/step - loss: 0.1183 - accuracy: 0.9481 - val_loss: 0.2802 - val_accuracy: 0.8485\n",
            "Epoch 21/40\n",
            "8/8 [==============================] - 0s 50ms/step - loss: 0.0979 - accuracy: 0.9758 - val_loss: 0.2395 - val_accuracy: 0.8485\n",
            "Epoch 22/40\n",
            "8/8 [==============================] - 0s 52ms/step - loss: 0.1106 - accuracy: 0.9516 - val_loss: 0.3261 - val_accuracy: 0.8485\n",
            "Epoch 23/40\n",
            "8/8 [==============================] - 0s 52ms/step - loss: 0.1232 - accuracy: 0.9516 - val_loss: 0.3214 - val_accuracy: 0.8485\n",
            "Epoch 24/40\n",
            "8/8 [==============================] - 0s 54ms/step - loss: 0.1316 - accuracy: 0.9550 - val_loss: 0.3386 - val_accuracy: 0.8485\n",
            "Epoch 25/40\n",
            "8/8 [==============================] - 0s 55ms/step - loss: 0.1172 - accuracy: 0.9550 - val_loss: 0.2816 - val_accuracy: 0.8485\n",
            "Epoch 26/40\n",
            "8/8 [==============================] - 0s 51ms/step - loss: 0.1096 - accuracy: 0.9516 - val_loss: 0.2177 - val_accuracy: 0.8485\n"
          ]
        }
      ]
    },
    {
      "cell_type": "code",
      "source": [
        "plt.plot(train.history['accuracy'])\n",
        "plt.plot(train.history['val_accuracy'])\n",
        "plt.title('Model accuracy')\n",
        "plt.ylabel('Accuracy')\n",
        "plt.xlabel('epochs')\n",
        "plt.legend(['Train', 'Validation'], loc='upper left')\n",
        "plt.show()"
      ],
      "metadata": {
        "colab": {
          "base_uri": "https://localhost:8080/",
          "height": 472
        },
        "id": "HZH0oUuFHDYz",
        "outputId": "d0e72688-1b8a-4066-d27c-b5e1a1182b53"
      },
      "execution_count": 385,
      "outputs": [
        {
          "output_type": "display_data",
          "data": {
            "text/plain": [
              "<Figure size 640x480 with 1 Axes>"
            ],
            "image/png": "[encoded data removed]"
          },
          "metadata": {}
        }
      ]
    },
    {
      "cell_type": "code",
      "source": [
        "model.evaluate(x_test,y_test)"
      ],
      "metadata": {
        "colab": {
          "base_uri": "https://localhost:8080/"
        },
        "id": "TEBSyjOIH-Qz",
        "outputId": "df19122d-3854-499e-f0ef-6f69bb991d12"
      },
      "execution_count": 386,
      "outputs": [
        {
          "output_type": "stream",
          "name": "stdout",
          "text": [
            "2/2 [==============================] - 0s 9ms/step - loss: 0.2447 - accuracy: 0.9444\n"
          ]
        },
        {
          "output_type": "execute_result",
          "data": {
            "text/plain": [
              "[0.24473953247070312, 0.9444444179534912]"
            ]
          },
          "metadata": {},
          "execution_count": 386
        }
      ]
    },
    {
      "cell_type": "code",
      "source": [
        "y_pred=model.predict(x_test)\n",
        "y_pred=np.argmax(y_pred,axis=1)\n",
        "cm = confusion_matrix(y_test, y_pred)\n",
        "cm"
      ],
      "metadata": {
        "colab": {
          "base_uri": "https://localhost:8080/"
        },
        "id": "zd_kexTD-epK",
        "outputId": "438ac44c-daba-4b3a-e530-80a6e5d004ab"
      },
      "execution_count": 387,
      "outputs": [
        {
          "output_type": "stream",
          "name": "stdout",
          "text": [
            "2/2 [==============================] - 0s 8ms/step\n"
          ]
        },
        {
          "output_type": "execute_result",
          "data": {
            "text/plain": [
              "array([[19,  2],\n",
              "       [ 0, 15]])"
            ]
          },
          "metadata": {},
          "execution_count": 387
        }
      ]
    },
    {
      "cell_type": "code",
      "source": [
        "# Plot of overall confusion matrix\n",
        "plt.figure(figsize=(5,3.5))\n",
        "sns.heatmap(cm, annot=True, fmt='d', cmap='YlGnBu', xticklabels=['non_numeric', 'numeric'], yticklabels=['non_numeric', 'numeric'])\n",
        "plt.xlabel('Predicted')\n",
        "plt.ylabel('True')\n",
        "plt.title('Overall Confusion Matrix')\n",
        "plt.show()"
      ],
      "metadata": {
        "colab": {
          "base_uri": "https://localhost:8080/",
          "height": 372
        },
        "id": "l6F8KwM1-WxK",
        "outputId": "f4f0cc8e-66ab-4561-b80b-9aaf3698c47b"
      },
      "execution_count": 388,
      "outputs": [
        {
          "output_type": "display_data",
          "data": {
            "text/plain": [
              "<Figure size 500x350 with 2 Axes>"
            ],
            "image/png": "[encoded data removed]"
          },
          "metadata": {}
        }
      ]
    },
    {
      "cell_type": "code",
      "source": [
        "from sklearn.metrics import f1_score, recall_score, precision_score, accuracy_score"
      ],
      "metadata": {
        "id": "kVmPS-BR_isx"
      },
      "execution_count": 389,
      "outputs": []
    },
    {
      "cell_type": "code",
      "source": [
        "f1 = f1_score(y_test, y_pred)\n",
        "f1"
      ],
      "metadata": {
        "colab": {
          "base_uri": "https://localhost:8080/"
        },
        "id": "Aot7Gb2K_ZwX",
        "outputId": "37a08c02-6a22-433b-f31d-24acb2739c94"
      },
      "execution_count": 390,
      "outputs": [
        {
          "output_type": "execute_result",
          "data": {
            "text/plain": [
              "0.9375"
            ]
          },
          "metadata": {},
          "execution_count": 390
        }
      ]
    },
    {
      "cell_type": "code",
      "source": [
        "recall= recall_score(y_test, y_pred)\n",
        "recall"
      ],
      "metadata": {
        "colab": {
          "base_uri": "https://localhost:8080/"
        },
        "id": "9rCtdG3t_ki_",
        "outputId": "64482286-eab2-49ef-8229-554fe8273351"
      },
      "execution_count": 391,
      "outputs": [
        {
          "output_type": "execute_result",
          "data": {
            "text/plain": [
              "1.0"
            ]
          },
          "metadata": {},
          "execution_count": 391
        }
      ]
    },
    {
      "cell_type": "code",
      "source": [
        "precision_score = precision_score(y_test, y_pred)\n",
        "precision_score"
      ],
      "metadata": {
        "colab": {
          "base_uri": "https://localhost:8080/"
        },
        "id": "kmB3C3J8_nTb",
        "outputId": "9e09478d-d726-4d51-b5ed-d9b8e0b311d0"
      },
      "execution_count": 392,
      "outputs": [
        {
          "output_type": "execute_result",
          "data": {
            "text/plain": [
              "0.8823529411764706"
            ]
          },
          "metadata": {},
          "execution_count": 392
        }
      ]
    },
    {
      "cell_type": "code",
      "source": [
        "accuracy_score  = accuracy_score(y_test, y_pred)\n",
        "accuracy_score"
      ],
      "metadata": {
        "colab": {
          "base_uri": "https://localhost:8080/"
        },
        "id": "bzsnoO-8_vtB",
        "outputId": "f4534f64-0ed2-48e3-d184-41841b6b519c"
      },
      "execution_count": 393,
      "outputs": [
        {
          "output_type": "execute_result",
          "data": {
            "text/plain": [
              "0.9444444444444444"
            ]
          },
          "metadata": {},
          "execution_count": 393
        }
      ]
    }
  ]
}